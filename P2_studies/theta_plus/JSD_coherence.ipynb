{
 "cells": [
  {
   "cell_type": "code",
   "execution_count": null,
   "metadata": {
    "ExecuteTime": {
     "end_time": "2020-05-14T01:00:10.879254Z",
     "start_time": "2020-05-14T01:00:10.874289Z"
    }
   },
   "outputs": [],
   "source": [
    "from scipy.spatial import distance\n",
    "from sklearn.feature_extraction.text import CountVectorizer\n",
    "import sklearn\n",
    "import numpy as np\n",
    "import swifter  # Makes applying to datframe as fast as vectorizing\n",
    "from nltk.probability import FreqDist\n",
    "import string\n",
    "from nltk.corpus import stopwords\n",
    "import glob\n",
    "import os\n",
    "import pandas as pd\n",
    "import re\n",
    "from textblob import TextBlob, Word\n",
    "import nltk\n",
    "from nltk.util import ngrams\n",
    "import re\n",
    "# nltk.download('stopwords')\n",
    "from sys import argv\n",
    "from scipy import sparse\n",
    "from ast import literal_eval\n",
    "import multiprocessing as mp\n",
    "from IPython.display import HTML, display\n",
    "import tabulate"
   ]
  },
  {
   "cell_type": "code",
   "execution_count": null,
   "metadata": {
    "ExecuteTime": {
     "end_time": "2020-05-14T01:00:11.167719Z",
     "start_time": "2020-05-14T01:00:11.161290Z"
    }
   },
   "outputs": [],
   "source": [
    "from matplotlib.ticker import FuncFormatter\n",
    "import matplotlib.colors as mcolors\n",
    "import matplotlib.pyplot as plt\n",
    "%matplotlib inline\n",
    "from matplotlib import cycler\n",
    "from matplotlib.widgets import CheckButtons\n",
    "\n",
    "# IPython_default = plt.rcParams.copy()\n",
    "\n",
    "plt.style.use('seaborn-paper')\n",
    "# colors = cycler('color',\n",
    "#                 ['#EE6666', '#3388BB', '#9988DD',\n",
    "#                  '#EECC55', '#88BB44', '#FFBBBB'])\n",
    "# plt.rc('axes', facecolor='#E6E6E6', edgecolor='none',\n",
    "#        axisbelow=True, grid=True, prop_cycle=colors)\n",
    "# plt.rc('grid', color='w', linestyle='solid')\n",
    "# plt.rc('xtick', direction='out', color='gray')\n",
    "# plt.rc('ytick', direction='out', color='gray')\n",
    "# plt.rc('patch', edgecolor='#E6E6E6')\n",
    "# plt.rc('lines', linewidth=2)"
   ]
  },
  {
   "cell_type": "code",
   "execution_count": null,
   "metadata": {
    "ExecuteTime": {
     "end_time": "2020-05-14T01:00:12.052756Z",
     "start_time": "2020-05-14T01:00:12.050039Z"
    },
    "code_folding": []
   },
   "outputs": [],
   "source": [
    "def fix_eval_issue(doc):\n",
    "    return literal_eval(doc)"
   ]
  },
  {
   "cell_type": "code",
   "execution_count": null,
   "metadata": {
    "ExecuteTime": {
     "end_time": "2020-05-14T01:00:13.167447Z",
     "start_time": "2020-05-14T01:00:13.066118Z"
    }
   },
   "outputs": [],
   "source": [
    "jsd_bigrams_freq_1_removed = pd.read_csv(\"~/Documents/mcl_jsd/bigrams/JSD_output_bigrams_freq_1_removed.csv\")\n",
    "jsd_bigrams_freq_1_removed = jsd_bigrams_freq_1_removed.reset_index(drop=True)\n",
    "jsd_bigrams_freq_1_removed.index = jsd_bigrams_freq_1_removed.index + 1"
   ]
  },
  {
   "cell_type": "code",
   "execution_count": null,
   "metadata": {
    "ExecuteTime": {
     "end_time": "2020-05-14T02:13:04.657685Z",
     "start_time": "2020-05-14T02:12:59.750035Z"
    },
    "code_folding": [
     0,
     18,
     22
    ]
   },
   "outputs": [],
   "source": [
    "column_names = ['weight', 'inflation', 'cluster', 'total_size', 'pre_jsd_size', 'missing_values',\n",
    "       'post_jsd_size', 'jsd_nans', 'mean_jsd', 'min_jsd', 'percentile_25_jsd',\n",
    "       'median_jsd', 'percentile_75_jsd', 'max_jsd', 'std_dev_jsd',\n",
    "       'total_unique_bigrams', 'random_jsd']\n",
    "\n",
    "ncf_20_jsd_bigrams_all_retained = pd.read_csv(\"~/Documents/mcl_jsd/bigrams/ncf_20_jsd_random.csv\", names=column_names)\n",
    "ncf_30_jsd_bigrams_all_retained = pd.read_csv(\"~/Documents/mcl_jsd/bigrams/ncf_30_jsd_random.csv\", names=column_names)\n",
    "ncf_40_jsd_bigrams_all_retained = pd.read_csv(\"~/Documents/mcl_jsd/bigrams/ncf_40_jsd_random.csv\", names=column_names)\n",
    "ncf_60_jsd_bigrams_all_retained = pd.read_csv(\"~/Documents/mcl_jsd/bigrams/ncf_60_jsd_random.csv\", names=column_names)\n",
    "sf_20_jsd_bigrams_all_retained = pd.read_csv(\"~/Documents/mcl_jsd/bigrams/sf_20_jsd_random.csv\", names=column_names)\n",
    "sf_30_jsd_bigrams_all_retained = pd.read_csv(\"~/Documents/mcl_jsd/bigrams/sf_30_jsd_random.csv\", names=column_names)\n",
    "sf_40_jsd_bigrams_all_retained = pd.read_csv(\"~/Documents/mcl_jsd/bigrams/sf_40_jsd_random.csv\", names=column_names)\n",
    "sf_60_jsd_bigrams_all_retained = pd.read_csv(\"~/Documents/mcl_jsd/bigrams/sf_60_jsd_random.csv\", names=column_names)\n",
    "now_20_jsd_bigrams_all_retained = pd.read_csv(\"~/Documents/mcl_jsd/bigrams/now_20_jsd_random.csv\", names=column_names)\n",
    "now_30_jsd_bigrams_all_retained = pd.read_csv(\"~/Documents/mcl_jsd/bigrams/now_30_jsd_random.csv\", names=column_names)\n",
    "now_40_jsd_bigrams_all_retained = pd.read_csv(\"~/Documents/mcl_jsd/bigrams/now_40_jsd_random.csv\", names=column_names)\n",
    "now_60_jsd_bigrams_all_retained = pd.read_csv(\"~/Documents/mcl_jsd/bigrams/now_60_jsd_random.csv\", names=column_names)\n",
    "\n",
    "names = ['NCF 20', 'NCF 30', 'NCF 40', 'NCF 60', \n",
    "         'SF 20', 'SF 30', 'SF 40', 'SF 60', \n",
    "         'NOW 20', 'NOW 30', 'NOW 40', 'NOW 60']\n",
    "\n",
    "df_list_bigrams_all_retained = [ncf_20_jsd_bigrams_all_retained, ncf_30_jsd_bigrams_all_retained, ncf_40_jsd_bigrams_all_retained, ncf_60_jsd_bigrams_all_retained, \n",
    "           sf_20_jsd_bigrams_all_retained, sf_30_jsd_bigrams_all_retained, sf_40_jsd_bigrams_all_retained, sf_60_jsd_bigrams_all_retained,\n",
    "          now_20_jsd_bigrams_all_retained, now_30_jsd_bigrams_all_retained, now_40_jsd_bigrams_all_retained, now_60_jsd_bigrams_all_retained]\n"
   ]
  },
  {
   "cell_type": "code",
   "execution_count": null,
   "metadata": {
    "ExecuteTime": {
     "end_time": "2020-05-14T14:38:42.825916Z",
     "start_time": "2020-05-14T14:38:42.811579Z"
    }
   },
   "outputs": [],
   "source": [
    "for df in df_list_bigrams_all_retained:\n",
    "    \n",
    "    df['random_jsd'] = df['random_jsd'].swifter.progress_bar(False).apply(fix_eval_issue)\n",
    "    df['mean_random_jsd'] = np.mean(df['random_jsd'].tolist(), axis = 1)\n",
    "    df['random_jsd_range'] = np.max(df['random_jsd'].tolist(), axis = 1)-np.min(df['random_jsd'].tolist(), axis = 1)\n",
    "    df['jsd_coherence_bigrams_all_retained'] = df['mean_random_jsd']-df['mean_jsd']\n"
   ]
  },
  {
   "cell_type": "code",
   "execution_count": null,
   "metadata": {},
   "outputs": [],
   "source": [
    "# sf_40_jsd_bigrams_all_retained = sf_40_jsd_bigrams_all_retained.drop_duplicates(subset='cluster').reset_index(drop=True) # ---> Accidentally ran the script twice for a few clusters\n",
    "\n",
    "ncf_20_bigrams_freq_1_removed = jsd_bigrams_freq_1_removed[(jsd_bigrams_freq_1_removed['weight'] =='ncf') & (jsd_bigrams_freq_1_removed['inflation'] == 20)][1:].reset_index(drop=True)\n",
    "ncf_30_bigrams_freq_1_removed = jsd_bigrams_freq_1_removed[(jsd_bigrams_freq_1_removed['weight'] =='ncf') & (jsd_bigrams_freq_1_removed['inflation'] == 30)][1:].reset_index(drop=True)\n",
    "ncf_40_bigrams_freq_1_removed = jsd_bigrams_freq_1_removed[(jsd_bigrams_freq_1_removed['weight'] =='ncf') & (jsd_bigrams_freq_1_removed['inflation'] == 40)][1:].reset_index(drop=True)\n",
    "ncf_60_bigrams_freq_1_removed = jsd_bigrams_freq_1_removed[(jsd_bigrams_freq_1_removed['weight'] =='ncf') & (jsd_bigrams_freq_1_removed['inflation'] == 60)][1:].reset_index(drop=True)\n",
    "\n",
    "sf_20_bigrams_freq_1_removed = jsd_bigrams_freq_1_removed[(jsd_bigrams_freq_1_removed['weight'] =='sf') & (jsd_bigrams_freq_1_removed['inflation'] == 20)][1:].reset_index(drop=True)\n",
    "sf_30_bigrams_freq_1_removed = jsd_bigrams_freq_1_removed[(jsd_bigrams_freq_1_removed['weight'] =='sf') & (jsd_bigrams_freq_1_removed['inflation'] == 30)][1:].reset_index(drop=True)\n",
    "sf_40_bigrams_freq_1_removed = jsd_bigrams_freq_1_removed[(jsd_bigrams_freq_1_removed['weight'] =='sf') & (jsd_bigrams_freq_1_removed['inflation'] == 40)][1:].reset_index(drop=True)\n",
    "sf_60_bigrams_freq_1_removed = jsd_bigrams_freq_1_removed[(jsd_bigrams_freq_1_removed['weight'] =='sf') & (jsd_bigrams_freq_1_removed['inflation'] == 60)][1:].reset_index(drop=True)\n",
    "\n",
    "now_20_bigrams_freq_1_removed = jsd_bigrams_freq_1_removed[(jsd_bigrams_freq_1_removed['weight'] =='now') & (jsd_bigrams_freq_1_removed['inflation'] == 20)][1:].reset_index(drop=True)\n",
    "now_30_bigrams_freq_1_removed = jsd_bigrams_freq_1_removed[(jsd_bigrams_freq_1_removed['weight'] =='now') & (jsd_bigrams_freq_1_removed['inflation'] == 30)][1:].reset_index(drop=True)\n",
    "now_40_bigrams_freq_1_removed = jsd_bigrams_freq_1_removed[(jsd_bigrams_freq_1_removed['weight'] =='now') & (jsd_bigrams_freq_1_removed['inflation'] == 40)][1:].reset_index(drop=True)\n",
    "now_60_bigrams_freq_1_removed = jsd_bigrams_freq_1_removed[(jsd_bigrams_freq_1_removed['weight'] =='now') & (jsd_bigrams_freq_1_removed['inflation'] == 60)][1:].reset_index(drop=True)\n",
    "\n",
    "\n",
    "now_30_bigrams_freq_1_removed = now_30_bigrams_freq_1_removed[(now_30_bigrams_freq_1_removed['cluster']!=3) & (now_30_bigrams_freq_1_removed['cluster']!=6) & (now_30_bigrams_freq_1_removed['cluster']!=7)].reset_index(drop=True)\n",
    "\n",
    "\n",
    "now_20_bigrams_freq_1_removed = now_20_bigrams_freq_1_removed[now_20_bigrams_freq_1_removed['cluster']!=18].reset_index(drop=True)\n",
    "now_40_bigrams_freq_1_removed = now_40_bigrams_freq_1_removed[now_40_bigrams_freq_1_removed['cluster']!=2].reset_index(drop=True)\n",
    "now_60_bigrams_freq_1_removed = now_60_bigrams_freq_1_removed[now_60_bigrams_freq_1_removed['cluster']!=2].reset_index(drop=True)\n",
    "sf_30_bigrams_freq_1_removed = sf_30_bigrams_freq_1_removed[sf_30_bigrams_freq_1_removed['cluster']!=2].reset_index(drop=True)\n",
    "sf_40_bigrams_freq_1_removed = sf_40_bigrams_freq_1_removed[sf_40_bigrams_freq_1_removed['cluster']!=2].reset_index(drop=True)\n",
    "\n",
    "df_list_bigrams_freq_1_removed = [ncf_20_bigrams_freq_1_removed, ncf_30_bigrams_freq_1_removed, ncf_40_bigrams_freq_1_removed, ncf_60_bigrams_freq_1_removed, \n",
    "               sf_20_bigrams_freq_1_removed, sf_30_bigrams_freq_1_removed, sf_40_bigrams_freq_1_removed, sf_60_bigrams_freq_1_removed,\n",
    "              now_20_bigrams_freq_1_removed, now_30_bigrams_freq_1_removed, now_40_bigrams_freq_1_removed, now_60_bigrams_freq_1_removed]"
   ]
  },
  {
   "cell_type": "code",
   "execution_count": null,
   "metadata": {
    "ExecuteTime": {
     "end_time": "2020-05-14T15:01:50.531726Z",
     "start_time": "2020-05-14T15:01:50.517173Z"
    }
   },
   "outputs": [],
   "source": [
    "for i in range(len(df_list_bigrams_all_retained)):\n",
    "    \n",
    "    df_list_bigrams_all_retained[i]['jsd_coherence_bigrams_freq_1_removed'] = df_list_bigrams_all_retained[i]['mean_random_jsd'] - df_list_bigrams_all_retained[i]['mean_jsd']\n",
    "    df_list_bigrams_freq_1_removed[i]['jsd_coherence_bigrams_freq_1_removed'] = df_list_bigrams_all_retained[i]['mean_random_jsd'] - df_list_bigrams_freq_1_removed[i]['mean_jsd']\n",
    "    \n",
    "    \n",
    "    df_list_bigrams_all_retained[i]['cluster_bins'] = ( (df_list_bigrams_all_retained[i]['pre_jsd_size']//10) * 10 ) + 5\n",
    "    df_list_bigrams_all_retained[i]['cluster_bins'] = df_list_bigrams_all_retained[i]['cluster_bins'].astype('int')\n",
    "    \n",
    "    df_list_bigrams_freq_1_removed[i]['cluster_bins'] = ( (df_list_bigrams_freq_1_removed[i]['post_jsd_size']//10) * 10 ) + 5\n",
    "    df_list_bigrams_freq_1_removed[i]['cluster_bins'] = df_list_bigrams_freq_1_removed[i]['cluster_bins'].astype('int')\n"
   ]
  },
  {
   "cell_type": "code",
   "execution_count": null,
   "metadata": {
    "ExecuteTime": {
     "end_time": "2020-05-14T14:24:08.656476Z",
     "start_time": "2020-05-14T14:24:08.251843Z"
    },
    "code_folding": [
     22
    ]
   },
   "outputs": [],
   "source": [
    "# from matplotlib.widgets import CheckButtons\n",
    "\n",
    "# plt.figure(figsize=(20, 8))\n",
    "# plt.title('Range of Random JSD Values by Cluster Number', fontsize=15)\n",
    "# ncf_20, = plt.plot(ncf_20_jsd['cluster'], ncf_20_jsd['random_jsd_range'], label = 'ncf 20', visible=False)\n",
    "# ncf_30, = plt.plot(ncf_30_jsd['cluster'], ncf_30_jsd['random_jsd_range'], label = 'ncf 30', visible=False)\n",
    "# ncf_40, = plt.plot(ncf_40_jsd['cluster'], ncf_40_jsd['random_jsd_range'], label = 'ncf 40', visible=False)\n",
    "# ncf_60, = plt.plot(ncf_60_jsd['cluster'], ncf_60_jsd['random_jsd_range'], label = 'ncf 60', visible=False)\n",
    "\n",
    "# sf_20, = plt.plot(sf_20_jsd['cluster'], sf_20_jsd['random_jsd_range'], label = 'sf 20', visible=False)\n",
    "# sf_30, = plt.plot(sf_30_jsd['cluster'], sf_30_jsd['random_jsd_range'], label = 'sf 30', visible=False)\n",
    "# sf_40, = plt.plot(sf_40_jsd['cluster'], sf_40_jsd['random_jsd_range'], label = 'sf 40', visible=False)\n",
    "# sf_60, = plt.plot(sf_60_jsd['cluster'], sf_60_jsd['random_jsd_range'], label = 'sf 60', visible=False)\n",
    "\n",
    "# now_20, = plt.plot(now_20_jsd['cluster'], now_20_jsd['random_jsd_range'], label = 'now 20', visible=True)\n",
    "# now_30, = plt.plot(now_30_jsd['cluster'], now_30_jsd['random_jsd_range'], label = 'now 30', visible=True)\n",
    "# now_40, = plt.plot(now_40_jsd['cluster'], now_40_jsd['random_jsd_range'], label = 'now 40', visible=True)\n",
    "# now_60, = plt.plot(now_60_jsd['cluster'], now_60_jsd['random_jsd_range'], label = 'now 60', visible=True)\n",
    "\n",
    "# plt.legend(handles=[ncf_20, ncf_30, ncf_40, ncf_60, \n",
    "#                     sf_20, sf_30, sf_40, sf_60,\n",
    "#                     now_20, now_30, now_40, now_60])\n",
    "\n",
    "# lines = [ncf_20, ncf_30, ncf_40, ncf_60,\n",
    "#          sf_20, sf_30, sf_40, sf_60,\n",
    "#          now_20, now_30, now_40, now_60]\n",
    "\n",
    "# plt.xlabel('Cluster Number', fontsize=12)\n",
    "# plt.ylabel('Random JSD Range', fontsize=12)\n",
    "\n",
    "# # Make checkbuttons with all plotted lines with correct visibility\n",
    "# rax = plt.axes([0.02, 0.4, 0.05, 0.25])\n",
    "# labels = [str(line.get_label()) for line in lines]\n",
    "# visibility = [line.get_visible() for line in lines]\n",
    "# check = CheckButtons(rax, labels, visibility)\n",
    "\n",
    "\n",
    "# def func(label):\n",
    "#     index = labels.index(label)\n",
    "#     lines[index].set_visible(not lines[index].get_visible())\n",
    "#     plt.draw()\n",
    "\n",
    "# check.on_clicked(func)\n",
    "\n",
    "# plt.show()"
   ]
  },
  {
   "cell_type": "code",
   "execution_count": null,
   "metadata": {
    "ExecuteTime": {
     "end_time": "2020-05-14T15:02:49.975652Z",
     "start_time": "2020-05-14T15:02:40.836025Z"
    }
   },
   "outputs": [],
   "source": [
    "# for i in range(len(df_list_bigrams_all_retained)):\n",
    "\n",
    "#     bp = df_list_bigrams_all_retained[i].boxplot(column = 'mean_jsd', by='cluster_bins', figsize=(20, 5), rot = 0)\n",
    "\n",
    "#     # label adjustment\n",
    "#     p = plt.gca()\n",
    "#     p.set_xlabel(\"Cluster Size\", fontsize = 12)\n",
    "#     p.set_ylabel(\"JSD\", fontsize = 12)\n",
    "#     title_text = names[i] + \" Mean JSD Values by Cluster Bins of Size 5\"\n",
    "#     plt.suptitle(title_text, fontsize=16)\n",
    "#     p.set_title(\"Vocabulary - All Retained\")\n",
    "#     p.tick_params(axis='y', labelsize=8)\n",
    "#     p.tick_params(axis='x', labelsize=8)"
   ]
  },
  {
   "cell_type": "code",
   "execution_count": null,
   "metadata": {
    "ExecuteTime": {
     "end_time": "2020-05-14T15:10:27.802787Z",
     "start_time": "2020-05-14T15:10:19.871324Z"
    }
   },
   "outputs": [],
   "source": [
    "# for i in range(len(df_list_bigrams_freq_1_removed)):\n",
    "\n",
    "#     bp = df_list_bigrams_freq_1_removed[i].boxplot(column = 'mean_jsd', by='cluster_bins', figsize=(20, 5), rot = 0)\n",
    "\n",
    "#     # label adjustment\n",
    "#     p = plt.gca()\n",
    "#     p.set_xlabel(\"Cluster Size\", fontsize = 12)\n",
    "#     p.set_ylabel(\"JSD\", fontsize = 12)\n",
    "#     title_text = names[i] + \" Mean JSD Values by Cluster Bins of Size 5\"\n",
    "#     plt.suptitle(title_text, fontsize=16)\n",
    "#     p.set_title(\"Vocabulary - Frequency 1 Removed\")\n",
    "#     p.tick_params(axis='y', labelsize=8)\n",
    "#     p.tick_params(axis='x', labelsize=8)"
   ]
  },
  {
   "cell_type": "code",
   "execution_count": null,
   "metadata": {},
   "outputs": [],
   "source": [
    "for i in range(len(df_list_bigrams_freq_1_removed)):\n",
    "\n",
    "    bp = df_list_bigrams_freq_1_removed[i].boxplot(column = 'mean_jsd', by='post_jsd_size', figsize=(20, 5), rot = 0)\n",
    "\n",
    "    # label adjustment\n",
    "    p = plt.gca()\n",
    "    p.set_xlabel(\"Cluster Size\", fontsize = 12)\n",
    "    p.set_ylabel(\"JSD\", fontsize = 12)\n",
    "    title_text = names[i] + \" Mean JSD Values by Cluster Sizes\"\n",
    "    plt.suptitle(title_text, fontsize=16)\n",
    "    p.set_title(\"Vocabulary - Frequency 1 Removed\")\n",
    "    p.tick_params(axis='y', labelsize=8)\n",
    "    p.tick_params(axis='x', labelsize=8)"
   ]
  },
  {
   "cell_type": "code",
   "execution_count": null,
   "metadata": {
    "ExecuteTime": {
     "end_time": "2020-05-14T00:27:59.899434Z",
     "start_time": "2020-05-14T00:27:23.084307Z"
    }
   },
   "outputs": [],
   "source": [
    "for i in range(len(df_list_bigrams_all_retained)):\n",
    "\n",
    "    bp = df_list_bigrams_all_retained[i].boxplot(column = 'jsd_coherence_bigrams_all_retained', by='post_jsd_size', figsize=(20, 5), rot = 90)\n",
    "\n",
    "    # label adjustment\n",
    "    p = plt.gca()\n",
    "    p.set_xlabel(\"Cluster Size\", fontsize = 12)\n",
    "    p.set_ylabel(\"JSD\", fontsize = 12)\n",
    "    title_text = names[i] + \" JSD Coherence Values by Cluster Size\"\n",
    "    plt.suptitle(title_text, fontsize=16)\n",
    "    p.set_title(\"Vocabulary - All Retained\")\n",
    "    p.tick_params(axis='y', labelsize=8)\n",
    "    p.tick_params(axis='x', labelsize=8)"
   ]
  },
  {
   "cell_type": "code",
   "execution_count": null,
   "metadata": {
    "ExecuteTime": {
     "end_time": "2020-05-14T14:32:53.903066Z",
     "start_time": "2020-05-14T14:32:18.758346Z"
    },
    "code_folding": []
   },
   "outputs": [],
   "source": [
    "for i in range(len(df_list_bigrams_all_retained)):\n",
    "\n",
    "    bp = df_list_bigrams_all_retained[i].boxplot(column = 'jsd_coherence_bigrams_freq_1_removed', by='post_jsd_size', figsize=(20, 6), rot = 90)\n",
    "\n",
    "    # label adjustment\n",
    "    p = plt.gca()\n",
    "    p.set_xlabel(\"Cluster Size\", fontsize = 12)\n",
    "    p.set_ylabel(\"JSD\", fontsize = 12)\n",
    "    title_text = names[i] + \" JSD Coherence Values by Cluster Size\"\n",
    "    plt.suptitle(title_text, fontsize=16)\n",
    "    p.set_title(\"Vocabulary - Frequency 1 Removed\")\n",
    "    p.tick_params(axis='y', labelsize=8)\n",
    "    p.tick_params(axis='x', labelsize=8)\n"
   ]
  },
  {
   "cell_type": "code",
   "execution_count": null,
   "metadata": {
    "ExecuteTime": {
     "end_time": "2020-05-14T14:27:49.386362Z",
     "start_time": "2020-05-14T14:27:49.350165Z"
    }
   },
   "outputs": [],
   "source": [
    "\n",
    "names = ['NCF 20', 'NCF 30', 'NCF 40', 'NCF 60', \n",
    "         'SF 20', 'SF 30', 'SF 40', 'SF 60', \n",
    "         'NOW 20', 'NOW 30', 'NOW 40', 'NOW 60']\n",
    "\n",
    "\n",
    "table_list = [i for i in range(len(names))]\n",
    "headers = [\"Name\", \"Original Size\", \"After Missing\", \"Original Coverage\", \"Missing Coverage\", \"Cluster JSD\", \"Cluster Coherence\"]\n",
    "for i in range(len(df_list_bigrams_all_retained)):\n",
    "    \n",
    "    original = sum(df_list_bigrams_all_retained[i][\"total_size\"])\n",
    "    after_missing = sum(df_list_bigrams_all_retained[i][\"pre_jsd_size\"])\n",
    "    \n",
    "    mean_jsd = round(sum(df_list_bigrams_all_retained[i]['post_jsd_size']*df_list_bigrams_all_retained[i]['mean_jsd'])/sum(df_list_bigrams_all_retained[i]['post_jsd_size']), 3)\n",
    "    coherence = round(sum(df_list_bigrams_all_retained[i]['post_jsd_size']*df_list_bigrams_all_retained[i]['jsd_coherence_bigrams_all_retained'])/sum(df_list_bigrams_all_retained[i]['post_jsd_size']), 3)\n",
    "    \n",
    "    table_list[i] = [names[i], original, after_missing, round((original*100)/225023, 2), round((after_missing*100)/176094, 2), mean_jsd, coherence]\n",
    "    \n",
    "print('The following table is for JSD (Bigrams)')\n",
    "print('All tokens were retained.')\n",
    "print('Note that \"Cluster JSD\"  and \"Cluster Coherence\" are weighted averages')\n",
    "# display(HTML(tabulate.tabulate(table_list, tablefmt='html', headers=headers)))\n",
    "print(tabulate.tabulate(table_list, headers, tablefmt=\"psql\"))\n"
   ]
  },
  {
   "cell_type": "code",
   "execution_count": null,
   "metadata": {
    "ExecuteTime": {
     "end_time": "2020-05-14T14:27:37.207292Z",
     "start_time": "2020-05-14T14:27:37.166878Z"
    }
   },
   "outputs": [],
   "source": [
    "table_list = [i for i in range(len(names))]\n",
    "headers = [\"Name\", \"Original Size\", \"After Missing\", \"After JSD Nans\", \"Original Coverage\", \"Missing Coverage\", \"Cluster JSD\", \"Cluster Coherence\"]\n",
    "\n",
    "for i in range(len(df_list_bigrams_freq_1_removed)):\n",
    "    \n",
    "    original = sum(df_list_bigrams_freq_1_removed[i][\"total_size\"])\n",
    "    after_missing = sum(df_list_bigrams_freq_1_removed[i][\"pre_jsd_size\"])\n",
    "    after_jsd_nans = sum(df_list_bigrams_freq_1_removed[i][\"post_jsd_size\"])\n",
    "    \n",
    "    mean_jsd = round(sum(df_list_bigrams_freq_1_removed[i]['post_jsd_size']*df_list_bigrams_freq_1_removed[i]['mean_jsd'])/sum(df_list_bigrams_freq_1_removed[i]['post_jsd_size']), 3)\n",
    "    coherence = round(sum(df_list_bigrams_freq_1_removed[i]['post_jsd_size']*df_list_bigrams_freq_1_removed[i]['jsd_coherence_bigrams_freq_1_removed'])/sum(df_list_bigrams_freq_1_removed[i]['post_jsd_size']), 3)\n",
    "    \n",
    "    table_list[i] = [names[i], original, after_missing, after_jsd_nans, round((original*100)/225023, 2), round((after_missing*100)/176094, 2), mean_jsd, coherence]\n",
    "    \n",
    "print('The following table is for JSD (Bigrams)')\n",
    "print('Tokens with cluster frequency = 1 were removed.')\n",
    "print('Note that \"Cluster JSD\"  and \"Cluster Coherence\" are weighted averages')\n",
    "print(\"Also note that the  coherence value is computed on the basis on random articles with all vocabulary retained.\")\n",
    "# display(HTML(tabulate.tabulate(table_list, tablefmt='html', headers=headers)))\n",
    "print(tabulate.tabulate(table_list, headers, tablefmt=\"psql\"))"
   ]
  },
  {
   "cell_type": "code",
   "execution_count": null,
   "metadata": {
    "ExecuteTime": {
     "end_time": "2020-05-14T02:20:05.082132Z",
     "start_time": "2020-05-14T02:20:04.444598Z"
    }
   },
   "outputs": [],
   "source": [
    "bp = jsd_bigrams_freq_1_removed.boxplot(column = 'post_jsd_size', \n",
    "                                     by=['weight', 'inflation'], \n",
    "                                     figsize=(20, 10), \n",
    "                                     rot = 0, \n",
    "                                     vert = False,\n",
    "                                     boxprops=boxprops,\n",
    "                                     medianprops=medianprops,\n",
    "                                     color=dict(boxes='black', whiskers='black', medians='black', caps='black'))\n",
    "# label adjustment\n",
    "p = plt.gca()\n",
    "p.set_xlabel(\"Clustering Type\", fontsize = 15)\n",
    "p.set_ylabel(\"Cluster Size\", fontsize = 15)\n",
    "plt.suptitle(\"Distribution of Cluster Sizes\", fontsize=20)\n",
    "p.set_title(\"All Cluster Sizes\", fontsize = 16)\n",
    "p.tick_params(axis='y', labelsize=12)\n",
    "p.tick_params(axis='x', labelsize=12)\n",
    "p.grid(b=None)"
   ]
  },
  {
   "cell_type": "code",
   "execution_count": null,
   "metadata": {
    "ExecuteTime": {
     "end_time": "2020-05-14T02:19:20.727970Z",
     "start_time": "2020-05-14T02:19:20.325029Z"
    }
   },
   "outputs": [],
   "source": [
    "boxprops = dict(linestyle='-', linewidth=3)\n",
    "medianprops = dict(linestyle='-', linewidth=1.5)\n",
    "\n",
    "bp = jsd_bigrams_freq_1_removed[jsd_bigrams_freq_1_removed['post_jsd_size']<200].boxplot(column = 'post_jsd_size', \n",
    "                                                                                         by=['weight', 'inflation'], \n",
    "                                                                                         figsize=(20, 10), \n",
    "                                                                                         rot = 0, \n",
    "                                                                                         vert = False,\n",
    "                                                                                         boxprops=boxprops,\n",
    "                                                                                         medianprops=medianprops,\n",
    "                                                                                         color=dict(boxes='black', whiskers='black', medians='black', caps='black'))\n",
    "\n",
    "\n",
    "# label adjustment\n",
    "p = plt.gca()\n",
    "p.set_xlabel(\"Clustering Type\", fontsize = 15)\n",
    "p.set_ylabel(\"Cluster Size\", fontsize = 15)\n",
    "plt.suptitle(\"Distribution of Cluster Sizes\", fontsize=20)\n",
    "p.set_title(\"For Cluster Sizes < 200\", fontsize = 16)\n",
    "p.tick_params(axis='y', labelsize=12)\n",
    "p.tick_params(axis='x', labelsize=12)\n",
    "p.grid(b=None)\n",
    "\n",
    "\n",
    "# plt.savefig('/Users/shreya/Documents/mcl_jsd/unigrams/Cluster_Sizes_lt_200.png', dpi=300)"
   ]
  },
  {
   "cell_type": "code",
   "execution_count": null,
   "metadata": {
    "ExecuteTime": {
     "end_time": "2020-05-14T14:57:32.671617Z",
     "start_time": "2020-05-14T14:57:32.668767Z"
    }
   },
   "outputs": [],
   "source": [
    "# # Original cluster size\n",
    "\n",
    "# fig, axs = plt.subplots(2, 2, figsize=(10, 4), dpi=120, sharey=False, sharex = True)\n",
    "# plt.suptitle(\"Distribution of Original Cluster Size\", fontsize=15, y = 1.05)\n",
    "# text = 'Number of Clusters: ' + str(len(jsd['total_size'][(jsd['weight'] == 'ncf') & (jsd['inflation'] == 20)]))\n",
    "# axs[0,0].hist(jsd['total_size'][(jsd['weight'] == 'ncf') & (jsd['inflation'] == 20)])\n",
    "# axs[0,0].set_title(\"total_size: ncf 20\", fontsize = 12)\n",
    "# axs[0,0].annotate(text, xy=(0.60, 0.90), xycoords='axes fraction', fontsize = 8)\n",
    "\n",
    "# text = 'Number of Clusters: ' + str(len(jsd['total_size'][(jsd['weight'] == 'ncf') & (jsd['inflation'] == 30)]))\n",
    "# axs[0,1].hist(jsd['total_size'][(jsd['weight'] == 'ncf') & (jsd['inflation'] == 30)])\n",
    "# axs[0,1].set_title(\"total_size: ncf 30\", fontsize = 12)\n",
    "# axs[0,1].annotate(text, xy=(0.60, 0.90), xycoords='axes fraction', fontsize = 8)\n",
    "\n",
    "# text = 'Number of Clusters: ' + str(len(jsd['total_size'][(jsd['weight'] == 'ncf') & (jsd['inflation'] == 40)]))\n",
    "# axs[1,0].hist(jsd['total_size'][(jsd['weight'] == 'ncf') & (jsd['inflation'] == 40)])\n",
    "# axs[1,0].set_title(\"total_size: ncf 40\", fontsize = 12)\n",
    "# axs[1,0].annotate(text, xy=(0.60, 0.90), xycoords='axes fraction', fontsize = 8)\n",
    "\n",
    "# text = 'Number of Clusters: ' + str(len(jsd['total_size'][(jsd['weight'] == 'ncf') & (jsd['inflation'] == 60)]))\n",
    "# axs[1,1].hist(jsd['total_size'][(jsd['weight'] == 'ncf') & (jsd['inflation'] == 60)])\n",
    "# axs[1,1].set_title(\"total_size: ncf 60\", fontsize = 12)\n",
    "# axs[1,1].annotate(text, xy=(0.60, 0.90), xycoords='axes fraction', fontsize = 8)\n",
    "\n",
    "# for ax in axs.flat:\n",
    "#     ax.set(xlabel='Cluster Size', ylabel='Frequency')\n",
    "\n",
    "# # Hide x labels and tick labels for top plots and y ticks for right plots.\n",
    "# # for ax in axs.flat:\n",
    "# #     ax.label_outer()\n",
    "\n",
    "# plt.tight_layout()    \n",
    "# plt.show()"
   ]
  },
  {
   "cell_type": "code",
   "execution_count": null,
   "metadata": {},
   "outputs": [],
   "source": []
  },
  {
   "cell_type": "code",
   "execution_count": null,
   "metadata": {},
   "outputs": [],
   "source": []
  },
  {
   "cell_type": "code",
   "execution_count": null,
   "metadata": {},
   "outputs": [],
   "source": [
    "# ----------------- UNIGRAMS ------------------- #"
   ]
  },
  {
   "cell_type": "code",
   "execution_count": null,
   "metadata": {},
   "outputs": [],
   "source": [
    "jsd_unigrams_freq_1_removed = pd.read_csv(\"/Users/shreya/Documents/mcl_jsd/unigrams/JSD_output_unigrams.csv\")\n",
    "jsd_unigrams_freq_1_removed = jsd_unigrams_freq_1_removed.reset_index(drop=True)"
   ]
  },
  {
   "cell_type": "code",
   "execution_count": null,
   "metadata": {},
   "outputs": [],
   "source": [
    "column_names = ['weight', 'inflation', 'cluster', 'total_size', 'pre_jsd_size', 'missing_values',\n",
    "       'post_jsd_size', 'jsd_nans', 'mean_jsd', 'min_jsd', 'percentile_25_jsd',\n",
    "       'median_jsd', 'percentile_75_jsd', 'max_jsd', 'std_dev_jsd',\n",
    "       'total_unique_unigrams', 'final_unigrams', 'freq_1_unigrams_prop', 'random_jsd']\n",
    "\n",
    "ncf_20_jsd_random_unigrams_freq_1_removed = pd.read_csv(\"/Users/shreya/Documents/mcl_jsd/unigrams/ncf_20_jsd_random_unigrams.csv\", names=column_names)\n",
    "# ncf_30_jsd_random_unigrams_freq_1_removed = pd.read_csv(\"/Users/shreya/Documents/mcl_jsd/unigrams/ncf_30_jsd_random_unigrams.csv\", names=column_names)\n",
    "# ncf_40_jsd_random_unigrams_freq_1_removed = pd.read_csv(\"/Users/shreya/Documents/mcl_jsd/unigrams/ncf_40_jsd_random_unigrams.csv\", names=column_names)\n",
    "now_60_jsd_random_unigrams_freq_1_removed = pd.read_csv(\"/Users/shreya/Documents/mcl_jsd/unigrams/now_60_jsd_random_unigrams.csv\", names=column_names)\n",
    "\n",
    "names_unigrams = ['NCF 20','NOW 60']\n",
    "\n",
    "now_60_jsd_random_unigrams_freq_1_removed = now_60_jsd_random_unigrams_freq_1_removed.drop_duplicates()\n",
    "\n",
    "df_list_unigrams_freq_1_removed = [ncf_20_jsd_random_unigrams_freq_1_removed, now_60_jsd_random_unigrams_freq_1_removed]"
   ]
  },
  {
   "cell_type": "code",
   "execution_count": null,
   "metadata": {},
   "outputs": [],
   "source": [
    "for df in df_list_unigrams_freq_1_removed:\n",
    "    \n",
    "    df['random_jsd'] = df['random_jsd'].swifter.progress_bar(False).apply(fix_eval_issue)\n",
    "    df['mean_random_jsd'] = np.mean(df['random_jsd'].tolist(), axis = 1)\n",
    "    df['random_jsd_range'] = np.max(df['random_jsd'].tolist(), axis = 1)-np.min(df['random_jsd'].tolist(), axis = 1)\n",
    "    df['jsd_coherence_unigrams_freq_1_removed'] = df['mean_random_jsd']-df['mean_jsd']"
   ]
  },
  {
   "cell_type": "code",
   "execution_count": null,
   "metadata": {},
   "outputs": [],
   "source": [
    "ncf_20_jsd_random_unigrams_freq_1_removed.head()"
   ]
  },
  {
   "cell_type": "code",
   "execution_count": null,
   "metadata": {},
   "outputs": [],
   "source": [
    "boxprops = dict(linestyle='-', linewidth=1)\n",
    "medianprops = dict(linestyle='-', linewidth=0.5)\n",
    "\n",
    "for i in range(len(df_list_unigrams_freq_1_removed)):\n",
    "\n",
    "    bp = df_list_unigrams_freq_1_removed[i].boxplot(column = 'mean_jsd', \n",
    "                                                    by='post_jsd_size', \n",
    "                                                    figsize=(20, 5), \n",
    "                                                    rot = 0,\n",
    "                                                    boxprops=boxprops,\n",
    "                                                    medianprops=medianprops,\n",
    "                                                   color=dict(boxes='black', whiskers='black', medians='black', caps='black'))\n",
    "\n",
    "    # label adjustment\n",
    "    p = plt.gca()\n",
    "    p.set_xlabel(\"Cluster Size\", fontsize = 12)\n",
    "    p.set_ylabel(\"JSD\", fontsize = 12)\n",
    "    title_text = names_unigrams[i] + \" Mean JSD Values by Cluster Size\"\n",
    "    plt.suptitle(title_text, fontsize=16)\n",
    "    p.set_title(\"Unigrams\")\n",
    "    p.tick_params(axis='y', labelsize=6)\n",
    "    p.tick_params(axis='x', labelsize=6)\n",
    "    p.grid(b=None)\n",
    "    \n",
    "#     plt.savefig('/Users/shreya/Documents/consolidated_output/unigrams/ncf_20_mean_jsd.png', dpi=300)"
   ]
  },
  {
   "cell_type": "code",
   "execution_count": null,
   "metadata": {},
   "outputs": [],
   "source": [
    "for i in range(len(df_list_unigrams_freq_1_removed)):\n",
    "\n",
    "    bp = df_list_unigrams_freq_1_removed[i].boxplot(column = 'jsd_coherence_unigrams_freq_1_removed', by='post_jsd_size', figsize=(20, 5), rot = 90)\n",
    "\n",
    "    # label adjustment\n",
    "    p = plt.gca()\n",
    "    p.set_xlabel(\"Cluster Size\", fontsize = 12)\n",
    "    p.set_ylabel(\"Coherence\", fontsize = 12)\n",
    "    title_text = names_unigrams[i] + \" JSD Coherence Values by Cluster Size\"\n",
    "    plt.suptitle(title_text, fontsize=16)\n",
    "    p.set_title(\"Unigrams\")\n",
    "    p.tick_params(axis='y', labelsize=8)\n",
    "    p.tick_params(axis='x', labelsize=8)\n",
    "    p.grid(b=None)"
   ]
  },
  {
   "cell_type": "code",
   "execution_count": null,
   "metadata": {},
   "outputs": [],
   "source": [
    "for i in range(len(df_list_unigrams_freq_1_removed)):\n",
    "\n",
    "    bp = df_list_unigrams_freq_1_removed[i].boxplot(column = 'mean_random_jsd', by='post_jsd_size', figsize=(20, 5), rot = 90)\n",
    "\n",
    "    # label adjustment\n",
    "    p = plt.gca()\n",
    "    p.set_xlabel(\"Cluster Size\", fontsize = 12)\n",
    "    p.set_ylabel(\"Mean Random JSD\", fontsize = 12)\n",
    "    title_text = names_unigrams[i] + \" Mean Random JSD Values by Cluster Size\"\n",
    "    plt.suptitle(title_text, fontsize=16)\n",
    "    p.set_title(\"Unigrams\")\n",
    "    p.tick_params(axis='y', labelsize=8)\n",
    "    p.tick_params(axis='x', labelsize=8)"
   ]
  },
  {
   "cell_type": "code",
   "execution_count": null,
   "metadata": {},
   "outputs": [],
   "source": [
    "from matplotlib.widgets import CheckButtons\n",
    "\n",
    "plt.figure(figsize=(20, 8))\n",
    "plt.title('Range of Random JSD Values by Cluster Number', fontsize=15)\n",
    "ncf_20, = plt.plot(ncf_20_jsd_random_unigrams_freq_1_removed['cluster'], \n",
    "                   ncf_20_jsd_random_unigrams_freq_1_removed['random_jsd_range'], label = 'ncf 20', visible=True)\n",
    "# ncf_30, = plt.plot(ncf_30_jsd['cluster'], ncf_30_jsd['random_jsd_range'], label = 'ncf 30', visible=False)\n",
    "# ncf_40, = plt.plot(ncf_40_jsd['cluster'], ncf_40_jsd['random_jsd_range'], label = 'ncf 40', visible=False)\n",
    "# ncf_60, = plt.plot(ncf_60_jsd['cluster'], ncf_60_jsd['random_jsd_range'], label = 'ncf 60', visible=False)\n",
    "\n",
    "# sf_20, = plt.plot(sf_20_jsd['cluster'], sf_20_jsd['random_jsd_range'], label = 'sf 20', visible=False)\n",
    "# sf_30, = plt.plot(sf_30_jsd['cluster'], sf_30_jsd['random_jsd_range'], label = 'sf 30', visible=False)\n",
    "# sf_40, = plt.plot(sf_40_jsd['cluster'], sf_40_jsd['random_jsd_range'], label = 'sf 40', visible=False)\n",
    "# sf_60, = plt.plot(sf_60_jsd['cluster'], sf_60_jsd['random_jsd_range'], label = 'sf 60', visible=False)\n",
    "\n",
    "# now_20, = plt.plot(now_20_jsd['cluster'], now_20_jsd['random_jsd_range'], label = 'now 20', visible=True)\n",
    "# now_30, = plt.plot(now_30_jsd['cluster'], now_30_jsd['random_jsd_range'], label = 'now 30', visible=True)\n",
    "# now_40, = plt.plot(now_40_jsd['cluster'], now_40_jsd['random_jsd_range'], label = 'now 40', visible=True)\n",
    "now_60, = plt.plot(now_60_jsd_random_unigrams_freq_1_removed['cluster'], \n",
    "                   now_60_jsd_random_unigrams_freq_1_removed['random_jsd_range'], label = 'now 60', visible=True)\n",
    "\n",
    "# plt.legend(handles=[ncf_20, ncf_30, ncf_40, ncf_60, \n",
    "#                     sf_20, sf_30, sf_40, sf_60,\n",
    "#                     now_20, now_30, now_40, now_60])\n",
    "\n",
    "# lines = [ncf_20, ncf_30, ncf_40, ncf_60,\n",
    "#          sf_20, sf_30, sf_40, sf_60,\n",
    "#          now_20, now_30, now_40, now_60]\n",
    "\n",
    "plt.legend(handles=[ncf_20, now_60])\n",
    "lines = [ncf_20, now_60]\n",
    "\n",
    "plt.xlabel('Cluster Number', fontsize=12)\n",
    "plt.ylabel('Random JSD Range', fontsize=12)\n",
    "\n",
    "# Make checkbuttons with all plotted lines with correct visibility\n",
    "rax = plt.axes([0.02, 0.4, 0.05, 0.25])\n",
    "labels = [str(line.get_label()) for line in lines]\n",
    "visibility = [line.get_visible() for line in lines]\n",
    "check = CheckButtons(rax, labels, visibility)\n",
    "\n",
    "\n",
    "def func(label):\n",
    "    index = labels.index(label)\n",
    "    lines[index].set_visible(not lines[index].get_visible())\n",
    "    plt.draw()\n",
    "\n",
    "check.on_clicked(func)\n",
    "\n",
    "# plt.show()"
   ]
  },
  {
   "cell_type": "code",
   "execution_count": null,
   "metadata": {},
   "outputs": [],
   "source": [
    "ncf_20_jsd_random_unigrams_freq_1_removed['random_jsd_range'].describe()"
   ]
  },
  {
   "cell_type": "code",
   "execution_count": null,
   "metadata": {},
   "outputs": [],
   "source": [
    "now_60_jsd_random_unigrams_freq_1_removed['random_jsd_range'].describe()"
   ]
  },
  {
   "cell_type": "code",
   "execution_count": null,
   "metadata": {},
   "outputs": [],
   "source": [
    "table_list = [i for i in range(len(names_unigrams))]\n",
    "headers = [\"Name\", \"Original Size\", \"After Missing\", \"After JSD Nans\", \"Original Coverage\", \"Missing Coverage\", \"Cluster JSD\", \"Cluster Coherence\"]\n",
    "\n",
    "for i in range(len(df_list_unigrams_freq_1_removed)):\n",
    "    \n",
    "    original = sum(df_list_unigrams_freq_1_removed[i][\"total_size\"])\n",
    "    after_missing = sum(df_list_unigrams_freq_1_removed[i][\"pre_jsd_size\"])\n",
    "    after_jsd_nans = sum(df_list_unigrams_freq_1_removed[i][\"post_jsd_size\"])\n",
    "    \n",
    "    mean_jsd = round(sum(df_list_unigrams_freq_1_removed[i]['post_jsd_size']*df_list_unigrams_freq_1_removed[i]['mean_jsd'])/sum(df_list_unigrams_freq_1_removed[i]['post_jsd_size']), 3)\n",
    "    coherence = round(sum(df_list_unigrams_freq_1_removed[i]['post_jsd_size']*df_list_unigrams_freq_1_removed[i]['jsd_coherence_unigrams_freq_1_removed'])/sum(df_list_unigrams_freq_1_removed[i]['post_jsd_size']), 3)\n",
    "    \n",
    "    table_list[i] = [names_unigrams[i], original, after_missing, after_jsd_nans, round((original*100)/225023, 2), round((after_missing*100)/176094, 2), mean_jsd, coherence]\n",
    "    \n",
    "print('The following table is for JSD (Unigrams)')\n",
    "print('Tokens with cluster frequency = 1 were removed.')\n",
    "print('Note that \"Cluster JSD\"  and \"Cluster Coherence\" are weighted averages')\n",
    "# display(HTML(tabulate.tabulate(table_list, tablefmt='html', headers=headers)))\n",
    "print(tabulate.tabulate(table_list, headers, tablefmt=\"psql\"))"
   ]
  },
  {
   "cell_type": "code",
   "execution_count": null,
   "metadata": {},
   "outputs": [],
   "source": []
  },
  {
   "cell_type": "code",
   "execution_count": null,
   "metadata": {},
   "outputs": [],
   "source": []
  }
 ],
 "metadata": {
  "hide_input": false,
  "kernelspec": {
   "display_name": "Python 3",
   "language": "python",
   "name": "python3"
  },
  "language_info": {
   "codemirror_mode": {
    "name": "ipython",
    "version": 3
   },
   "file_extension": ".py",
   "mimetype": "text/x-python",
   "name": "python",
   "nbconvert_exporter": "python",
   "pygments_lexer": "ipython3",
   "version": "3.7.7"
  }
 },
 "nbformat": 4,
 "nbformat_minor": 4
}
