{
 "cells": [
  {
   "cell_type": "code",
   "execution_count": null,
   "metadata": {},
   "outputs": [],
   "source": []
  },
  {
   "cell_type": "code",
   "execution_count": 4,
   "metadata": {
    "ExecuteTime": {
     "end_time": "2020-05-14T01:00:10.879254Z",
     "start_time": "2020-05-14T01:00:10.874289Z"
    }
   },
   "outputs": [],
   "source": [
    "from scipy.spatial import distance\n",
    "from sklearn.feature_extraction.text import CountVectorizer\n",
    "import sklearn\n",
    "import numpy as np\n",
    "import swifter  # Makes applying to datframe as fast as vectorizing\n",
    "from nltk.probability import FreqDist\n",
    "import string\n",
    "from nltk.corpus import stopwords\n",
    "import glob\n",
    "import os\n",
    "import pandas as pd\n",
    "import re\n",
    "from textblob import TextBlob, Word\n",
    "import nltk\n",
    "from nltk.util import ngrams\n",
    "import re\n",
    "# nltk.download('stopwords')\n",
    "from sys import argv\n",
    "from scipy import sparse\n",
    "from ast import literal_eval\n",
    "import multiprocessing as mp\n",
    "from IPython.display import HTML, display\n",
    "import tabulate\n",
    "\n",
    "from matplotlib.ticker import FuncFormatter\n",
    "import matplotlib.colors as mcolors\n",
    "import matplotlib.pyplot as plt\n",
    "%matplotlib inline\n",
    "from matplotlib import cycler"
   ]
  },
  {
   "cell_type": "code",
   "execution_count": null,
   "metadata": {
    "ExecuteTime": {
     "end_time": "2020-05-14T01:00:11.167719Z",
     "start_time": "2020-05-14T01:00:11.161290Z"
    }
   },
   "outputs": [],
   "source": [
    "\n",
    "from matplotlib.widgets import CheckButtons\n",
    "\n",
    "# IPython_default = plt.rcParams.copy()\n",
    "\n",
    "plt.style.use('seaborn-paper')\n",
    "# colors = cycler('color',\n",
    "#                 ['#EE6666', '#3388BB', '#9988DD',\n",
    "#                  '#EECC55', '#88BB44', '#FFBBBB'])\n",
    "# plt.rc('axes', facecolor='#E6E6E6', edgecolor='none',\n",
    "#        axisbelow=True, grid=True, prop_cycle=colors)\n",
    "# plt.rc('grid', color='w', linestyle='solid')\n",
    "# plt.rc('xtick', direction='out', color='gray')\n",
    "# plt.rc('ytick', direction='out', color='gray')\n",
    "# plt.rc('patch', edgecolor='#E6E6E6')\n",
    "# plt.rc('lines', linewidth=2)"
   ]
  },
  {
   "cell_type": "code",
   "execution_count": null,
   "metadata": {
    "ExecuteTime": {
     "end_time": "2020-05-14T01:00:12.052756Z",
     "start_time": "2020-05-14T01:00:12.050039Z"
    },
    "code_folding": []
   },
   "outputs": [],
   "source": [
    "def fix_eval_issue(doc):\n",
    "    return literal_eval(doc)"
   ]
  },
  {
   "cell_type": "code",
   "execution_count": null,
   "metadata": {
    "ExecuteTime": {
     "end_time": "2020-05-14T01:00:13.167447Z",
     "start_time": "2020-05-14T01:00:13.066118Z"
    }
   },
   "outputs": [],
   "source": [
    "jsd_bigrams_freq_1_removed = pd.read_csv(\"~/Documents/mcl_jsd/bigrams/JSD_output_bigrams_freq_1_removed.csv\")\n",
    "jsd_bigrams_freq_1_removed = jsd_bigrams_freq_1_removed.reset_index(drop=True)\n",
    "jsd_bigrams_freq_1_removed.index = jsd_bigrams_freq_1_removed.index + 1"
   ]
  },
  {
   "cell_type": "code",
   "execution_count": null,
   "metadata": {
    "ExecuteTime": {
     "end_time": "2020-05-14T02:13:04.657685Z",
     "start_time": "2020-05-14T02:12:59.750035Z"
    },
    "code_folding": [
     0,
     18,
     22
    ]
   },
   "outputs": [],
   "source": [
    "column_names = ['weight', 'inflation', 'cluster', 'total_size', 'pre_jsd_size', 'missing_values',\n",
    "       'post_jsd_size', 'jsd_nans', 'mean_jsd', 'min_jsd', 'percentile_25_jsd',\n",
    "       'median_jsd', 'percentile_75_jsd', 'max_jsd', 'std_dev_jsd',\n",
    "       'total_unique_bigrams', 'random_jsd']\n",
    "\n",
    "ncf_20_jsd_bigrams_all_retained = pd.read_csv(\"~/Documents/mcl_jsd/bigrams/ncf_20_jsd_random.csv\", names=column_names)\n",
    "ncf_30_jsd_bigrams_all_retained = pd.read_csv(\"~/Documents/mcl_jsd/bigrams/ncf_30_jsd_random.csv\", names=column_names)\n",
    "ncf_40_jsd_bigrams_all_retained = pd.read_csv(\"~/Documents/mcl_jsd/bigrams/ncf_40_jsd_random.csv\", names=column_names)\n",
    "ncf_60_jsd_bigrams_all_retained = pd.read_csv(\"~/Documents/mcl_jsd/bigrams/ncf_60_jsd_random.csv\", names=column_names)\n",
    "sf_20_jsd_bigrams_all_retained = pd.read_csv(\"~/Documents/mcl_jsd/bigrams/sf_20_jsd_random.csv\", names=column_names)\n",
    "sf_30_jsd_bigrams_all_retained = pd.read_csv(\"~/Documents/mcl_jsd/bigrams/sf_30_jsd_random.csv\", names=column_names)\n",
    "sf_40_jsd_bigrams_all_retained = pd.read_csv(\"~/Documents/mcl_jsd/bigrams/sf_40_jsd_random.csv\", names=column_names)\n",
    "sf_60_jsd_bigrams_all_retained = pd.read_csv(\"~/Documents/mcl_jsd/bigrams/sf_60_jsd_random.csv\", names=column_names)\n",
    "now_20_jsd_bigrams_all_retained = pd.read_csv(\"~/Documents/mcl_jsd/bigrams/now_20_jsd_random.csv\", names=column_names)\n",
    "now_30_jsd_bigrams_all_retained = pd.read_csv(\"~/Documents/mcl_jsd/bigrams/now_30_jsd_random.csv\", names=column_names)\n",
    "now_40_jsd_bigrams_all_retained = pd.read_csv(\"~/Documents/mcl_jsd/bigrams/now_40_jsd_random.csv\", names=column_names)\n",
    "now_60_jsd_bigrams_all_retained = pd.read_csv(\"~/Documents/mcl_jsd/bigrams/now_60_jsd_random.csv\", names=column_names)\n",
    "\n",
    "names = ['NCF 20', 'NCF 30', 'NCF 40', 'NCF 60', \n",
    "         'SF 20', 'SF 30', 'SF 40', 'SF 60', \n",
    "         'NOW 20', 'NOW 30', 'NOW 40', 'NOW 60']\n",
    "\n",
    "df_list_bigrams_all_retained = [ncf_20_jsd_bigrams_all_retained, ncf_30_jsd_bigrams_all_retained, ncf_40_jsd_bigrams_all_retained, ncf_60_jsd_bigrams_all_retained, \n",
    "           sf_20_jsd_bigrams_all_retained, sf_30_jsd_bigrams_all_retained, sf_40_jsd_bigrams_all_retained, sf_60_jsd_bigrams_all_retained,\n",
    "          now_20_jsd_bigrams_all_retained, now_30_jsd_bigrams_all_retained, now_40_jsd_bigrams_all_retained, now_60_jsd_bigrams_all_retained]\n"
   ]
  },
  {
   "cell_type": "code",
   "execution_count": null,
   "metadata": {
    "ExecuteTime": {
     "end_time": "2020-05-14T14:38:42.825916Z",
     "start_time": "2020-05-14T14:38:42.811579Z"
    }
   },
   "outputs": [],
   "source": [
    "for df in df_list_bigrams_all_retained:\n",
    "    \n",
    "    df['random_jsd'] = df['random_jsd'].swifter.progress_bar(False).apply(fix_eval_issue)\n",
    "    df['mean_random_jsd'] = np.mean(df['random_jsd'].tolist(), axis = 1)\n",
    "    df['random_jsd_range'] = np.max(df['random_jsd'].tolist(), axis = 1)-np.min(df['random_jsd'].tolist(), axis = 1)\n",
    "    df['jsd_coherence_bigrams_all_retained'] = df['mean_random_jsd']-df['mean_jsd']\n"
   ]
  },
  {
   "cell_type": "code",
   "execution_count": null,
   "metadata": {},
   "outputs": [],
   "source": [
    "# sf_40_jsd_bigrams_all_retained = sf_40_jsd_bigrams_all_retained.drop_duplicates(subset='cluster').reset_index(drop=True) # ---> Accidentally ran the script twice for a few clusters\n",
    "\n",
    "ncf_20_bigrams_freq_1_removed = jsd_bigrams_freq_1_removed[(jsd_bigrams_freq_1_removed['weight'] =='ncf') & (jsd_bigrams_freq_1_removed['inflation'] == 20)][1:].reset_index(drop=True)\n",
    "ncf_30_bigrams_freq_1_removed = jsd_bigrams_freq_1_removed[(jsd_bigrams_freq_1_removed['weight'] =='ncf') & (jsd_bigrams_freq_1_removed['inflation'] == 30)][1:].reset_index(drop=True)\n",
    "ncf_40_bigrams_freq_1_removed = jsd_bigrams_freq_1_removed[(jsd_bigrams_freq_1_removed['weight'] =='ncf') & (jsd_bigrams_freq_1_removed['inflation'] == 40)][1:].reset_index(drop=True)\n",
    "ncf_60_bigrams_freq_1_removed = jsd_bigrams_freq_1_removed[(jsd_bigrams_freq_1_removed['weight'] =='ncf') & (jsd_bigrams_freq_1_removed['inflation'] == 60)][1:].reset_index(drop=True)\n",
    "\n",
    "sf_20_bigrams_freq_1_removed = jsd_bigrams_freq_1_removed[(jsd_bigrams_freq_1_removed['weight'] =='sf') & (jsd_bigrams_freq_1_removed['inflation'] == 20)][1:].reset_index(drop=True)\n",
    "sf_30_bigrams_freq_1_removed = jsd_bigrams_freq_1_removed[(jsd_bigrams_freq_1_removed['weight'] =='sf') & (jsd_bigrams_freq_1_removed['inflation'] == 30)][1:].reset_index(drop=True)\n",
    "sf_40_bigrams_freq_1_removed = jsd_bigrams_freq_1_removed[(jsd_bigrams_freq_1_removed['weight'] =='sf') & (jsd_bigrams_freq_1_removed['inflation'] == 40)][1:].reset_index(drop=True)\n",
    "sf_60_bigrams_freq_1_removed = jsd_bigrams_freq_1_removed[(jsd_bigrams_freq_1_removed['weight'] =='sf') & (jsd_bigrams_freq_1_removed['inflation'] == 60)][1:].reset_index(drop=True)\n",
    "\n",
    "now_20_bigrams_freq_1_removed = jsd_bigrams_freq_1_removed[(jsd_bigrams_freq_1_removed['weight'] =='now') & (jsd_bigrams_freq_1_removed['inflation'] == 20)][1:].reset_index(drop=True)\n",
    "now_30_bigrams_freq_1_removed = jsd_bigrams_freq_1_removed[(jsd_bigrams_freq_1_removed['weight'] =='now') & (jsd_bigrams_freq_1_removed['inflation'] == 30)][1:].reset_index(drop=True)\n",
    "now_40_bigrams_freq_1_removed = jsd_bigrams_freq_1_removed[(jsd_bigrams_freq_1_removed['weight'] =='now') & (jsd_bigrams_freq_1_removed['inflation'] == 40)][1:].reset_index(drop=True)\n",
    "now_60_bigrams_freq_1_removed = jsd_bigrams_freq_1_removed[(jsd_bigrams_freq_1_removed['weight'] =='now') & (jsd_bigrams_freq_1_removed['inflation'] == 60)][1:].reset_index(drop=True)\n",
    "\n",
    "\n",
    "now_30_bigrams_freq_1_removed = now_30_bigrams_freq_1_removed[(now_30_bigrams_freq_1_removed['cluster']!=3) & (now_30_bigrams_freq_1_removed['cluster']!=6) & (now_30_bigrams_freq_1_removed['cluster']!=7)].reset_index(drop=True)\n",
    "\n",
    "\n",
    "now_20_bigrams_freq_1_removed = now_20_bigrams_freq_1_removed[now_20_bigrams_freq_1_removed['cluster']!=18].reset_index(drop=True)\n",
    "now_40_bigrams_freq_1_removed = now_40_bigrams_freq_1_removed[now_40_bigrams_freq_1_removed['cluster']!=2].reset_index(drop=True)\n",
    "now_60_bigrams_freq_1_removed = now_60_bigrams_freq_1_removed[now_60_bigrams_freq_1_removed['cluster']!=2].reset_index(drop=True)\n",
    "sf_30_bigrams_freq_1_removed = sf_30_bigrams_freq_1_removed[sf_30_bigrams_freq_1_removed['cluster']!=2].reset_index(drop=True)\n",
    "sf_40_bigrams_freq_1_removed = sf_40_bigrams_freq_1_removed[sf_40_bigrams_freq_1_removed['cluster']!=2].reset_index(drop=True)\n",
    "\n",
    "df_list_bigrams_freq_1_removed = [ncf_20_bigrams_freq_1_removed, ncf_30_bigrams_freq_1_removed, ncf_40_bigrams_freq_1_removed, ncf_60_bigrams_freq_1_removed, \n",
    "               sf_20_bigrams_freq_1_removed, sf_30_bigrams_freq_1_removed, sf_40_bigrams_freq_1_removed, sf_60_bigrams_freq_1_removed,\n",
    "              now_20_bigrams_freq_1_removed, now_30_bigrams_freq_1_removed, now_40_bigrams_freq_1_removed, now_60_bigrams_freq_1_removed]"
   ]
  },
  {
   "cell_type": "code",
   "execution_count": null,
   "metadata": {
    "ExecuteTime": {
     "end_time": "2020-05-14T15:01:50.531726Z",
     "start_time": "2020-05-14T15:01:50.517173Z"
    }
   },
   "outputs": [],
   "source": [
    "for i in range(len(df_list_bigrams_all_retained)):\n",
    "    \n",
    "    df_list_bigrams_all_retained[i]['jsd_coherence_bigrams_freq_1_removed'] = df_list_bigrams_all_retained[i]['mean_random_jsd'] - df_list_bigrams_all_retained[i]['mean_jsd']\n",
    "    df_list_bigrams_freq_1_removed[i]['jsd_coherence_bigrams_freq_1_removed'] = df_list_bigrams_all_retained[i]['mean_random_jsd'] - df_list_bigrams_freq_1_removed[i]['mean_jsd']\n",
    "    \n",
    "    \n",
    "    df_list_bigrams_all_retained[i]['cluster_bins'] = ( (df_list_bigrams_all_retained[i]['pre_jsd_size']//10) * 10 ) + 5\n",
    "    df_list_bigrams_all_retained[i]['cluster_bins'] = df_list_bigrams_all_retained[i]['cluster_bins'].astype('int')\n",
    "    \n",
    "    df_list_bigrams_freq_1_removed[i]['cluster_bins'] = ( (df_list_bigrams_freq_1_removed[i]['post_jsd_size']//10) * 10 ) + 5\n",
    "    df_list_bigrams_freq_1_removed[i]['cluster_bins'] = df_list_bigrams_freq_1_removed[i]['cluster_bins'].astype('int')\n"
   ]
  },
  {
   "cell_type": "code",
   "execution_count": null,
   "metadata": {
    "ExecuteTime": {
     "end_time": "2020-05-14T14:24:08.656476Z",
     "start_time": "2020-05-14T14:24:08.251843Z"
    },
    "code_folding": [
     22
    ]
   },
   "outputs": [],
   "source": [
    "# from matplotlib.widgets import CheckButtons\n",
    "\n",
    "# plt.figure(figsize=(20, 8))\n",
    "# plt.title('Range of Random JSD Values by Cluster Number', fontsize=15)\n",
    "# ncf_20, = plt.plot(ncf_20_jsd['cluster'], ncf_20_jsd['random_jsd_range'], label = 'ncf 20', visible=False)\n",
    "# ncf_30, = plt.plot(ncf_30_jsd['cluster'], ncf_30_jsd['random_jsd_range'], label = 'ncf 30', visible=False)\n",
    "# ncf_40, = plt.plot(ncf_40_jsd['cluster'], ncf_40_jsd['random_jsd_range'], label = 'ncf 40', visible=False)\n",
    "# ncf_60, = plt.plot(ncf_60_jsd['cluster'], ncf_60_jsd['random_jsd_range'], label = 'ncf 60', visible=False)\n",
    "\n",
    "# sf_20, = plt.plot(sf_20_jsd['cluster'], sf_20_jsd['random_jsd_range'], label = 'sf 20', visible=False)\n",
    "# sf_30, = plt.plot(sf_30_jsd['cluster'], sf_30_jsd['random_jsd_range'], label = 'sf 30', visible=False)\n",
    "# sf_40, = plt.plot(sf_40_jsd['cluster'], sf_40_jsd['random_jsd_range'], label = 'sf 40', visible=False)\n",
    "# sf_60, = plt.plot(sf_60_jsd['cluster'], sf_60_jsd['random_jsd_range'], label = 'sf 60', visible=False)\n",
    "\n",
    "# now_20, = plt.plot(now_20_jsd['cluster'], now_20_jsd['random_jsd_range'], label = 'now 20', visible=True)\n",
    "# now_30, = plt.plot(now_30_jsd['cluster'], now_30_jsd['random_jsd_range'], label = 'now 30', visible=True)\n",
    "# now_40, = plt.plot(now_40_jsd['cluster'], now_40_jsd['random_jsd_range'], label = 'now 40', visible=True)\n",
    "# now_60, = plt.plot(now_60_jsd['cluster'], now_60_jsd['random_jsd_range'], label = 'now 60', visible=True)\n",
    "\n",
    "# plt.legend(handles=[ncf_20, ncf_30, ncf_40, ncf_60, \n",
    "#                     sf_20, sf_30, sf_40, sf_60,\n",
    "#                     now_20, now_30, now_40, now_60])\n",
    "\n",
    "# lines = [ncf_20, ncf_30, ncf_40, ncf_60,\n",
    "#          sf_20, sf_30, sf_40, sf_60,\n",
    "#          now_20, now_30, now_40, now_60]\n",
    "\n",
    "# plt.xlabel('Cluster Number', fontsize=12)\n",
    "# plt.ylabel('Random JSD Range', fontsize=12)\n",
    "\n",
    "# # Make checkbuttons with all plotted lines with correct visibility\n",
    "# rax = plt.axes([0.02, 0.4, 0.05, 0.25])\n",
    "# labels = [str(line.get_label()) for line in lines]\n",
    "# visibility = [line.get_visible() for line in lines]\n",
    "# check = CheckButtons(rax, labels, visibility)\n",
    "\n",
    "\n",
    "# def func(label):\n",
    "#     index = labels.index(label)\n",
    "#     lines[index].set_visible(not lines[index].get_visible())\n",
    "#     plt.draw()\n",
    "\n",
    "# check.on_clicked(func)\n",
    "\n",
    "# plt.show()"
   ]
  },
  {
   "cell_type": "code",
   "execution_count": null,
   "metadata": {
    "ExecuteTime": {
     "end_time": "2020-05-14T15:02:49.975652Z",
     "start_time": "2020-05-14T15:02:40.836025Z"
    }
   },
   "outputs": [],
   "source": [
    "# for i in range(len(df_list_bigrams_all_retained)):\n",
    "\n",
    "#     bp = df_list_bigrams_all_retained[i].boxplot(column = 'mean_jsd', by='cluster_bins', figsize=(20, 5), rot = 0)\n",
    "\n",
    "#     # label adjustment\n",
    "#     p = plt.gca()\n",
    "#     p.set_xlabel(\"Cluster Size\", fontsize = 12)\n",
    "#     p.set_ylabel(\"JSD\", fontsize = 12)\n",
    "#     title_text = names[i] + \" Mean JSD Values by Cluster Bins of Size 5\"\n",
    "#     plt.suptitle(title_text, fontsize=16)\n",
    "#     p.set_title(\"Vocabulary - All Retained\")\n",
    "#     p.tick_params(axis='y', labelsize=8)\n",
    "#     p.tick_params(axis='x', labelsize=8)"
   ]
  },
  {
   "cell_type": "code",
   "execution_count": null,
   "metadata": {
    "ExecuteTime": {
     "end_time": "2020-05-14T15:10:27.802787Z",
     "start_time": "2020-05-14T15:10:19.871324Z"
    }
   },
   "outputs": [],
   "source": [
    "# for i in range(len(df_list_bigrams_freq_1_removed)):\n",
    "\n",
    "#     bp = df_list_bigrams_freq_1_removed[i].boxplot(column = 'mean_jsd', by='cluster_bins', figsize=(20, 5), rot = 0)\n",
    "\n",
    "#     # label adjustment\n",
    "#     p = plt.gca()\n",
    "#     p.set_xlabel(\"Cluster Size\", fontsize = 12)\n",
    "#     p.set_ylabel(\"JSD\", fontsize = 12)\n",
    "#     title_text = names[i] + \" Mean JSD Values by Cluster Bins of Size 5\"\n",
    "#     plt.suptitle(title_text, fontsize=16)\n",
    "#     p.set_title(\"Vocabulary - Frequency 1 Removed\")\n",
    "#     p.tick_params(axis='y', labelsize=8)\n",
    "#     p.tick_params(axis='x', labelsize=8)"
   ]
  },
  {
   "cell_type": "code",
   "execution_count": null,
   "metadata": {},
   "outputs": [],
   "source": [
    "for i in range(len(df_list_bigrams_freq_1_removed)):\n",
    "\n",
    "    bp = df_list_bigrams_freq_1_removed[i].boxplot(column = 'mean_jsd', by='post_jsd_size', figsize=(20, 5), rot = 0)\n",
    "\n",
    "    # label adjustment\n",
    "    p = plt.gca()\n",
    "    p.set_xlabel(\"Cluster Size\", fontsize = 12)\n",
    "    p.set_ylabel(\"JSD\", fontsize = 12)\n",
    "    title_text = names[i] + \" Mean JSD Values by Cluster Sizes\"\n",
    "    plt.suptitle(title_text, fontsize=16)\n",
    "    p.set_title(\"Vocabulary - Frequency 1 Removed\")\n",
    "    p.tick_params(axis='y', labelsize=8)\n",
    "    p.tick_params(axis='x', labelsize=8)"
   ]
  },
  {
   "cell_type": "code",
   "execution_count": null,
   "metadata": {
    "ExecuteTime": {
     "end_time": "2020-05-14T00:27:59.899434Z",
     "start_time": "2020-05-14T00:27:23.084307Z"
    }
   },
   "outputs": [],
   "source": [
    "for i in range(len(df_list_bigrams_all_retained)):\n",
    "\n",
    "    bp = df_list_bigrams_all_retained[i].boxplot(column = 'jsd_coherence_bigrams_all_retained', by='post_jsd_size', figsize=(20, 5), rot = 90)\n",
    "\n",
    "    # label adjustment\n",
    "    p = plt.gca()\n",
    "    p.set_xlabel(\"Cluster Size\", fontsize = 12)\n",
    "    p.set_ylabel(\"JSD\", fontsize = 12)\n",
    "    title_text = names[i] + \" JSD Coherence Values by Cluster Size\"\n",
    "    plt.suptitle(title_text, fontsize=16)\n",
    "    p.set_title(\"Vocabulary - All Retained\")\n",
    "    p.tick_params(axis='y', labelsize=8)\n",
    "    p.tick_params(axis='x', labelsize=8)"
   ]
  },
  {
   "cell_type": "code",
   "execution_count": null,
   "metadata": {
    "ExecuteTime": {
     "end_time": "2020-05-14T14:32:53.903066Z",
     "start_time": "2020-05-14T14:32:18.758346Z"
    },
    "code_folding": []
   },
   "outputs": [],
   "source": [
    "for i in range(len(df_list_bigrams_all_retained)):\n",
    "\n",
    "    bp = df_list_bigrams_all_retained[i].boxplot(column = 'jsd_coherence_bigrams_freq_1_removed', by='post_jsd_size', figsize=(20, 6), rot = 90)\n",
    "\n",
    "    # label adjustment\n",
    "    p = plt.gca()\n",
    "    p.set_xlabel(\"Cluster Size\", fontsize = 12)\n",
    "    p.set_ylabel(\"JSD\", fontsize = 12)\n",
    "    title_text = names[i] + \" JSD Coherence Values by Cluster Size\"\n",
    "    plt.suptitle(title_text, fontsize=16)\n",
    "    p.set_title(\"Vocabulary - Frequency 1 Removed\")\n",
    "    p.tick_params(axis='y', labelsize=8)\n",
    "    p.tick_params(axis='x', labelsize=8)\n"
   ]
  },
  {
   "cell_type": "code",
   "execution_count": null,
   "metadata": {
    "ExecuteTime": {
     "end_time": "2020-05-14T14:27:49.386362Z",
     "start_time": "2020-05-14T14:27:49.350165Z"
    }
   },
   "outputs": [],
   "source": [
    "\n",
    "names = ['NCF 20', 'NCF 30', 'NCF 40', 'NCF 60', \n",
    "         'SF 20', 'SF 30', 'SF 40', 'SF 60', \n",
    "         'NOW 20', 'NOW 30', 'NOW 40', 'NOW 60']\n",
    "\n",
    "\n",
    "table_list = [i for i in range(len(names))]\n",
    "headers = [\"Name\", \"Original Size\", \"After Missing\", \"Original Coverage\", \"Missing Coverage\", \"Cluster JSD\", \"Cluster Coherence\"]\n",
    "for i in range(len(df_list_bigrams_all_retained)):\n",
    "    \n",
    "    original = sum(df_list_bigrams_all_retained[i][\"total_size\"])\n",
    "    after_missing = sum(df_list_bigrams_all_retained[i][\"pre_jsd_size\"])\n",
    "    \n",
    "    mean_jsd = round(sum(df_list_bigrams_all_retained[i]['post_jsd_size']*df_list_bigrams_all_retained[i]['mean_jsd'])/sum(df_list_bigrams_all_retained[i]['post_jsd_size']), 3)\n",
    "    coherence = round(sum(df_list_bigrams_all_retained[i]['post_jsd_size']*df_list_bigrams_all_retained[i]['jsd_coherence_bigrams_all_retained'])/sum(df_list_bigrams_all_retained[i]['post_jsd_size']), 3)\n",
    "    \n",
    "    table_list[i] = [names[i], original, after_missing, round((original*100)/225023, 2), round((after_missing*100)/176094, 2), mean_jsd, coherence]\n",
    "    \n",
    "print('The following table is for JSD (Bigrams)')\n",
    "print('All tokens were retained.')\n",
    "print('Note that \"Cluster JSD\"  and \"Cluster Coherence\" are weighted averages')\n",
    "# display(HTML(tabulate.tabulate(table_list, tablefmt='html', headers=headers)))\n",
    "print(tabulate.tabulate(table_list, headers, tablefmt=\"psql\"))\n"
   ]
  },
  {
   "cell_type": "code",
   "execution_count": null,
   "metadata": {
    "ExecuteTime": {
     "end_time": "2020-05-14T14:27:37.207292Z",
     "start_time": "2020-05-14T14:27:37.166878Z"
    }
   },
   "outputs": [],
   "source": [
    "table_list = [i for i in range(len(names))]\n",
    "headers = [\"Name\", \"Original Size\", \"After Missing\", \"After JSD Nans\", \"Original Coverage\", \"Missing Coverage\", \"Cluster JSD\", \"Cluster Coherence\"]\n",
    "\n",
    "for i in range(len(df_list_bigrams_freq_1_removed)):\n",
    "    \n",
    "    original = sum(df_list_bigrams_freq_1_removed[i][\"total_size\"])\n",
    "    after_missing = sum(df_list_bigrams_freq_1_removed[i][\"pre_jsd_size\"])\n",
    "    after_jsd_nans = sum(df_list_bigrams_freq_1_removed[i][\"post_jsd_size\"])\n",
    "    \n",
    "    mean_jsd = round(sum(df_list_bigrams_freq_1_removed[i]['post_jsd_size']*df_list_bigrams_freq_1_removed[i]['mean_jsd'])/sum(df_list_bigrams_freq_1_removed[i]['post_jsd_size']), 3)\n",
    "    coherence = round(sum(df_list_bigrams_freq_1_removed[i]['post_jsd_size']*df_list_bigrams_freq_1_removed[i]['jsd_coherence_bigrams_freq_1_removed'])/sum(df_list_bigrams_freq_1_removed[i]['post_jsd_size']), 3)\n",
    "    \n",
    "    table_list[i] = [names[i], original, after_missing, after_jsd_nans, round((original*100)/225023, 2), round((after_missing*100)/176094, 2), mean_jsd, coherence]\n",
    "    \n",
    "print('The following table is for JSD (Bigrams)')\n",
    "print('Tokens with cluster frequency = 1 were removed.')\n",
    "print('Note that \"Cluster JSD\"  and \"Cluster Coherence\" are weighted averages')\n",
    "print(\"Also note that the  coherence value is computed on the basis on random articles with all vocabulary retained.\")\n",
    "# display(HTML(tabulate.tabulate(table_list, tablefmt='html', headers=headers)))\n",
    "print(tabulate.tabulate(table_list, headers, tablefmt=\"psql\"))"
   ]
  },
  {
   "cell_type": "code",
   "execution_count": null,
   "metadata": {
    "ExecuteTime": {
     "end_time": "2020-05-14T02:20:05.082132Z",
     "start_time": "2020-05-14T02:20:04.444598Z"
    }
   },
   "outputs": [],
   "source": [
    "bp = jsd_bigrams_freq_1_removed.boxplot(column = 'post_jsd_size', \n",
    "                                     by=['weight', 'inflation'], \n",
    "                                     figsize=(20, 10), \n",
    "                                     rot = 0, \n",
    "                                     vert = False,\n",
    "                                     boxprops=boxprops,\n",
    "                                     medianprops=medianprops,\n",
    "                                     color=dict(boxes='black', whiskers='black', medians='black', caps='black'))\n",
    "# label adjustment\n",
    "p = plt.gca()\n",
    "p.set_xlabel(\"Clustering Type\", fontsize = 15)\n",
    "p.set_ylabel(\"Cluster Size\", fontsize = 15)\n",
    "plt.suptitle(\"Distribution of Cluster Sizes\", fontsize=20)\n",
    "p.set_title(\"All Cluster Sizes\", fontsize = 16)\n",
    "p.tick_params(axis='y', labelsize=12)\n",
    "p.tick_params(axis='x', labelsize=12)\n",
    "p.grid(b=None)"
   ]
  },
  {
   "cell_type": "code",
   "execution_count": null,
   "metadata": {
    "ExecuteTime": {
     "end_time": "2020-05-14T02:19:20.727970Z",
     "start_time": "2020-05-14T02:19:20.325029Z"
    }
   },
   "outputs": [],
   "source": [
    "boxprops = dict(linestyle='-', linewidth=3)\n",
    "medianprops = dict(linestyle='-', linewidth=1.5)\n",
    "\n",
    "bp = jsd_bigrams_freq_1_removed[jsd_bigrams_freq_1_removed['post_jsd_size']<200].boxplot(column = 'post_jsd_size', \n",
    "                                                                                         by=['weight', 'inflation'], \n",
    "                                                                                         figsize=(20, 10), \n",
    "                                                                                         rot = 0, \n",
    "                                                                                         vert = False,\n",
    "                                                                                         boxprops=boxprops,\n",
    "                                                                                         medianprops=medianprops,\n",
    "                                                                                         color=dict(boxes='black', whiskers='black', medians='black', caps='black'))\n",
    "\n",
    "\n",
    "# label adjustment\n",
    "p = plt.gca()\n",
    "p.set_xlabel(\"Clustering Type\", fontsize = 15)\n",
    "p.set_ylabel(\"Cluster Size\", fontsize = 15)\n",
    "plt.suptitle(\"Distribution of Cluster Sizes\", fontsize=20)\n",
    "p.set_title(\"For Cluster Sizes < 200\", fontsize = 16)\n",
    "p.tick_params(axis='y', labelsize=12)\n",
    "p.tick_params(axis='x', labelsize=12)\n",
    "p.grid(b=None)\n",
    "\n",
    "\n",
    "# plt.savefig('/Users/shreya/Documents/mcl_jsd/unigrams/Cluster_Sizes_lt_200.png', dpi=300)"
   ]
  },
  {
   "cell_type": "code",
   "execution_count": null,
   "metadata": {
    "ExecuteTime": {
     "end_time": "2020-05-14T14:57:32.671617Z",
     "start_time": "2020-05-14T14:57:32.668767Z"
    }
   },
   "outputs": [],
   "source": [
    "# # Original cluster size\n",
    "\n",
    "# fig, axs = plt.subplots(2, 2, figsize=(10, 4), dpi=120, sharey=False, sharex = True)\n",
    "# plt.suptitle(\"Distribution of Original Cluster Size\", fontsize=15, y = 1.05)\n",
    "# text = 'Number of Clusters: ' + str(len(jsd['total_size'][(jsd['weight'] == 'ncf') & (jsd['inflation'] == 20)]))\n",
    "# axs[0,0].hist(jsd['total_size'][(jsd['weight'] == 'ncf') & (jsd['inflation'] == 20)])\n",
    "# axs[0,0].set_title(\"total_size: ncf 20\", fontsize = 12)\n",
    "# axs[0,0].annotate(text, xy=(0.60, 0.90), xycoords='axes fraction', fontsize = 8)\n",
    "\n",
    "# text = 'Number of Clusters: ' + str(len(jsd['total_size'][(jsd['weight'] == 'ncf') & (jsd['inflation'] == 30)]))\n",
    "# axs[0,1].hist(jsd['total_size'][(jsd['weight'] == 'ncf') & (jsd['inflation'] == 30)])\n",
    "# axs[0,1].set_title(\"total_size: ncf 30\", fontsize = 12)\n",
    "# axs[0,1].annotate(text, xy=(0.60, 0.90), xycoords='axes fraction', fontsize = 8)\n",
    "\n",
    "# text = 'Number of Clusters: ' + str(len(jsd['total_size'][(jsd['weight'] == 'ncf') & (jsd['inflation'] == 40)]))\n",
    "# axs[1,0].hist(jsd['total_size'][(jsd['weight'] == 'ncf') & (jsd['inflation'] == 40)])\n",
    "# axs[1,0].set_title(\"total_size: ncf 40\", fontsize = 12)\n",
    "# axs[1,0].annotate(text, xy=(0.60, 0.90), xycoords='axes fraction', fontsize = 8)\n",
    "\n",
    "# text = 'Number of Clusters: ' + str(len(jsd['total_size'][(jsd['weight'] == 'ncf') & (jsd['inflation'] == 60)]))\n",
    "# axs[1,1].hist(jsd['total_size'][(jsd['weight'] == 'ncf') & (jsd['inflation'] == 60)])\n",
    "# axs[1,1].set_title(\"total_size: ncf 60\", fontsize = 12)\n",
    "# axs[1,1].annotate(text, xy=(0.60, 0.90), xycoords='axes fraction', fontsize = 8)\n",
    "\n",
    "# for ax in axs.flat:\n",
    "#     ax.set(xlabel='Cluster Size', ylabel='Frequency')\n",
    "\n",
    "# # Hide x labels and tick labels for top plots and y ticks for right plots.\n",
    "# # for ax in axs.flat:\n",
    "# #     ax.label_outer()\n",
    "\n",
    "# plt.tight_layout()    \n",
    "# plt.show()"
   ]
  },
  {
   "cell_type": "code",
   "execution_count": null,
   "metadata": {},
   "outputs": [],
   "source": []
  },
  {
   "cell_type": "code",
   "execution_count": null,
   "metadata": {},
   "outputs": [],
   "source": []
  },
  {
   "cell_type": "code",
   "execution_count": null,
   "metadata": {},
   "outputs": [],
   "source": [
    "# ----------------- UNIGRAMS ------------------- #"
   ]
  },
  {
   "cell_type": "code",
   "execution_count": null,
   "metadata": {},
   "outputs": [],
   "source": [
    "jsd_unigrams_freq_1_removed = pd.read_csv(\"/Users/shreya/Documents/mcl_jsd/unigrams/JSD_output_unigrams.csv\")\n",
    "jsd_unigrams_freq_1_removed = jsd_unigrams_freq_1_removed.reset_index(drop=True)"
   ]
  },
  {
   "cell_type": "code",
   "execution_count": null,
   "metadata": {},
   "outputs": [],
   "source": [
    "column_names = ['weight', 'inflation', 'cluster', 'total_size', 'pre_jsd_size', 'missing_values',\n",
    "       'post_jsd_size', 'jsd_nans', 'mean_jsd', 'min_jsd', 'percentile_25_jsd',\n",
    "       'median_jsd', 'percentile_75_jsd', 'max_jsd', 'std_dev_jsd',\n",
    "       'total_unique_unigrams', 'final_unigrams', 'freq_1_unigrams_prop', 'random_jsd']\n",
    "\n",
    "ncf_20_jsd_random_unigrams_freq_1_removed = pd.read_csv(\"/Users/shreya/Documents/mcl_jsd/unigrams/ncf_20_jsd_random_unigrams.csv\", names=column_names)\n",
    "# ncf_30_jsd_random_unigrams_freq_1_removed = pd.read_csv(\"/Users/shreya/Documents/mcl_jsd/unigrams/ncf_30_jsd_random_unigrams.csv\", names=column_names)\n",
    "# ncf_40_jsd_random_unigrams_freq_1_removed = pd.read_csv(\"/Users/shreya/Documents/mcl_jsd/unigrams/ncf_40_jsd_random_unigrams.csv\", names=column_names)\n",
    "now_60_jsd_random_unigrams_freq_1_removed = pd.read_csv(\"/Users/shreya/Documents/mcl_jsd/unigrams/now_60_jsd_random_unigrams.csv\", names=column_names)\n",
    "\n",
    "names_unigrams = ['NCF 20','NOW 60']\n",
    "\n",
    "now_60_jsd_random_unigrams_freq_1_removed = now_60_jsd_random_unigrams_freq_1_removed.drop_duplicates()\n",
    "\n",
    "df_list_unigrams_freq_1_removed = [ncf_20_jsd_random_unigrams_freq_1_removed, now_60_jsd_random_unigrams_freq_1_removed]"
   ]
  },
  {
   "cell_type": "code",
   "execution_count": null,
   "metadata": {},
   "outputs": [],
   "source": [
    "for df in df_list_unigrams_freq_1_removed:\n",
    "    \n",
    "    df['random_jsd'] = df['random_jsd'].swifter.progress_bar(False).apply(fix_eval_issue)\n",
    "    df['mean_random_jsd'] = np.mean(df['random_jsd'].tolist(), axis = 1)\n",
    "    df['random_jsd_range'] = np.max(df['random_jsd'].tolist(), axis = 1)-np.min(df['random_jsd'].tolist(), axis = 1)\n",
    "    df['jsd_coherence_unigrams_freq_1_removed'] = df['mean_random_jsd']-df['mean_jsd']"
   ]
  },
  {
   "cell_type": "code",
   "execution_count": null,
   "metadata": {},
   "outputs": [],
   "source": [
    "ncf_20_jsd_random_unigrams_freq_1_removed.head()"
   ]
  },
  {
   "cell_type": "code",
   "execution_count": null,
   "metadata": {},
   "outputs": [],
   "source": [
    "boxprops = dict(linestyle='-', linewidth=1)\n",
    "medianprops = dict(linestyle='-', linewidth=0.5)\n",
    "\n",
    "for i in range(len(df_list_unigrams_freq_1_removed)):\n",
    "\n",
    "    bp = df_list_unigrams_freq_1_removed[i].boxplot(column = 'mean_jsd', \n",
    "                                                    by='post_jsd_size', \n",
    "                                                    figsize=(20, 5), \n",
    "                                                    rot = 0,\n",
    "                                                    boxprops=boxprops,\n",
    "                                                    medianprops=medianprops,\n",
    "                                                   color=dict(boxes='black', whiskers='black', medians='black', caps='black'))\n",
    "\n",
    "    # label adjustment\n",
    "    p = plt.gca()\n",
    "    p.set_xlabel(\"Cluster Size\", fontsize = 12)\n",
    "    p.set_ylabel(\"JSD\", fontsize = 12)\n",
    "    title_text = names_unigrams[i] + \" Mean JSD Values by Cluster Size\"\n",
    "    plt.suptitle(title_text, fontsize=16)\n",
    "    p.set_title(\"Unigrams\")\n",
    "    p.tick_params(axis='y', labelsize=6)\n",
    "    p.tick_params(axis='x', labelsize=6)\n",
    "    p.grid(b=None)\n",
    "    \n",
    "#     plt.savefig('/Users/shreya/Documents/consolidated_output/unigrams/ncf_20_mean_jsd.png', dpi=300)"
   ]
  },
  {
   "cell_type": "code",
   "execution_count": null,
   "metadata": {},
   "outputs": [],
   "source": [
    "for i in range(len(df_list_unigrams_freq_1_removed)):\n",
    "\n",
    "    bp = df_list_unigrams_freq_1_removed[i].boxplot(column = 'jsd_coherence_unigrams_freq_1_removed', by='post_jsd_size', figsize=(20, 5), rot = 90)\n",
    "\n",
    "    # label adjustment\n",
    "    p = plt.gca()\n",
    "    p.set_xlabel(\"Cluster Size\", fontsize = 12)\n",
    "    p.set_ylabel(\"Coherence\", fontsize = 12)\n",
    "    title_text = names_unigrams[i] + \" JSD Coherence Values by Cluster Size\"\n",
    "    plt.suptitle(title_text, fontsize=16)\n",
    "    p.set_title(\"Unigrams\")\n",
    "    p.tick_params(axis='y', labelsize=8)\n",
    "    p.tick_params(axis='x', labelsize=8)\n",
    "    p.grid(b=None)"
   ]
  },
  {
   "cell_type": "code",
   "execution_count": null,
   "metadata": {},
   "outputs": [],
   "source": [
    "for i in range(len(df_list_unigrams_freq_1_removed)):\n",
    "\n",
    "    bp = df_list_unigrams_freq_1_removed[i].boxplot(column = 'mean_random_jsd', by='post_jsd_size', figsize=(20, 5), rot = 90)\n",
    "\n",
    "    # label adjustment\n",
    "    p = plt.gca()\n",
    "    p.set_xlabel(\"Cluster Size\", fontsize = 12)\n",
    "    p.set_ylabel(\"Mean Random JSD\", fontsize = 12)\n",
    "    title_text = names_unigrams[i] + \" Mean Random JSD Values by Cluster Size\"\n",
    "    plt.suptitle(title_text, fontsize=16)\n",
    "    p.set_title(\"Unigrams\")\n",
    "    p.tick_params(axis='y', labelsize=8)\n",
    "    p.tick_params(axis='x', labelsize=8)"
   ]
  },
  {
   "cell_type": "code",
   "execution_count": null,
   "metadata": {},
   "outputs": [],
   "source": [
    "from matplotlib.widgets import CheckButtons\n",
    "\n",
    "plt.figure(figsize=(20, 8))\n",
    "plt.title('Range of Random JSD Values by Cluster Number', fontsize=15)\n",
    "ncf_20, = plt.plot(ncf_20_jsd_random_unigrams_freq_1_removed['cluster'], \n",
    "                   ncf_20_jsd_random_unigrams_freq_1_removed['random_jsd_range'], label = 'ncf 20', visible=True)\n",
    "# ncf_30, = plt.plot(ncf_30_jsd['cluster'], ncf_30_jsd['random_jsd_range'], label = 'ncf 30', visible=False)\n",
    "# ncf_40, = plt.plot(ncf_40_jsd['cluster'], ncf_40_jsd['random_jsd_range'], label = 'ncf 40', visible=False)\n",
    "# ncf_60, = plt.plot(ncf_60_jsd['cluster'], ncf_60_jsd['random_jsd_range'], label = 'ncf 60', visible=False)\n",
    "\n",
    "# sf_20, = plt.plot(sf_20_jsd['cluster'], sf_20_jsd['random_jsd_range'], label = 'sf 20', visible=False)\n",
    "# sf_30, = plt.plot(sf_30_jsd['cluster'], sf_30_jsd['random_jsd_range'], label = 'sf 30', visible=False)\n",
    "# sf_40, = plt.plot(sf_40_jsd['cluster'], sf_40_jsd['random_jsd_range'], label = 'sf 40', visible=False)\n",
    "# sf_60, = plt.plot(sf_60_jsd['cluster'], sf_60_jsd['random_jsd_range'], label = 'sf 60', visible=False)\n",
    "\n",
    "# now_20, = plt.plot(now_20_jsd['cluster'], now_20_jsd['random_jsd_range'], label = 'now 20', visible=True)\n",
    "# now_30, = plt.plot(now_30_jsd['cluster'], now_30_jsd['random_jsd_range'], label = 'now 30', visible=True)\n",
    "# now_40, = plt.plot(now_40_jsd['cluster'], now_40_jsd['random_jsd_range'], label = 'now 40', visible=True)\n",
    "now_60, = plt.plot(now_60_jsd_random_unigrams_freq_1_removed['cluster'], \n",
    "                   now_60_jsd_random_unigrams_freq_1_removed['random_jsd_range'], label = 'now 60', visible=True)\n",
    "\n",
    "# plt.legend(handles=[ncf_20, ncf_30, ncf_40, ncf_60, \n",
    "#                     sf_20, sf_30, sf_40, sf_60,\n",
    "#                     now_20, now_30, now_40, now_60])\n",
    "\n",
    "# lines = [ncf_20, ncf_30, ncf_40, ncf_60,\n",
    "#          sf_20, sf_30, sf_40, sf_60,\n",
    "#          now_20, now_30, now_40, now_60]\n",
    "\n",
    "plt.legend(handles=[ncf_20, now_60])\n",
    "lines = [ncf_20, now_60]\n",
    "\n",
    "plt.xlabel('Cluster Number', fontsize=12)\n",
    "plt.ylabel('Random JSD Range', fontsize=12)\n",
    "\n",
    "# Make checkbuttons with all plotted lines with correct visibility\n",
    "rax = plt.axes([0.02, 0.4, 0.05, 0.25])\n",
    "labels = [str(line.get_label()) for line in lines]\n",
    "visibility = [line.get_visible() for line in lines]\n",
    "check = CheckButtons(rax, labels, visibility)\n",
    "\n",
    "\n",
    "def func(label):\n",
    "    index = labels.index(label)\n",
    "    lines[index].set_visible(not lines[index].get_visible())\n",
    "    plt.draw()\n",
    "\n",
    "check.on_clicked(func)\n",
    "\n",
    "# plt.show()"
   ]
  },
  {
   "cell_type": "code",
   "execution_count": null,
   "metadata": {},
   "outputs": [],
   "source": [
    "ncf_20_jsd_random_unigrams_freq_1_removed['random_jsd_range'].describe()"
   ]
  },
  {
   "cell_type": "code",
   "execution_count": null,
   "metadata": {},
   "outputs": [],
   "source": [
    "now_60_jsd_random_unigrams_freq_1_removed['random_jsd_range'].describe()"
   ]
  },
  {
   "cell_type": "code",
   "execution_count": null,
   "metadata": {},
   "outputs": [],
   "source": [
    "table_list = [i for i in range(len(names_unigrams))]\n",
    "headers = [\"Name\", \"Original Size\", \"After Missing\", \"After JSD Nans\", \"Original Coverage\", \"Missing Coverage\", \"Cluster JSD\", \"Cluster Coherence\"]\n",
    "\n",
    "for i in range(len(df_list_unigrams_freq_1_removed)):\n",
    "    \n",
    "    original = sum(df_list_unigrams_freq_1_removed[i][\"total_size\"])\n",
    "    after_missing = sum(df_list_unigrams_freq_1_removed[i][\"pre_jsd_size\"])\n",
    "    after_jsd_nans = sum(df_list_unigrams_freq_1_removed[i][\"post_jsd_size\"])\n",
    "    \n",
    "    mean_jsd = round(sum(df_list_unigrams_freq_1_removed[i]['post_jsd_size']*df_list_unigrams_freq_1_removed[i]['mean_jsd'])/sum(df_list_unigrams_freq_1_removed[i]['post_jsd_size']), 3)\n",
    "    coherence = round(sum(df_list_unigrams_freq_1_removed[i]['post_jsd_size']*df_list_unigrams_freq_1_removed[i]['jsd_coherence_unigrams_freq_1_removed'])/sum(df_list_unigrams_freq_1_removed[i]['post_jsd_size']), 3)\n",
    "    \n",
    "    table_list[i] = [names_unigrams[i], original, after_missing, after_jsd_nans, round((original*100)/225023, 2), round((after_missing*100)/176094, 2), mean_jsd, coherence]\n",
    "    \n",
    "print('The following table is for JSD (Unigrams)')\n",
    "print('Tokens with cluster frequency = 1 were removed.')\n",
    "print('Note that \"Cluster JSD\"  and \"Cluster Coherence\" are weighted averages')\n",
    "# display(HTML(tabulate.tabulate(table_list, tablefmt='html', headers=headers)))\n",
    "print(tabulate.tabulate(table_list, headers, tablefmt=\"psql\"))"
   ]
  },
  {
   "cell_type": "code",
   "execution_count": null,
   "metadata": {},
   "outputs": [],
   "source": []
  },
  {
   "cell_type": "code",
   "execution_count": null,
   "metadata": {},
   "outputs": [],
   "source": []
  },
  {
   "cell_type": "code",
   "execution_count": null,
   "metadata": {},
   "outputs": [],
   "source": []
  },
  {
   "cell_type": "code",
   "execution_count": null,
   "metadata": {},
   "outputs": [],
   "source": []
  },
  {
   "cell_type": "code",
   "execution_count": null,
   "metadata": {},
   "outputs": [],
   "source": []
  },
  {
   "cell_type": "code",
   "execution_count": null,
   "metadata": {},
   "outputs": [],
   "source": []
  },
  {
   "cell_type": "code",
   "execution_count": null,
   "metadata": {},
   "outputs": [],
   "source": [
    "\n"
   ]
  },
  {
   "cell_type": "code",
   "execution_count": 6,
   "metadata": {},
   "outputs": [],
   "source": [
    "# ------ IMMUNOLOGY DATA ------- #\n",
    "\n",
    "from scipy.spatial import distance\n",
    "from sklearn.feature_extraction.text import CountVectorizer\n",
    "import sklearn\n",
    "import numpy as np\n",
    "import swifter  # Makes applying to datframe as fast as vectorizing\n",
    "from nltk.probability import FreqDist\n",
    "import string\n",
    "from nltk.corpus import stopwords\n",
    "import glob\n",
    "import os\n",
    "import pandas as pd\n",
    "import re\n",
    "from textblob import TextBlob, Word\n",
    "import nltk\n",
    "from nltk.util import ngrams\n",
    "import re\n",
    "# nltk.download('stopwords')\n",
    "from sys import argv\n",
    "from scipy import sparse\n",
    "from ast import literal_eval\n",
    "import multiprocessing as mp\n",
    "from IPython.display import HTML, display\n",
    "import tabulate\n",
    "\n",
    "from matplotlib.ticker import FuncFormatter\n",
    "import matplotlib.colors as mcolors\n",
    "import matplotlib.pyplot as plt\n",
    "%matplotlib inline\n",
    "from matplotlib import cycler"
   ]
  },
  {
   "cell_type": "code",
   "execution_count": 7,
   "metadata": {},
   "outputs": [],
   "source": [
    "def fix_eval_issue(doc):\n",
    "    return literal_eval(doc)"
   ]
  },
  {
   "cell_type": "code",
   "execution_count": 8,
   "metadata": {},
   "outputs": [],
   "source": [
    "column_names = ['weight', 'inflation', 'cluster', 'total_size', 'pre_jsd_size', 'missing_values',\n",
    "       'post_jsd_size', 'jsd_nans', 'mean_jsd', 'min_jsd', 'percentile_25_jsd',\n",
    "       'median_jsd', 'percentile_75_jsd', 'max_jsd', 'std_dev_jsd',\n",
    "       'total_unique_unigrams', 'final_unigrams', 'freq_1_unigrams_prop', 'random_jsd']"
   ]
  },
  {
   "cell_type": "code",
   "execution_count": 9,
   "metadata": {},
   "outputs": [
    {
     "name": "stdout",
     "output_type": "stream",
     "text": [
      "12701\n",
      "Max cluster size is 12590\n",
      "Length of this dataframe after dropping duplicates is 12590\n",
      "Length of this dataframe after dropping Nans is 10081\n"
     ]
    },
    {
     "data": {
      "text/html": [
       "<div>\n",
       "<style scoped>\n",
       "    .dataframe tbody tr th:only-of-type {\n",
       "        vertical-align: middle;\n",
       "    }\n",
       "\n",
       "    .dataframe tbody tr th {\n",
       "        vertical-align: top;\n",
       "    }\n",
       "\n",
       "    .dataframe thead th {\n",
       "        text-align: right;\n",
       "    }\n",
       "</style>\n",
       "<table border=\"1\" class=\"dataframe\">\n",
       "  <thead>\n",
       "    <tr style=\"text-align: right;\">\n",
       "      <th></th>\n",
       "      <th>index</th>\n",
       "      <th>weight</th>\n",
       "      <th>inflation</th>\n",
       "      <th>cluster</th>\n",
       "      <th>total_size</th>\n",
       "      <th>pre_jsd_size</th>\n",
       "      <th>missing_values</th>\n",
       "      <th>post_jsd_size</th>\n",
       "      <th>jsd_nans</th>\n",
       "      <th>mean_jsd</th>\n",
       "      <th>min_jsd</th>\n",
       "      <th>percentile_25_jsd</th>\n",
       "      <th>median_jsd</th>\n",
       "      <th>percentile_75_jsd</th>\n",
       "      <th>max_jsd</th>\n",
       "      <th>std_dev_jsd</th>\n",
       "      <th>total_unique_unigrams</th>\n",
       "      <th>final_unigrams</th>\n",
       "      <th>freq_1_unigrams_prop</th>\n",
       "      <th>random_jsd</th>\n",
       "    </tr>\n",
       "  </thead>\n",
       "  <tbody>\n",
       "    <tr>\n",
       "      <th>0</th>\n",
       "      <td>0</td>\n",
       "      <td>now</td>\n",
       "      <td>20</td>\n",
       "      <td>1</td>\n",
       "      <td>1773</td>\n",
       "      <td>1629</td>\n",
       "      <td>144</td>\n",
       "      <td>1629.0</td>\n",
       "      <td>0.0</td>\n",
       "      <td>0.465947</td>\n",
       "      <td>0.352121</td>\n",
       "      <td>0.429503</td>\n",
       "      <td>0.459776</td>\n",
       "      <td>0.497486</td>\n",
       "      <td>0.668891</td>\n",
       "      <td>0.051167</td>\n",
       "      <td>14527.0</td>\n",
       "      <td>5849.0</td>\n",
       "      <td>0.597370</td>\n",
       "      <td>[0.6054488848143742, 0.6062188744777717, 0.606...</td>\n",
       "    </tr>\n",
       "    <tr>\n",
       "      <th>1</th>\n",
       "      <td>1</td>\n",
       "      <td>now</td>\n",
       "      <td>20</td>\n",
       "      <td>2</td>\n",
       "      <td>1180</td>\n",
       "      <td>1091</td>\n",
       "      <td>89</td>\n",
       "      <td>1091.0</td>\n",
       "      <td>0.0</td>\n",
       "      <td>0.490482</td>\n",
       "      <td>0.377030</td>\n",
       "      <td>0.455242</td>\n",
       "      <td>0.487721</td>\n",
       "      <td>0.519619</td>\n",
       "      <td>0.667658</td>\n",
       "      <td>0.047851</td>\n",
       "      <td>12112.0</td>\n",
       "      <td>4748.0</td>\n",
       "      <td>0.607992</td>\n",
       "      <td>[0.6032406010033796, 0.60354924986735, 0.60472...</td>\n",
       "    </tr>\n",
       "    <tr>\n",
       "      <th>2</th>\n",
       "      <td>2</td>\n",
       "      <td>now</td>\n",
       "      <td>20</td>\n",
       "      <td>3</td>\n",
       "      <td>713</td>\n",
       "      <td>686</td>\n",
       "      <td>27</td>\n",
       "      <td>686.0</td>\n",
       "      <td>0.0</td>\n",
       "      <td>0.539919</td>\n",
       "      <td>0.436018</td>\n",
       "      <td>0.510817</td>\n",
       "      <td>0.536892</td>\n",
       "      <td>0.565891</td>\n",
       "      <td>0.661115</td>\n",
       "      <td>0.040938</td>\n",
       "      <td>10357.0</td>\n",
       "      <td>3992.0</td>\n",
       "      <td>0.614560</td>\n",
       "      <td>[0.5990883506911658, 0.5996575813184757, 0.600...</td>\n",
       "    </tr>\n",
       "    <tr>\n",
       "      <th>3</th>\n",
       "      <td>3</td>\n",
       "      <td>now</td>\n",
       "      <td>20</td>\n",
       "      <td>4</td>\n",
       "      <td>676</td>\n",
       "      <td>626</td>\n",
       "      <td>50</td>\n",
       "      <td>626.0</td>\n",
       "      <td>0.0</td>\n",
       "      <td>0.515501</td>\n",
       "      <td>0.401478</td>\n",
       "      <td>0.480059</td>\n",
       "      <td>0.509952</td>\n",
       "      <td>0.545962</td>\n",
       "      <td>0.648680</td>\n",
       "      <td>0.046716</td>\n",
       "      <td>9631.0</td>\n",
       "      <td>3784.0</td>\n",
       "      <td>0.607102</td>\n",
       "      <td>[0.5982607914231391, 0.5986614170222366, 0.599...</td>\n",
       "    </tr>\n",
       "    <tr>\n",
       "      <th>4</th>\n",
       "      <td>4</td>\n",
       "      <td>now</td>\n",
       "      <td>20</td>\n",
       "      <td>5</td>\n",
       "      <td>686</td>\n",
       "      <td>632</td>\n",
       "      <td>54</td>\n",
       "      <td>632.0</td>\n",
       "      <td>0.0</td>\n",
       "      <td>0.489372</td>\n",
       "      <td>0.390118</td>\n",
       "      <td>0.458618</td>\n",
       "      <td>0.483346</td>\n",
       "      <td>0.521340</td>\n",
       "      <td>0.658429</td>\n",
       "      <td>0.042630</td>\n",
       "      <td>8975.0</td>\n",
       "      <td>3637.0</td>\n",
       "      <td>0.594763</td>\n",
       "      <td>[0.5982509730056703, 0.5989114731679277, 0.599...</td>\n",
       "    </tr>\n",
       "  </tbody>\n",
       "</table>\n",
       "</div>"
      ],
      "text/plain": [
       "   index weight  inflation  cluster  total_size  pre_jsd_size  missing_values  \\\n",
       "0      0    now         20        1        1773          1629             144   \n",
       "1      1    now         20        2        1180          1091              89   \n",
       "2      2    now         20        3         713           686              27   \n",
       "3      3    now         20        4         676           626              50   \n",
       "4      4    now         20        5         686           632              54   \n",
       "\n",
       "   post_jsd_size  jsd_nans  mean_jsd   min_jsd  percentile_25_jsd  median_jsd  \\\n",
       "0         1629.0       0.0  0.465947  0.352121           0.429503    0.459776   \n",
       "1         1091.0       0.0  0.490482  0.377030           0.455242    0.487721   \n",
       "2          686.0       0.0  0.539919  0.436018           0.510817    0.536892   \n",
       "3          626.0       0.0  0.515501  0.401478           0.480059    0.509952   \n",
       "4          632.0       0.0  0.489372  0.390118           0.458618    0.483346   \n",
       "\n",
       "   percentile_75_jsd   max_jsd  std_dev_jsd  total_unique_unigrams  \\\n",
       "0           0.497486  0.668891     0.051167                14527.0   \n",
       "1           0.519619  0.667658     0.047851                12112.0   \n",
       "2           0.565891  0.661115     0.040938                10357.0   \n",
       "3           0.545962  0.648680     0.046716                 9631.0   \n",
       "4           0.521340  0.658429     0.042630                 8975.0   \n",
       "\n",
       "   final_unigrams  freq_1_unigrams_prop  \\\n",
       "0          5849.0              0.597370   \n",
       "1          4748.0              0.607992   \n",
       "2          3992.0              0.614560   \n",
       "3          3784.0              0.607102   \n",
       "4          3637.0              0.594763   \n",
       "\n",
       "                                          random_jsd  \n",
       "0  [0.6054488848143742, 0.6062188744777717, 0.606...  \n",
       "1  [0.6032406010033796, 0.60354924986735, 0.60472...  \n",
       "2  [0.5990883506911658, 0.5996575813184757, 0.600...  \n",
       "3  [0.5982607914231391, 0.5986614170222366, 0.599...  \n",
       "4  [0.5982509730056703, 0.5989114731679277, 0.599...  "
      ]
     },
     "execution_count": 9,
     "metadata": {},
     "output_type": "execute_result"
    }
   ],
   "source": [
    "jsd_random_unshuffled_complete = pd.read_csv(\"/Users/shreya/Documents/mcl/immunology/JSD_random_output_imm90_unshuffled.csv\", names = column_names)\n",
    "print(len(jsd_random_unshuffled_complete))\n",
    "jsd_random_unshuffled_complete = jsd_random_unshuffled_complete.drop_duplicates(subset= ['cluster'], keep='first')\n",
    "print(f'Max cluster size is {max(jsd_random_unshuffled_complete[\"cluster\"])}')\n",
    "print(f'Length of this dataframe after dropping duplicates is {len(jsd_random_unshuffled_complete)}')\n",
    "jsd_random_unshuffled_complete = jsd_random_unshuffled_complete.sort_values(by=['cluster'])\n",
    "jsd_random_unshuffled_complete = jsd_random_unshuffled_complete.reset_index()\n",
    "jsd_random_unshuffled = jsd_random_unshuffled_complete.dropna()\n",
    "print(f'Length of this dataframe after dropping Nans is {len(jsd_random_unshuffled)}')\n",
    "jsd_random_unshuffled.head()"
   ]
  },
  {
   "cell_type": "code",
   "execution_count": 10,
   "metadata": {},
   "outputs": [
    {
     "name": "stdout",
     "output_type": "stream",
     "text": [
      "246649\n",
      "Max cluster size is 108002\n",
      "Length of this dataframe after dropping duplicates is 108002\n",
      "Length of this dataframe after dropping Nans is 7680\n"
     ]
    },
    {
     "name": "stderr",
     "output_type": "stream",
     "text": [
      "/Users/shreya/.pyenv/versions/3.8.2/lib/python3.8/site-packages/IPython/core/interactiveshell.py:3062: DtypeWarning: Columns (18) have mixed types.Specify dtype option on import or set low_memory=False.\n",
      "  has_raised = await self.run_ast_nodes(code_ast.body, cell_name,\n"
     ]
    },
    {
     "data": {
      "text/html": [
       "<div>\n",
       "<style scoped>\n",
       "    .dataframe tbody tr th:only-of-type {\n",
       "        vertical-align: middle;\n",
       "    }\n",
       "\n",
       "    .dataframe tbody tr th {\n",
       "        vertical-align: top;\n",
       "    }\n",
       "\n",
       "    .dataframe thead th {\n",
       "        text-align: right;\n",
       "    }\n",
       "</style>\n",
       "<table border=\"1\" class=\"dataframe\">\n",
       "  <thead>\n",
       "    <tr style=\"text-align: right;\">\n",
       "      <th></th>\n",
       "      <th>index</th>\n",
       "      <th>weight</th>\n",
       "      <th>inflation</th>\n",
       "      <th>cluster</th>\n",
       "      <th>total_size</th>\n",
       "      <th>pre_jsd_size</th>\n",
       "      <th>missing_values</th>\n",
       "      <th>post_jsd_size</th>\n",
       "      <th>jsd_nans</th>\n",
       "      <th>mean_jsd</th>\n",
       "      <th>min_jsd</th>\n",
       "      <th>percentile_25_jsd</th>\n",
       "      <th>median_jsd</th>\n",
       "      <th>percentile_75_jsd</th>\n",
       "      <th>max_jsd</th>\n",
       "      <th>std_dev_jsd</th>\n",
       "      <th>total_unique_unigrams</th>\n",
       "      <th>final_unigrams</th>\n",
       "      <th>freq_1_unigrams_prop</th>\n",
       "      <th>random_jsd</th>\n",
       "    </tr>\n",
       "  </thead>\n",
       "  <tbody>\n",
       "    <tr>\n",
       "      <th>0</th>\n",
       "      <td>0</td>\n",
       "      <td>now</td>\n",
       "      <td>20</td>\n",
       "      <td>1</td>\n",
       "      <td>646</td>\n",
       "      <td>585</td>\n",
       "      <td>61</td>\n",
       "      <td>585.0</td>\n",
       "      <td>0.0</td>\n",
       "      <td>0.596699</td>\n",
       "      <td>0.506087</td>\n",
       "      <td>0.572831</td>\n",
       "      <td>0.596881</td>\n",
       "      <td>0.622218</td>\n",
       "      <td>0.675428</td>\n",
       "      <td>0.032902</td>\n",
       "      <td>11967.0</td>\n",
       "      <td>4094.0</td>\n",
       "      <td>0.657893</td>\n",
       "      <td>[0.5967974750179244, 0.6011662341974912, 0.599...</td>\n",
       "    </tr>\n",
       "    <tr>\n",
       "      <th>1</th>\n",
       "      <td>1</td>\n",
       "      <td>now</td>\n",
       "      <td>20</td>\n",
       "      <td>2</td>\n",
       "      <td>514</td>\n",
       "      <td>460</td>\n",
       "      <td>54</td>\n",
       "      <td>460.0</td>\n",
       "      <td>0.0</td>\n",
       "      <td>0.589415</td>\n",
       "      <td>0.506349</td>\n",
       "      <td>0.564233</td>\n",
       "      <td>0.586844</td>\n",
       "      <td>0.616543</td>\n",
       "      <td>0.671764</td>\n",
       "      <td>0.034640</td>\n",
       "      <td>9948.0</td>\n",
       "      <td>3285.0</td>\n",
       "      <td>0.669783</td>\n",
       "      <td>[0.595805847052568, 0.5981230318377985, 0.5989...</td>\n",
       "    </tr>\n",
       "    <tr>\n",
       "      <th>2</th>\n",
       "      <td>2</td>\n",
       "      <td>now</td>\n",
       "      <td>20</td>\n",
       "      <td>3</td>\n",
       "      <td>340</td>\n",
       "      <td>297</td>\n",
       "      <td>43</td>\n",
       "      <td>297.0</td>\n",
       "      <td>0.0</td>\n",
       "      <td>0.590278</td>\n",
       "      <td>0.447776</td>\n",
       "      <td>0.568461</td>\n",
       "      <td>0.592435</td>\n",
       "      <td>0.614372</td>\n",
       "      <td>0.677652</td>\n",
       "      <td>0.032943</td>\n",
       "      <td>7596.0</td>\n",
       "      <td>2526.0</td>\n",
       "      <td>0.667457</td>\n",
       "      <td>[0.5914957680801968, 0.5895615990302461, 0.593...</td>\n",
       "    </tr>\n",
       "    <tr>\n",
       "      <th>3</th>\n",
       "      <td>3</td>\n",
       "      <td>now</td>\n",
       "      <td>20</td>\n",
       "      <td>4</td>\n",
       "      <td>297</td>\n",
       "      <td>258</td>\n",
       "      <td>39</td>\n",
       "      <td>258.0</td>\n",
       "      <td>0.0</td>\n",
       "      <td>0.586938</td>\n",
       "      <td>0.505676</td>\n",
       "      <td>0.559913</td>\n",
       "      <td>0.587329</td>\n",
       "      <td>0.616796</td>\n",
       "      <td>0.672967</td>\n",
       "      <td>0.037171</td>\n",
       "      <td>6821.0</td>\n",
       "      <td>2178.0</td>\n",
       "      <td>0.680692</td>\n",
       "      <td>[0.5881035699367867, 0.5892473440447183, 0.591...</td>\n",
       "    </tr>\n",
       "    <tr>\n",
       "      <th>4</th>\n",
       "      <td>4</td>\n",
       "      <td>now</td>\n",
       "      <td>20</td>\n",
       "      <td>5</td>\n",
       "      <td>258</td>\n",
       "      <td>216</td>\n",
       "      <td>42</td>\n",
       "      <td>216.0</td>\n",
       "      <td>0.0</td>\n",
       "      <td>0.585559</td>\n",
       "      <td>0.472794</td>\n",
       "      <td>0.563266</td>\n",
       "      <td>0.587311</td>\n",
       "      <td>0.607310</td>\n",
       "      <td>0.664422</td>\n",
       "      <td>0.033789</td>\n",
       "      <td>6097.0</td>\n",
       "      <td>1934.0</td>\n",
       "      <td>0.682795</td>\n",
       "      <td>[0.586033877244334, 0.5872643478921992, 0.5896...</td>\n",
       "    </tr>\n",
       "  </tbody>\n",
       "</table>\n",
       "</div>"
      ],
      "text/plain": [
       "   index weight  inflation  cluster  total_size  pre_jsd_size  missing_values  \\\n",
       "0      0    now         20        1         646           585              61   \n",
       "1      1    now         20        2         514           460              54   \n",
       "2      2    now         20        3         340           297              43   \n",
       "3      3    now         20        4         297           258              39   \n",
       "4      4    now         20        5         258           216              42   \n",
       "\n",
       "   post_jsd_size  jsd_nans  mean_jsd   min_jsd  percentile_25_jsd  median_jsd  \\\n",
       "0          585.0       0.0  0.596699  0.506087           0.572831    0.596881   \n",
       "1          460.0       0.0  0.589415  0.506349           0.564233    0.586844   \n",
       "2          297.0       0.0  0.590278  0.447776           0.568461    0.592435   \n",
       "3          258.0       0.0  0.586938  0.505676           0.559913    0.587329   \n",
       "4          216.0       0.0  0.585559  0.472794           0.563266    0.587311   \n",
       "\n",
       "   percentile_75_jsd   max_jsd  std_dev_jsd  total_unique_unigrams  \\\n",
       "0           0.622218  0.675428     0.032902                11967.0   \n",
       "1           0.616543  0.671764     0.034640                 9948.0   \n",
       "2           0.614372  0.677652     0.032943                 7596.0   \n",
       "3           0.616796  0.672967     0.037171                 6821.0   \n",
       "4           0.607310  0.664422     0.033789                 6097.0   \n",
       "\n",
       "   final_unigrams  freq_1_unigrams_prop  \\\n",
       "0          4094.0              0.657893   \n",
       "1          3285.0              0.669783   \n",
       "2          2526.0              0.667457   \n",
       "3          2178.0              0.680692   \n",
       "4          1934.0              0.682795   \n",
       "\n",
       "                                          random_jsd  \n",
       "0  [0.5967974750179244, 0.6011662341974912, 0.599...  \n",
       "1  [0.595805847052568, 0.5981230318377985, 0.5989...  \n",
       "2  [0.5914957680801968, 0.5895615990302461, 0.593...  \n",
       "3  [0.5881035699367867, 0.5892473440447183, 0.591...  \n",
       "4  [0.586033877244334, 0.5872643478921992, 0.5896...  "
      ]
     },
     "execution_count": 10,
     "metadata": {},
     "output_type": "execute_result"
    }
   ],
   "source": [
    "jsd_random_shuffled_complete = pd.read_csv(\"/Users/shreya/Documents/mcl/immunology/JSD_random_output_imm90_shuffled.csv\", names = column_names)\n",
    "print(len(jsd_random_shuffled_complete))\n",
    "jsd_random_shuffled_complete = jsd_random_shuffled_complete.drop_duplicates(subset= ['cluster'], keep='first')\n",
    "print(f'Max cluster size is {max(jsd_random_shuffled_complete[\"cluster\"])}')\n",
    "print(f'Length of this dataframe after dropping duplicates is {len(jsd_random_shuffled_complete)}')\n",
    "jsd_random_shuffled_complete = jsd_random_shuffled_complete.sort_values(by=['cluster'])\n",
    "jsd_random_shuffled_complete = jsd_random_shuffled_complete.reset_index()\n",
    "jsd_random_shuffled = jsd_random_shuffled_complete.dropna()\n",
    "print(f'Length of this dataframe after dropping Nans is {len(jsd_random_shuffled)}')\n",
    "jsd_random_shuffled.head()"
   ]
  },
  {
   "cell_type": "code",
   "execution_count": 12,
   "metadata": {},
   "outputs": [],
   "source": [
    "df_list = [jsd_random_unshuffled, jsd_random_shuffled]\n",
    "names = ['unshuffled', 'shuffled']"
   ]
  },
  {
   "cell_type": "code",
   "execution_count": 13,
   "metadata": {},
   "outputs": [
    {
     "name": "stderr",
     "output_type": "stream",
     "text": [
      "<ipython-input-13-f3ee7ef23867>:2: SettingWithCopyWarning: \n",
      "A value is trying to be set on a copy of a slice from a DataFrame.\n",
      "Try using .loc[row_indexer,col_indexer] = value instead\n",
      "\n",
      "See the caveats in the documentation: https://pandas.pydata.org/pandas-docs/stable/user_guide/indexing.html#returning-a-view-versus-a-copy\n",
      "  df['random_jsd'] = df['random_jsd'].swifter.progress_bar(False).apply(fix_eval_issue)\n",
      "<ipython-input-13-f3ee7ef23867>:3: SettingWithCopyWarning: \n",
      "A value is trying to be set on a copy of a slice from a DataFrame.\n",
      "Try using .loc[row_indexer,col_indexer] = value instead\n",
      "\n",
      "See the caveats in the documentation: https://pandas.pydata.org/pandas-docs/stable/user_guide/indexing.html#returning-a-view-versus-a-copy\n",
      "  df['mean_random_jsd'] = np.mean(df['random_jsd'].tolist(), axis = 1)\n",
      "<ipython-input-13-f3ee7ef23867>:4: SettingWithCopyWarning: \n",
      "A value is trying to be set on a copy of a slice from a DataFrame.\n",
      "Try using .loc[row_indexer,col_indexer] = value instead\n",
      "\n",
      "See the caveats in the documentation: https://pandas.pydata.org/pandas-docs/stable/user_guide/indexing.html#returning-a-view-versus-a-copy\n",
      "  df['random_jsd_range'] = np.max(df['random_jsd'].tolist(), axis = 1)-np.min(df['random_jsd'].tolist(), axis = 1)\n",
      "<ipython-input-13-f3ee7ef23867>:5: SettingWithCopyWarning: \n",
      "A value is trying to be set on a copy of a slice from a DataFrame.\n",
      "Try using .loc[row_indexer,col_indexer] = value instead\n",
      "\n",
      "See the caveats in the documentation: https://pandas.pydata.org/pandas-docs/stable/user_guide/indexing.html#returning-a-view-versus-a-copy\n",
      "  df['jsd_coherence'] = df['mean_random_jsd']-df['mean_jsd']\n"
     ]
    }
   ],
   "source": [
    "for df in df_list:\n",
    "    df['random_jsd'] = df['random_jsd'].swifter.progress_bar(False).apply(fix_eval_issue)\n",
    "    df['mean_random_jsd'] = np.mean(df['random_jsd'].tolist(), axis = 1)\n",
    "    df['random_jsd_range'] = np.max(df['random_jsd'].tolist(), axis = 1)-np.min(df['random_jsd'].tolist(), axis = 1)\n",
    "    df['jsd_coherence'] = df['mean_random_jsd']-df['mean_jsd']"
   ]
  },
  {
   "cell_type": "code",
   "execution_count": 14,
   "metadata": {},
   "outputs": [
    {
     "data": {
      "image/png": "[encoded data removed]",
      "text/plain": [
       "<Figure size 1440x360 with 1 Axes>"
      ]
     },
     "metadata": {
      "needs_background": "light"
     },
     "output_type": "display_data"
    },
    {
     "data": {
      "image/png": "[encoded data removed]",
      "text/plain": [
       "<Figure size 1440x360 with 1 Axes>"
      ]
     },
     "metadata": {
      "needs_background": "light"
     },
     "output_type": "display_data"
    },
    {
     "data": {
      "image/png": "[encoded data removed]",
      "text/plain": [
       "<Figure size 1440x360 with 1 Axes>"
      ]
     },
     "metadata": {
      "needs_background": "light"
     },
     "output_type": "display_data"
    },
    {
     "data": {
      "image/png": "[encoded data removed]",
      "text/plain": [
       "<Figure size 1440x360 with 1 Axes>"
      ]
     },
     "metadata": {
      "needs_background": "light"
     },
     "output_type": "display_data"
    },
    {
     "data": {
      "image/png": "[encoded data removed]",
      "text/plain": [
       "<Figure size 1440x360 with 1 Axes>"
      ]
     },
     "metadata": {
      "needs_background": "light"
     },
     "output_type": "display_data"
    },
    {
     "data": {
      "image/png": "[encoded data removed]",
      "text/plain": [
       "<Figure size 1440x360 with 1 Axes>"
      ]
     },
     "metadata": {
      "needs_background": "light"
     },
     "output_type": "display_data"
    }
   ],
   "source": [
    "boxprops = dict(linestyle='-', linewidth=1)\n",
    "medianprops = dict(linestyle='-', linewidth=0.5)\n",
    "\n",
    "for i in range(len(df_list)):\n",
    "\n",
    "    bp_jsd = df_list[i].boxplot(column = 'mean_jsd', \n",
    "                            by='post_jsd_size', \n",
    "                            figsize=(20, 5), \n",
    "                            rot = 0,\n",
    "                            boxprops=boxprops,\n",
    "                            medianprops=medianprops,\n",
    "                            color=dict(boxes='black', whiskers='black', medians='black', caps='black'))\n",
    "\n",
    "    # label adjustment\n",
    "    p = plt.gca()\n",
    "    p.set_xlabel(\"Cluster Size\", fontsize = 12)\n",
    "    p.set_ylabel(\"JSD\", fontsize = 12)\n",
    "    title_text = names[i] + \" Mean JSD Values by Cluster Size\"\n",
    "    plt.suptitle(title_text, fontsize=14)\n",
    "    p.set_title(\"Unigrams\")\n",
    "    p.tick_params(axis='y', labelsize=10)\n",
    "    p.tick_params(axis='x', labelsize=6)\n",
    "    p.grid(b=None)\n",
    "    \n",
    "    bp_rand_jsd = df_list[i].boxplot(column = 'mean_random_jsd', \n",
    "                            by='post_jsd_size', \n",
    "                            figsize=(20, 5), \n",
    "                            rot = 0,\n",
    "                            boxprops=boxprops,\n",
    "                            medianprops=medianprops,\n",
    "                            color=dict(boxes='black', whiskers='black', medians='black', caps='black'))\n",
    "\n",
    "    # label adjustment\n",
    "    p = plt.gca()\n",
    "    p.set_xlabel(\"Cluster Size\", fontsize = 12)\n",
    "    p.set_ylabel(\"Random JSD\", fontsize = 12)\n",
    "    title_text = names[i] + \" Mean Random JSD Values by Cluster Size\"\n",
    "    plt.suptitle('title_text', fontsize=14)\n",
    "    p.set_title(\"Unigrams\")\n",
    "    p.tick_params(axis='y', labelsize=10)\n",
    "    p.tick_params(axis='x', labelsize=6)\n",
    "    p.grid(b=None)\n",
    "    \n",
    "    bp_coherence = df_list[i].boxplot(column = 'jsd_coherence', \n",
    "                            by='post_jsd_size', \n",
    "                            figsize=(20, 5), \n",
    "                            rot = 0,\n",
    "                            boxprops=boxprops,\n",
    "                            medianprops=medianprops,\n",
    "                            color=dict(boxes='black', whiskers='black', medians='black', caps='black'))\n",
    "    \n",
    "    p = plt.gca()\n",
    "    p.set_xlabel(\"Cluster Size\", fontsize = 12)\n",
    "    p.set_ylabel(\"Coherence\", fontsize = 12)\n",
    "    title_text = names[i] + \" Mean Coherence Values by Cluster Size\"\n",
    "    plt.suptitle('title_text', fontsize=14)\n",
    "    p.set_title(\"Unigrams\")\n",
    "    p.tick_params(axis='y', labelsize=10)\n",
    "    p.tick_params(axis='x', labelsize=6)\n",
    "    p.grid(b=None)\n",
    "    \n",
    "#     plt.savefig('/Users/shreya/Documents/consolidated_output/unigrams/ncf_20_mean_jsd.png', dpi=300)"
   ]
  },
  {
   "cell_type": "code",
   "execution_count": null,
   "metadata": {},
   "outputs": [],
   "source": []
  },
  {
   "cell_type": "code",
   "execution_count": null,
   "metadata": {},
   "outputs": [],
   "source": []
  },
  {
   "cell_type": "code",
   "execution_count": 16,
   "metadata": {},
   "outputs": [
    {
     "name": "stdout",
     "output_type": "stream",
     "text": [
      "The following table is for JSD (Unigrams)\n",
      "Tokens with cluster frequency = 1 were removed.\n",
      "Note that \"Avg JSD\", \"Avg Coherence\", and \"Avg Conductance\" are weighted averages\n"
     ]
    },
    {
     "data": {
      "text/html": [
       "<table>\n",
       "<thead>\n",
       "<tr><th>Name      </th><th style=\"text-align: right;\">  Pre-#Articles</th><th style=\"text-align: right;\">  Post-#Articles</th><th style=\"text-align: right;\">  Post-JSD-#Articles</th><th style=\"text-align: right;\">  Pre-Coverage</th><th style=\"text-align: right;\">  Post-Coverage</th><th style=\"text-align: right;\">  Avg Conductance</th><th style=\"text-align: right;\">  Avg JSD</th><th style=\"text-align: right;\">  Avg Coherence</th></tr>\n",
       "</thead>\n",
       "<tbody>\n",
       "<tr><td>unshuffled</td><td style=\"text-align: right;\">         440611</td><td style=\"text-align: right;\">          384321</td><td style=\"text-align: right;\">              384321</td><td style=\"text-align: right;\">         97.81</td><td style=\"text-align: right;\">          85.31</td><td style=\"text-align: right;\">            0.278</td><td style=\"text-align: right;\">    0.433</td><td style=\"text-align: right;\">          0.093</td></tr>\n",
       "<tr><td>shuffled  </td><td style=\"text-align: right;\">         193837</td><td style=\"text-align: right;\">          169480</td><td style=\"text-align: right;\">              169437</td><td style=\"text-align: right;\">         43.03</td><td style=\"text-align: right;\">          37.62</td><td style=\"text-align: right;\">            0.979</td><td style=\"text-align: right;\">    0.483</td><td style=\"text-align: right;\">          0    </td></tr>\n",
       "</tbody>\n",
       "</table>"
      ],
      "text/plain": [
       "<IPython.core.display.HTML object>"
      ]
     },
     "metadata": {},
     "output_type": "display_data"
    }
   ],
   "source": [
    "table_list = [i for i in range(len(names))]\n",
    "# headers = [\"Name\", \"Pre-#Articles\", \"Post-#Articles\",\"Post-JSD-#Articles\", \n",
    "#            \"Pre-Coverage\", \"Post-Coverage\", \"Avg Conductance\", \"Avg JSD\", \n",
    "#            \"Min JSD\", \"Max JSD\", \"Avg Coherence\", \"Min Coherence\", \"Max Coherence\"]\n",
    "\n",
    "headers = [\"Name\", \"Pre-#Articles\", \"Post-#Articles\",\n",
    "           \"Post-JSD-#Articles\", \"Pre-Coverage\", \"Post-Coverage\", \"Avg Conductance\", \n",
    "           \"Avg JSD\", \"Avg Coherence\"]\n",
    "\n",
    "for i in range(len(df_list)):\n",
    "    \n",
    "    original = sum(df_list[i][\"total_size\"])\n",
    "    after_missing = sum(df_list[i][\"pre_jsd_size\"])\n",
    "    after_jsd_nans = sum(df_list[i][\"post_jsd_size\"])\n",
    "    \n",
    "    mean_jsd = round(sum(df_list[i]['post_jsd_size']*df_list[i]['mean_jsd'])/sum(df_list[i]['post_jsd_size']), 3)\n",
    "#     max_avg_jsd = round(df_list[i]['mean_jsd'].max(), 3)\n",
    "#     min_avg_jsd = round(df_list[i]['mean_jsd'].min(), 3)\n",
    "    coherence = round(sum(df_list[i]['post_jsd_size']*df_list[i]['jsd_coherence'])/sum(df_list[i]['post_jsd_size']), 3)\n",
    "#     min_coherence = round(df_list[i]['jsd_coherence'].min(), 3)\n",
    "#     max_coherence = round(df_list[i]['jsd_coherence'].max(), 3)\n",
    "    \n",
    "    conductance_name = '/Users/shreya/Documents/mcl/immunology/conductance_' + names[i] + '.csv'\n",
    "    conductance_csv = pd.read_csv(conductance_name)\n",
    "    avg_conductance = round(sum(conductance_csv['cluster_counts']*conductance_csv['conductance'])/sum(conductance_csv['cluster_counts']), 3)\n",
    "    \n",
    "    \n",
    "    table_list[i] = [names[i], original, after_missing, after_jsd_nans, round((original*100)/450478, 2), \n",
    "                     round((after_missing*100)/450478, 2), avg_conductance, mean_jsd, coherence]\n",
    "    \n",
    "print('The following table is for JSD (Unigrams)')\n",
    "print('Tokens with cluster frequency = 1 were removed.')\n",
    "print('Note that \"Avg JSD\", \"Avg Coherence\", and \"Avg Conductance\" are weighted averages')\n",
    "display(HTML(tabulate.tabulate(table_list, tablefmt='html', headers=headers)))\n",
    "# print(tabulate.tabulate(table_list, headers, tablefmt=\"psql\"))"
   ]
  },
  {
   "cell_type": "code",
   "execution_count": null,
   "metadata": {},
   "outputs": [],
   "source": []
  }
 ],
 "metadata": {
  "hide_input": false,
  "kernelspec": {
   "display_name": "Python 3",
   "language": "python",
   "name": "python3"
  },
  "language_info": {
   "codemirror_mode": {
    "name": "ipython",
    "version": 3
   },
   "file_extension": ".py",
   "mimetype": "text/x-python",
   "name": "python",
   "nbconvert_exporter": "python",
   "pygments_lexer": "ipython3",
   "version": "3.8.2"
  }
 },
 "nbformat": 4,
 "nbformat_minor": 4
}
