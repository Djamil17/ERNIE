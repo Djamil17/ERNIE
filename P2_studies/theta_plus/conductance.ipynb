{
 "cells": [
  {
   "cell_type": "code",
   "execution_count": 1,
   "metadata": {},
   "outputs": [],
   "source": [
    "import pandas as pd\n",
    "import matplotlib.pyplot as plt"
   ]
  },
  {
   "cell_type": "code",
   "execution_count": null,
   "metadata": {},
   "outputs": [],
   "source": [
    "# import psycopg2\n",
    "\n",
    "# with open('/Users/shreya/Documents/ernie_password.txt') as f:\n",
    "#     ernie_password = f.readline()\n",
    "\n",
    "# conn=psycopg2.connect(database=\"ernie\",user=\"shreya\",host=\"localhost\",password=ernie_password)\n",
    "# conn.set_client_encoding('UTF8')\n",
    "# conn.autocommit=True\n",
    "# curs=conn.cursor()\n",
    "\n",
    "# # Set schema\n",
    "# schema = \"theta_plus\"\n",
    "# set_schema = \"SET SEARCH_PATH TO \" + schema + \";\"   \n",
    "# curs.execute(set_schema)\n",
    "\n",
    "\n",
    "# weights = ['ncf', 'now', 'sf'] \n",
    "# inflation = ['20', '30', '40', '60']\n",
    "\n",
    "# # all_data_table = 'dc_bc_merged'\n",
    "\n",
    "\n",
    "# # for name in weights:\n",
    "# #     for val in inflation:\n",
    "\n",
    "# for name in weights[:1]:\n",
    "#     for val in inflation[:1]:\n",
    "        \n",
    "# #         cluster_table = name + '_' + str(val) + '_ids'\n",
    "#         cluster_table = 'now' + '_' + str(20) + '_ids'\n",
    "\n",
    "#         print(\"Querying: \", cluster_table)\n",
    "\n",
    "#         query1 = \"select dbm.cited_1, dbm.cited_2, clt1.cluster as cited_1_cluster, clt2.cluster as cited_2_cluster from dc_bc_merged as dbm join \" + cluster_table + \" as clt1 on dbm.cited_1 = clt1.scp join \" + cluster_table + \" as clt2 on dbm.cited_2 = clt2.scp\"\n",
    "#         query2 = \"select cluster, count(cluster) as cluster_counts from \" + cluster_table + \" group by cluster order by cluster;\"\n",
    "        \n",
    "#         conductance_data = pd.read_sql(query1, conn)\n",
    "#         counts_data = pd.read_sql(query2, conn)\n",
    "        \n",
    "#         x1 = conductance_data[conductance_data.cited_2_cluster != conductance_data.cited_1_cluster][['cited_1', 'cited_1_cluster']].groupby('cited_1_cluster', as_index=False).agg('count').rename(columns = {'cited_1': 'ext_out'})\n",
    "#         x2 = conductance_data[conductance_data.cited_2_cluster != conductance_data.cited_1_cluster][['cited_2', 'cited_2_cluster']].groupby('cited_2_cluster', as_index=False).agg('count').rename(columns = {'cited_2': 'ext_in'})\n",
    "#         x3 = conductance_data[conductance_data.cited_2_cluster == conductance_data.cited_1_cluster][['cited_1', 'cited_2_cluster']].groupby('cited_2_cluster', as_index=False).agg('count').rename(columns = {'cited_1': 'int_edges'})\n",
    "#         x1_clusters = counts_data.merge(x1, left_on = 'cluster', right_on = 'cited_1_cluster', how = 'left')[['cluster', 'ext_out']]\n",
    "#         x1_clusters = x1_clusters.fillna(0)\n",
    "#         x2_clusters = counts_data.merge(x2, left_on = 'cluster', right_on = 'cited_2_cluster', how = 'left')[['cluster', 'ext_in']]\n",
    "#         x2_clusters = x2_clusters.fillna(0)\n",
    "#         x3_clusters = counts_data.merge(x3, left_on = 'cluster', right_on = 'cited_2_cluster', how = 'left')[['cluster', 'int_edges', 'cluster_counts']]\n",
    "#         x3_clusters = x3_clusters.fillna(0)\n",
    "#         x4 = x1_clusters.merge(x2_clusters, left_on='cluster', right_on='cluster', how = 'inner')\n",
    "#         x5 = x4.merge(x3_clusters, left_on='cluster', right_on='cluster')\n",
    "#         x5['boundary'] = x5['ext_in'] + x5['ext_out']\n",
    "#         x5['volume'] = x5['ext_in'] + x5['ext_out'] + 2*x5['int_edges']\n",
    "#         x5['two_m'] = conductance_data.shape[0]*2\n",
    "#         x5['alt_denom'] = x5['two_m'] - x5['volume']\n",
    "#         x5['denom'] = x5[['alt_denom', 'volume']].min(axis=1)\n",
    "#         x5['conductance'] = round((x5['boundary']/x5['denom']), 2)\n",
    "\n",
    "# #         save_name = '/Users/shreya/Documents/mcl_jsd/conductance/' + name + '_' + str(val) + '_conductance.csv'\n",
    "\n",
    "# #         print(\"Done. Saving to CSV.\")\n",
    "        \n",
    "# #         x5.to_csv(save_name, index = None, header=True, encoding='utf-8')\n",
    "\n",
    "\n",
    "        \n",
    "        \n",
    "\n"
   ]
  },
  {
   "cell_type": "code",
   "execution_count": 1,
   "metadata": {},
   "outputs": [],
   "source": [
    "import pandas as pd"
   ]
  },
  {
   "cell_type": "code",
   "execution_count": 3,
   "metadata": {},
   "outputs": [
    {
     "data": {
      "text/html": [
       "<div>\n",
       "<style scoped>\n",
       "    .dataframe tbody tr th:only-of-type {\n",
       "        vertical-align: middle;\n",
       "    }\n",
       "\n",
       "    .dataframe tbody tr th {\n",
       "        vertical-align: top;\n",
       "    }\n",
       "\n",
       "    .dataframe thead th {\n",
       "        text-align: right;\n",
       "    }\n",
       "</style>\n",
       "<table border=\"1\" class=\"dataframe\">\n",
       "  <thead>\n",
       "    <tr style=\"text-align: right;\">\n",
       "      <th></th>\n",
       "      <th>citing</th>\n",
       "      <th>cited</th>\n",
       "    </tr>\n",
       "  </thead>\n",
       "  <tbody>\n",
       "    <tr>\n",
       "      <th>0</th>\n",
       "      <td>25306251</td>\n",
       "      <td>5844258322</td>\n",
       "    </tr>\n",
       "    <tr>\n",
       "      <th>1</th>\n",
       "      <td>38641941</td>\n",
       "      <td>25098538</td>\n",
       "    </tr>\n",
       "    <tr>\n",
       "      <th>2</th>\n",
       "      <td>84864628996</td>\n",
       "      <td>25330501</td>\n",
       "    </tr>\n",
       "    <tr>\n",
       "      <th>3</th>\n",
       "      <td>27248349</td>\n",
       "      <td>25687903</td>\n",
       "    </tr>\n",
       "    <tr>\n",
       "      <th>4</th>\n",
       "      <td>31033198</td>\n",
       "      <td>25284590</td>\n",
       "    </tr>\n",
       "  </tbody>\n",
       "</table>\n",
       "</div>"
      ],
      "text/plain": [
       "        citing       cited\n",
       "0     25306251  5844258322\n",
       "1     38641941    25098538\n",
       "2  84864628996    25330501\n",
       "3     27248349    25687903\n",
       "4     31033198    25284590"
      ]
     },
     "execution_count": 3,
     "metadata": {},
     "output_type": "execute_result"
    }
   ],
   "source": [
    "nodes_data = pd.read_csv(\"/Users/shreya/Documents/mcl/immunology/imm1990_testcase_asjc2403_citing_cited.csv\")\n",
    "nodes_data.head()"
   ]
  },
  {
   "cell_type": "code",
   "execution_count": 7,
   "metadata": {},
   "outputs": [
    {
     "data": {
      "text/html": [
       "<div>\n",
       "<style scoped>\n",
       "    .dataframe tbody tr th:only-of-type {\n",
       "        vertical-align: middle;\n",
       "    }\n",
       "\n",
       "    .dataframe tbody tr th {\n",
       "        vertical-align: top;\n",
       "    }\n",
       "\n",
       "    .dataframe thead th {\n",
       "        text-align: right;\n",
       "    }\n",
       "</style>\n",
       "<table border=\"1\" class=\"dataframe\">\n",
       "  <thead>\n",
       "    <tr style=\"text-align: right;\">\n",
       "      <th></th>\n",
       "      <th>cluster_no</th>\n",
       "      <th>scp</th>\n",
       "    </tr>\n",
       "  </thead>\n",
       "  <tbody>\n",
       "    <tr>\n",
       "      <th>0</th>\n",
       "      <td>1</td>\n",
       "      <td>75149149112</td>\n",
       "    </tr>\n",
       "    <tr>\n",
       "      <th>1</th>\n",
       "      <td>1</td>\n",
       "      <td>25100777</td>\n",
       "    </tr>\n",
       "    <tr>\n",
       "      <th>2</th>\n",
       "      <td>1</td>\n",
       "      <td>81155149504</td>\n",
       "    </tr>\n",
       "    <tr>\n",
       "      <th>3</th>\n",
       "      <td>1</td>\n",
       "      <td>33656875</td>\n",
       "    </tr>\n",
       "    <tr>\n",
       "      <th>4</th>\n",
       "      <td>1</td>\n",
       "      <td>36156857</td>\n",
       "    </tr>\n",
       "  </tbody>\n",
       "</table>\n",
       "</div>"
      ],
      "text/plain": [
       "   cluster_no          scp\n",
       "0           1  75149149112\n",
       "1           1     25100777\n",
       "2           1  81155149504\n",
       "3           1     33656875\n",
       "4           1     36156857"
      ]
     },
     "execution_count": 7,
     "metadata": {},
     "output_type": "execute_result"
    }
   ],
   "source": [
    "unshuffled_cluster_data = pd.read_csv(\"/Users/shreya/Documents/mcl/immunology/unshuffled_imm1990_cluster_list.csv\")\n",
    "unshuffled_cluster_data.head()"
   ]
  },
  {
   "cell_type": "code",
   "execution_count": 8,
   "metadata": {},
   "outputs": [],
   "source": [
    "# ------------- UNSHUFFLED ------------- #\n",
    "\n",
    "# Reading in scp and cluster files separately \n",
    "\n",
    "nodes_data = pd.read_csv(\"/Users/shreya/Documents/mcl/immunology/imm1990_testcase_asjc2403_citing_cited.csv\")\n",
    "# nodes_data.rename(columns={'scp':'citing', 'ref_sgr':'cited'}, inplace=True)\n",
    "\n",
    "unshuffled_cluster_data = pd.read_csv(\"/Users/shreya/Documents/mcl/immunology/unshuffled_imm1990_cluster_list.csv\")\n",
    "unshuffled_all_data = nodes_data.merge(unshuffled_cluster_data, left_on='citing', right_on='scp', how='inner').rename(columns={'cluster_no':'citing_cluster'}).merge(unshuffled_cluster_data, left_on='cited', right_on='scp', how='inner').rename(columns={'cluster_no':'cited_cluster'})\n",
    "\n",
    "unshuffled_all_data = unshuffled_all_data[['citing', 'cited', 'citing_cluster', 'cited_cluster']]\n",
    "\n",
    "conductance_data = unshuffled_all_data\n",
    "\n",
    "counts_data = unshuffled_cluster_data.groupby('cluster_no', as_index=False).agg('count').rename(columns={'cluster_no':'cluster', 'scp':'cluster_counts'})\n",
    "\n",
    "x1 = conductance_data[conductance_data.cited_cluster != conductance_data.citing_cluster][['citing', 'citing_cluster']].groupby('citing_cluster', as_index=False).agg('count').rename(columns = {'citing': 'ext_out'})\n",
    "x2 = conductance_data[conductance_data.cited_cluster != conductance_data.citing_cluster][['cited', 'cited_cluster']].groupby('cited_cluster', as_index=False).agg('count').rename(columns = {'cited': 'ext_in'})\n",
    "x3 = conductance_data[conductance_data.cited_cluster == conductance_data.citing_cluster][['citing', 'cited_cluster']].groupby('cited_cluster', as_index=False).agg('count').rename(columns = {'citing': 'int_edges'})\n",
    "\n",
    "x1_clusters = counts_data.merge(x1, left_on = 'cluster', right_on = 'citing_cluster', how = 'left')[['cluster', 'ext_out']]\n",
    "x1_clusters = x1_clusters.fillna(0)\n",
    "x2_clusters = counts_data.merge(x2, left_on = 'cluster', right_on = 'cited_cluster', how = 'left')[['cluster', 'ext_in']]\n",
    "x2_clusters = x2_clusters.fillna(0)\n",
    "x3_clusters = counts_data.merge(x3, left_on = 'cluster', right_on = 'cited_cluster', how = 'left')[['cluster', 'int_edges', 'cluster_counts']]\n",
    "x3_clusters = x3_clusters.fillna(0)\n",
    "\n",
    "x4 = x1_clusters.merge(x2_clusters, left_on='cluster', right_on='cluster', how = 'inner')\n",
    "x5 = x4.merge(x3_clusters, left_on='cluster', right_on='cluster')\n",
    "x5['boundary'] = x5['ext_in'] + x5['ext_out']\n",
    "x5['volume'] = x5['ext_in'] + x5['ext_out'] + 2*x5['int_edges']\n",
    "x5['two_m'] = conductance_data.shape[0]*2\n",
    "x5['alt_denom'] = x5['two_m'] - x5['volume']\n",
    "x5['denom'] = x5[['alt_denom', 'volume']].min(axis=1)\n",
    "x5['conductance'] = round((x5['boundary']/x5['denom']), 2)"
   ]
  },
  {
   "cell_type": "code",
   "execution_count": 9,
   "metadata": {},
   "outputs": [
    {
     "data": {
      "text/html": [
       "<div>\n",
       "<style scoped>\n",
       "    .dataframe tbody tr th:only-of-type {\n",
       "        vertical-align: middle;\n",
       "    }\n",
       "\n",
       "    .dataframe tbody tr th {\n",
       "        vertical-align: top;\n",
       "    }\n",
       "\n",
       "    .dataframe thead th {\n",
       "        text-align: right;\n",
       "    }\n",
       "</style>\n",
       "<table border=\"1\" class=\"dataframe\">\n",
       "  <thead>\n",
       "    <tr style=\"text-align: right;\">\n",
       "      <th></th>\n",
       "      <th>cluster</th>\n",
       "      <th>ext_out</th>\n",
       "      <th>ext_in</th>\n",
       "      <th>int_edges</th>\n",
       "      <th>cluster_counts</th>\n",
       "      <th>boundary</th>\n",
       "      <th>volume</th>\n",
       "      <th>two_m</th>\n",
       "      <th>alt_denom</th>\n",
       "      <th>denom</th>\n",
       "      <th>conductance</th>\n",
       "    </tr>\n",
       "  </thead>\n",
       "  <tbody>\n",
       "    <tr>\n",
       "      <th>0</th>\n",
       "      <td>1</td>\n",
       "      <td>746.0</td>\n",
       "      <td>420.0</td>\n",
       "      <td>1760.0</td>\n",
       "      <td>1721</td>\n",
       "      <td>1166.0</td>\n",
       "      <td>4686.0</td>\n",
       "      <td>1323296</td>\n",
       "      <td>1318610.0</td>\n",
       "      <td>4686.0</td>\n",
       "      <td>0.25</td>\n",
       "    </tr>\n",
       "    <tr>\n",
       "      <th>1</th>\n",
       "      <td>2</td>\n",
       "      <td>315.0</td>\n",
       "      <td>564.0</td>\n",
       "      <td>1171.0</td>\n",
       "      <td>1171</td>\n",
       "      <td>879.0</td>\n",
       "      <td>3221.0</td>\n",
       "      <td>1323296</td>\n",
       "      <td>1320075.0</td>\n",
       "      <td>3221.0</td>\n",
       "      <td>0.27</td>\n",
       "    </tr>\n",
       "    <tr>\n",
       "      <th>2</th>\n",
       "      <td>3</td>\n",
       "      <td>95.0</td>\n",
       "      <td>188.0</td>\n",
       "      <td>696.0</td>\n",
       "      <td>697</td>\n",
       "      <td>283.0</td>\n",
       "      <td>1675.0</td>\n",
       "      <td>1323296</td>\n",
       "      <td>1321621.0</td>\n",
       "      <td>1675.0</td>\n",
       "      <td>0.17</td>\n",
       "    </tr>\n",
       "    <tr>\n",
       "      <th>3</th>\n",
       "      <td>4</td>\n",
       "      <td>23.0</td>\n",
       "      <td>73.0</td>\n",
       "      <td>669.0</td>\n",
       "      <td>670</td>\n",
       "      <td>96.0</td>\n",
       "      <td>1434.0</td>\n",
       "      <td>1323296</td>\n",
       "      <td>1321862.0</td>\n",
       "      <td>1434.0</td>\n",
       "      <td>0.07</td>\n",
       "    </tr>\n",
       "    <tr>\n",
       "      <th>4</th>\n",
       "      <td>5</td>\n",
       "      <td>1.0</td>\n",
       "      <td>103.0</td>\n",
       "      <td>668.0</td>\n",
       "      <td>669</td>\n",
       "      <td>104.0</td>\n",
       "      <td>1440.0</td>\n",
       "      <td>1323296</td>\n",
       "      <td>1321856.0</td>\n",
       "      <td>1440.0</td>\n",
       "      <td>0.07</td>\n",
       "    </tr>\n",
       "  </tbody>\n",
       "</table>\n",
       "</div>"
      ],
      "text/plain": [
       "   cluster  ext_out  ext_in  int_edges  cluster_counts  boundary  volume  \\\n",
       "0        1    746.0   420.0     1760.0            1721    1166.0  4686.0   \n",
       "1        2    315.0   564.0     1171.0            1171     879.0  3221.0   \n",
       "2        3     95.0   188.0      696.0             697     283.0  1675.0   \n",
       "3        4     23.0    73.0      669.0             670      96.0  1434.0   \n",
       "4        5      1.0   103.0      668.0             669     104.0  1440.0   \n",
       "\n",
       "     two_m  alt_denom   denom  conductance  \n",
       "0  1323296  1318610.0  4686.0         0.25  \n",
       "1  1323296  1320075.0  3221.0         0.27  \n",
       "2  1323296  1321621.0  1675.0         0.17  \n",
       "3  1323296  1321862.0  1434.0         0.07  \n",
       "4  1323296  1321856.0  1440.0         0.07  "
      ]
     },
     "execution_count": 9,
     "metadata": {},
     "output_type": "execute_result"
    }
   ],
   "source": [
    "x5.head()"
   ]
  },
  {
   "cell_type": "code",
   "execution_count": 11,
   "metadata": {},
   "outputs": [
    {
     "name": "stdout",
     "output_type": "stream",
     "text": [
      "Done. Saving to CSV.\n"
     ]
    }
   ],
   "source": [
    "save_name = '/Users/shreya/Documents/mcl/immunology/conductance_unshuffled.csv'\n",
    "\n",
    "print(\"Done. Saving to CSV.\")\n",
    "\n",
    "x5.to_csv(save_name, index = None, header=True, encoding='utf-8')"
   ]
  },
  {
   "cell_type": "code",
   "execution_count": null,
   "metadata": {},
   "outputs": [],
   "source": []
  },
  {
   "cell_type": "code",
   "execution_count": null,
   "metadata": {},
   "outputs": [],
   "source": []
  },
  {
   "cell_type": "code",
   "execution_count": null,
   "metadata": {},
   "outputs": [],
   "source": []
  },
  {
   "cell_type": "code",
   "execution_count": 12,
   "metadata": {},
   "outputs": [],
   "source": [
    "\n",
    "# ------------- SHUFFLED ------------- #\n",
    "\n",
    "# Reading in scp and cluster files separately \n",
    "\n",
    "nodes_data = pd.read_csv(\"/Users/shreya/Documents/mcl/immunology/imm1990_testcase_asjc2403_citing_cited.csv\")\n",
    "# nodes_data.rename(columns={'scp':'citing', 'ref_sgr':'cited'}, inplace=True)\n",
    "\n",
    "shuffled_cluster_data = pd.read_csv(\"/Users/shreya/Documents/mcl/immunology/shuffled_imm1990_cluster_list.csv\")\n",
    "\n",
    "\n",
    "shuffled_all_data = nodes_data.merge(shuffled_cluster_data, left_on='citing', right_on='scp', how='inner').rename(columns={'cluster_no':'citing_cluster'}).merge(shuffled_cluster_data, left_on='cited', right_on='scp', how='inner').rename(columns={'cluster_no':'cited_cluster'})\n",
    "shuffled_all_data = shuffled_all_data[['citing', 'cited', 'citing_cluster', 'cited_cluster']]\n",
    "\n",
    "\n",
    "conductance_data = shuffled_all_data\n",
    "\n",
    "counts_data = shuffled_cluster_data.groupby('cluster_no', as_index=False).agg('count').rename(columns={'cluster_no':'cluster', 'scp':'cluster_counts'})\n",
    "\n",
    "shuffled_counts_data = counts_data\n",
    "\n",
    "x1 = conductance_data[conductance_data.cited_cluster != conductance_data.citing_cluster][['citing', 'citing_cluster']].groupby('citing_cluster', as_index=False).agg('count').rename(columns = {'citing': 'ext_out'})\n",
    "x2 = conductance_data[conductance_data.cited_cluster != conductance_data.citing_cluster][['cited', 'cited_cluster']].groupby('cited_cluster', as_index=False).agg('count').rename(columns = {'cited': 'ext_in'})\n",
    "x3 = conductance_data[conductance_data.cited_cluster == conductance_data.citing_cluster][['citing', 'cited_cluster']].groupby('cited_cluster', as_index=False).agg('count').rename(columns = {'citing': 'int_edges'})\n",
    "\n",
    "x1_clusters = counts_data.merge(x1, left_on = 'cluster', right_on = 'citing_cluster', how = 'left')[['cluster', 'ext_out']]\n",
    "x1_clusters = x1_clusters.fillna(0)\n",
    "x2_clusters = counts_data.merge(x2, left_on = 'cluster', right_on = 'cited_cluster', how = 'left')[['cluster', 'ext_in']]\n",
    "x2_clusters = x2_clusters.fillna(0)\n",
    "x3_clusters = counts_data.merge(x3, left_on = 'cluster', right_on = 'cited_cluster', how = 'left')[['cluster', 'int_edges', 'cluster_counts']]\n",
    "x3_clusters = x3_clusters.fillna(0)\n",
    "\n",
    "x4 = x1_clusters.merge(x2_clusters, left_on='cluster', right_on='cluster', how = 'inner')\n",
    "x5 = x4.merge(x3_clusters, left_on='cluster', right_on='cluster')\n",
    "x5['boundary'] = x5['ext_in'] + x5['ext_out']\n",
    "x5['volume'] = x5['ext_in'] + x5['ext_out'] + 2*x5['int_edges']\n",
    "x5['two_m'] = conductance_data.shape[0]*2\n",
    "x5['alt_denom'] = x5['two_m'] - x5['volume']\n",
    "x5['denom'] = x5[['alt_denom', 'volume']].min(axis=1)\n",
    "x5['conductance'] = round((x5['boundary']/x5['denom']), 2)\n"
   ]
  },
  {
   "cell_type": "code",
   "execution_count": 13,
   "metadata": {},
   "outputs": [
    {
     "name": "stdout",
     "output_type": "stream",
     "text": [
      "Done. Saving to CSV.\n"
     ]
    }
   ],
   "source": [
    "save_name = '/Users/shreya/Documents/mcl/immunology/conductance_shuffled.csv'\n",
    "\n",
    "print(\"Done. Saving to CSV.\")\n",
    "\n",
    "x5.to_csv(save_name, index = None, header=True, encoding='utf-8')"
   ]
  },
  {
   "cell_type": "code",
   "execution_count": null,
   "metadata": {},
   "outputs": [],
   "source": []
  },
  {
   "cell_type": "code",
   "execution_count": null,
   "metadata": {},
   "outputs": [],
   "source": []
  },
  {
   "cell_type": "code",
   "execution_count": null,
   "metadata": {},
   "outputs": [],
   "source": [
    "# # Reading in scp and cluster files together\n",
    "\n",
    "\n",
    "# conductance_data = pd.read_csv(\"/Users/shreya/Documents/mcl/direct_citation/test_shuffle_merged_edgelist_clusterlist.csv\")\n",
    "# conductance_data.rename(columns={'scp':'citing', 'ref_sgr':'cited', 'scp_cl_no':'citing_cluster', 'ref_sgr_cl_no':'cited_cluster'}, inplace=True)\n",
    "\n",
    "# cluster_data = pd.read_csv(\"/Users/shreya/Documents/mcl_jsd/consolidated_output/direct_citation/test_shuffle_million_20_clusterlist.csv\")\n",
    "# counts_data = cluster_data.groupby('cluster_no', as_index=False).agg('count').rename(columns={'cluster_no':'cluster', 'scp':'cluster_counts'})\n",
    "\n",
    "# x1 = conductance_data[conductance_data.cited_cluster != conductance_data.citing_cluster][['citing', 'citing_cluster']].groupby('citing_cluster', as_index=False).agg('count').rename(columns = {'citing': 'ext_out'})\n",
    "# x2 = conductance_data[conductance_data.cited_cluster != conductance_data.citing_cluster][['cited', 'cited_cluster']].groupby('cited_cluster', as_index=False).agg('count').rename(columns = {'cited': 'ext_in'})\n",
    "# x3 = conductance_data[conductance_data.cited_cluster == conductance_data.citing_cluster][['citing', 'cited_cluster']].groupby('cited_cluster', as_index=False).agg('count').rename(columns = {'citing': 'int_edges'})\n",
    "\n",
    "# x1_clusters = counts_data.merge(x1, left_on = 'cluster', right_on = 'citing_cluster', how = 'left')[['cluster', 'ext_out']]\n",
    "# x1_clusters = x1_clusters.fillna(0)\n",
    "# x2_clusters = counts_data.merge(x2, left_on = 'cluster', right_on = 'cited_cluster', how = 'left')[['cluster', 'ext_in']]\n",
    "# x2_clusters = x2_clusters.fillna(0)\n",
    "# x3_clusters = counts_data.merge(x3, left_on = 'cluster', right_on = 'cited_cluster', how = 'left')[['cluster', 'int_edges', 'cluster_counts']]\n",
    "# x3_clusters = x3_clusters.fillna(0)\n",
    "\n",
    "# x4 = x1_clusters.merge(x2_clusters, left_on='cluster', right_on='cluster', how = 'inner')\n",
    "# x5 = x4.merge(x3_clusters, left_on='cluster', right_on='cluster')\n",
    "# x5['boundary'] = x5['ext_in'] + x5['ext_out']\n",
    "# x5['volume'] = x5['ext_in'] + x5['ext_out'] + 2*x5['int_edges']\n",
    "# x5['two_m'] = conductance_data.shape[0]*2\n",
    "# x5['alt_denom'] = x5['two_m'] - x5['volume']\n",
    "# x5['denom'] = x5[['alt_denom', 'volume']].min(axis=1)\n",
    "# x5['conductance'] = round((x5['boundary']/x5['denom']), 2)"
   ]
  },
  {
   "cell_type": "code",
   "execution_count": null,
   "metadata": {},
   "outputs": [],
   "source": []
  },
  {
   "cell_type": "code",
   "execution_count": null,
   "metadata": {},
   "outputs": [],
   "source": []
  },
  {
   "cell_type": "code",
   "execution_count": null,
   "metadata": {},
   "outputs": [],
   "source": []
  },
  {
   "cell_type": "code",
   "execution_count": 12,
   "metadata": {},
   "outputs": [],
   "source": [
    "# ---------- Analysis ----------- #"
   ]
  },
  {
   "cell_type": "code",
   "execution_count": 14,
   "metadata": {},
   "outputs": [],
   "source": [
    "unshuffled_immuno = pd.read_csv('/Users/shreya/Documents/mcl/immunology/conductance_unshuffled.csv')\n",
    "shuffled_immuno = pd.read_csv('/Users/shreya/Documents/mcl/immunology/conductance_shuffled.csv')"
   ]
  },
  {
   "cell_type": "code",
   "execution_count": 15,
   "metadata": {},
   "outputs": [],
   "source": [
    "bins = [0, 10, 20, 50, 100, 200, 300, 500, 1000, 2000, 5000]\n",
    "\n",
    "unshuffled_immuno['bins'] = pd.cut(unshuffled_immuno['cluster_counts'], bins)\n",
    "shuffled_immuno['bins'] = pd.cut(shuffled_immuno['cluster_counts'], bins)"
   ]
  },
  {
   "cell_type": "code",
   "execution_count": 16,
   "metadata": {},
   "outputs": [
    {
     "data": {
      "image/png": "[encoded data removed]",
      "text/plain": [
       "<Figure size 1440x360 with 1 Axes>"
      ]
     },
     "metadata": {
      "needs_background": "light"
     },
     "output_type": "display_data"
    },
    {
     "data": {
      "image/png": "[encoded data removed]",
      "text/plain": [
       "<Figure size 1440x360 with 1 Axes>"
      ]
     },
     "metadata": {
      "needs_background": "light"
     },
     "output_type": "display_data"
    }
   ],
   "source": [
    "bp1 = unshuffled_immuno.boxplot(column ='conductance',\n",
    "                               by = 'bins',\n",
    "                               figsize=(20, 5),\n",
    "                               grid=False)\n",
    "                               \n",
    "\n",
    "p = plt.gca()\n",
    "p.set_xlabel(\"Binned Cluster Size\", fontsize = 12)\n",
    "p.set_ylabel(\"Conductance\", fontsize = 12)\n",
    "plt.suptitle(\"Conductance by Binnd sizes\", fontsize=14)\n",
    "p.set_title(\"Unshuffled Edges\")\n",
    "p.tick_params(axis='y', labelsize=10)\n",
    "p.tick_params(axis='x', labelsize=10)\n",
    "\n",
    "    \n",
    "bp2 = shuffled_immuno.boxplot(column ='conductance',\n",
    "                               by = 'bins',\n",
    "                               figsize=(20, 5),\n",
    "                               grid=False)\n",
    "\n",
    "p = plt.gca()\n",
    "p.set_xlabel(\"Binned Cluster Size\", fontsize = 12)\n",
    "p.set_ylabel(\"Conductance\", fontsize = 12)\n",
    "plt.suptitle(\"Conductance by Binned Sizes\", fontsize=14)\n",
    "p.set_title(\"Shuffled Edges\")\n",
    "p.tick_params(axis='y', labelsize=10)\n",
    "p.tick_params(axis='x', labelsize=10)"
   ]
  },
  {
   "cell_type": "code",
   "execution_count": null,
   "metadata": {},
   "outputs": [],
   "source": []
  },
  {
   "cell_type": "code",
   "execution_count": null,
   "metadata": {},
   "outputs": [],
   "source": []
  }
 ],
 "metadata": {
  "kernelspec": {
   "display_name": "Python 3",
   "language": "python",
   "name": "python3"
  },
  "language_info": {
   "codemirror_mode": {
    "name": "ipython",
    "version": 3
   },
   "file_extension": ".py",
   "mimetype": "text/x-python",
   "name": "python",
   "nbconvert_exporter": "python",
   "pygments_lexer": "ipython3",
   "version": "3.8.2"
  }
 },
 "nbformat": 4,
 "nbformat_minor": 4
}
