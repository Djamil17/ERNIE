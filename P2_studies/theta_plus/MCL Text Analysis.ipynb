{
 "cells": [
  {
   "cell_type": "code",
   "execution_count": 243,
   "metadata": {},
   "outputs": [
    {
     "name": "stderr",
     "output_type": "stream",
     "text": [
      "[nltk_data] Downloading package stopwords to\n",
      "[nltk_data]     /Users/shreya/nltk_data...\n",
      "[nltk_data]   Package stopwords is already up-to-date!\n"
     ]
    }
   ],
   "source": [
    "import glob\n",
    "import os\n",
    "import pandas as pd \n",
    "import re\n",
    "from pandas import Series, DataFrame\n",
    "from textblob import TextBlob, Word\n",
    "import nltk\n",
    "from nltk.util import ngrams\n",
    "import re\n",
    "nltk.download('stopwords') \n",
    "from nltk.corpus import stopwords\n",
    "from nltk.util import ngrams\n",
    "import string\n",
    "from nltk.probability import FreqDist\n",
    "import gensim\n",
    "from gensim import models # For TF-IDF, LDA\n",
    "import swifter # Makes applying to datframe as fast as vectorizing\n",
    "import numpy as np\n",
    "import sklearn\n",
    "from sklearn.feature_extraction.text import CountVectorizer\n",
    "from sklearn.feature_extraction.text import TfidfTransformer\n",
    "from sklearn.metrics.pairwise import cosine_similarity\n",
    "import collections\n",
    "from scipy.spatial import distance\n",
    "import csv\n",
    "\n",
    "# Visualization\n",
    "import matplotlib.pyplot as plt\n",
    "import matplotlib.colors as mcolors\n",
    "from matplotlib.ticker import FuncFormatter\n",
    "%matplotlib inline\n",
    "\n",
    "# LDA Visualization\n",
    "import pyLDAvis\n",
    "import pyLDAvis.gensim\n"
   ]
  },
  {
   "cell_type": "code",
   "execution_count": null,
   "metadata": {},
   "outputs": [],
   "source": []
  },
  {
   "cell_type": "code",
   "execution_count": 427,
   "metadata": {},
   "outputs": [],
   "source": [
    "\n",
    "\n",
    "stop_words = stopwords.words('english')\n",
    "f = open('nih_stopwords.txt', 'r')\n",
    "stop_words.extend([word.rstrip('\\n') for word in f])\n",
    "f.close()\n",
    "stop_words.extend(['a', 'in', 'of', 'the', 'at', 'on', 'and', 'with', 'from', 'to', 'for', \n",
    "             'some', 'but', 'not', 'their', 'human', 'mouse', 'rat', 'monkey', 'man',\n",
    "             'method', 'during', 'process', 'hitherto', 'unknown', 'many', 'these', \n",
    "             'have', 'into', 'improved', 'use', 'find', 'show', 'may', 'study', 'result',\n",
    "             'contain', 'day', 'one', 'two', 'three', 'four', 'five', 'six', 'seven', 'eight',\n",
    "             'nine', 'ten', 'give', 'also', 'suggest', 'data', 'number', 'right reserved',\n",
    "             'right', 'reserve', 'society', 'american', 'publish', 'group', 'wiley', 'depend',\n",
    "             'upon', 'good', 'within', 'small', 'amount', 'large', 'quantity', 'control', \n",
    "             'complete', 'record', 'task', 'effect', 'single', 'database', 'ref',\n",
    "             'ref', 'university', 'press', 'psycinfo', 'apa', 'inc', 'alan', 'find', 'finding',\n",
    "             'perform', 'new', 'reference', 'noticeable', 'america', 'copyright', 'attempt', 'make',\n",
    "             'theory', 'demonstrate', 'present', 'analysis', 'other', 'due', 'receive', 'rabbit',\n",
    "             'property', 'e.g.', 'and/or', 'or', 'unlikely', 'nih', 'cause', 'best', 'well', \n",
    "             'without', 'whereas', 'whatever', 'require', 'wiley', 'aaa', 'whether', 'require',\n",
    "             'relevant', 'take', 'together']) # ---> updated based on results\n",
    "\n",
    "\n",
    "def preprocess_text(doc, n_grams = 'two'):\n",
    "    \n",
    "    \"\"\"\n",
    "    Pre-processing using TextBlob: \n",
    "    tokenizing, converting to lower-case, and lemmatization based on POS tagging, \n",
    "    removing stop-words, and retaining tokens greater than length 2\n",
    "    \n",
    "    We can also choose to include n_grams (n = 1,2,3) in the final output\n",
    "    \n",
    "    Argument(s): 'doc' - a string of words or sentences.\n",
    "                 'n_grams' - one: only unigrams (tokens consisting of one word each)\n",
    "                           - two: only bigrams\n",
    "                           - two_plus: unigrams + bigrams\n",
    "                           - three: only trigrams \n",
    "                           - three_plus: unigrams + bigrams + trigrams\n",
    "    \n",
    "    Output: 'reuslt_singles' - a list of pre-processed tokens (individual words) of each sentence in 'doc'\n",
    "            'result_ngrams' - a list of pre-processed tokens (including n-grams) of each sentence in 'doc'\n",
    "    \n",
    "    \"\"\"\n",
    "    \n",
    "\n",
    "    blob = TextBlob(doc).lower() \n",
    "#     lang = blob.detect_language()\n",
    "#     print(lang)\n",
    "#     if lang != 'en':\n",
    "#         blob = blob.translate(to = 'en')\n",
    "\n",
    "    result_singles = []\n",
    "    \n",
    "    tag_dict = {\"J\": 'a', # Adjective\n",
    "                \"N\": 'n', # Noun\n",
    "                \"V\": 'v', # Verb\n",
    "                \"R\": 'r'} #  Adverb\n",
    "    \n",
    "    # For all other types of parts of speech (including those not classified at all) \n",
    "    # the tag_dict object maps to 'None'\n",
    "    # the method w.lemmatize() defaults to 'Noun' as POS for those classified as 'None'\n",
    "    \n",
    "    \n",
    "\n",
    "    for sent in blob.sentences:\n",
    "\n",
    "        words_and_tags = [(w, tag_dict.get(pos[0])) for w, pos in sent.tags]\n",
    "        lemmatized_list = [w.lemmatize(tag) for w, tag in words_and_tags]\n",
    "\n",
    "        for i in range(len(lemmatized_list)):\n",
    "            \n",
    "            if lemmatized_list[i] not in stop_words and len(lemmatized_list[i].lower()) > 2 and not lemmatized_list[i].isdigit():\n",
    "                result_singles.append(lemmatized_list[i].lower())\n",
    "                \n",
    "    result_bigrams = ['_'.join(x) for x in ngrams(result_singles, 2)] \n",
    "    \n",
    "    result_bigrams = [token for token in result_bigrams if token != 'psychological_association']\n",
    "    \n",
    "    result_trigrams = ['_'.join(x) for x in ngrams(result_singles, 3)]\n",
    "    result_two_plus = result_singles + result_bigrams\n",
    "    result_three_plus = result_singles + result_bigrams + result_trigrams\n",
    "    \n",
    "    if n_grams == 'one':\n",
    "        result = result_singles\n",
    "    elif n_grams == 'two':\n",
    "        result = result_bigrams\n",
    "    elif n_grams == 'three':\n",
    "        result = result_trigrams\n",
    "    elif n_grams == 'two_plus':\n",
    "        result = result_two_plus\n",
    "    elif n_grams == 'three_plus':\n",
    "        result = result_three_plus\n",
    "    \n",
    "    return result"
   ]
  },
  {
   "cell_type": "code",
   "execution_count": 428,
   "metadata": {},
   "outputs": [],
   "source": [
    "def get_frequency(processed_text_list): \n",
    "\n",
    "    \"\"\"\n",
    "    Using a built-in NLTK function that generates tuples\n",
    "    We get the frequency distribution of all words/n-grams in a tokenized list\n",
    "    We can get the proportion of the the token as a fraction of the total corpus size  ----> N/A\n",
    "    We can also sort these frequencies and proportions in descending order in a dictionary object ----> N/A\n",
    "    \n",
    "    Argument(s): 'processed_text_list' - A list of pre-processed tokens\n",
    "    \n",
    "    Output(s): freq_dict - A dictionary of tokens and their respective frequencies in descending order\n",
    "    \"\"\"\n",
    "               #prop_dict - A dictionary of tokens and their respective proportions as a fraction of the total corpus\n",
    "               #combined_dict - A dictionary whose values are both frequencies and proportions combined within a list\n",
    "    #\"\"\"\n",
    "\n",
    "    word_frequency = FreqDist(word for word in processed_text_list)\n",
    "\n",
    "#     sorted_counts = sorted(word_frequency.items(), key = lambda x: x[1], reverse = True)\n",
    "#     freq_dict = dict(sorted_counts)\n",
    "    freq_dict = dict(word_frequency)\n",
    "#     prop_dict = {key : freq_dict[key] * 1.0 / sum(freq_dict.values()) for key, value in freq_dict.items()}\n",
    "#     combined_dict = {key : [freq_dict[key], freq_dict[key] * 1.0 / sum(freq_dict.values())] for key, value in freq_dict.items()}\n",
    "\n",
    "    return freq_dict #, prop_dict, combined_dict"
   ]
  },
  {
   "cell_type": "code",
   "execution_count": 429,
   "metadata": {},
   "outputs": [],
   "source": [
    "def merge_vocab_dictionary(vocab_column):\n",
    "    \n",
    "    \"\"\"\n",
    "    Takes any number of token frequency dictionaries and merges them while summing \n",
    "    the respective frequencies and then calculates the proportion of the the tokens \n",
    "    as a fraction of the total corpus size and saves to text and CSV files\n",
    "    \n",
    "    \n",
    "    Argument(s): vocab_column - A column of dictionary objects\n",
    "                 \n",
    "    Output(s): merged_combined_dict - A list object containing the frequencies of all\n",
    "               merged dictionary tokens along with their respective proportions\n",
    "    \"\"\"\n",
    "    \n",
    "    merged_freq_dict = {}\n",
    "    for dictionary in vocab_column:\n",
    "        for key, value in dictionary.items():  # d.items() in Python 3+\n",
    "            merged_freq_dict.setdefault(key, []).append(1)  \n",
    "\n",
    "    for key, value in merged_freq_dict.items():\n",
    "        merged_freq_dict[key] = sum(value)\n",
    "    \n",
    "    sorted_merged_freq_dict = sorted(merged_freq_dict.items(), key = lambda x: x[1], reverse = True)\n",
    "    \n",
    "#     total_sum = sum(merged_freq_dict.values())\n",
    "#     merged_prop_dict = {key : merged_freq_dict[key] * 1.0 / total_sum for key, value in merged_freq_dict.items()}\n",
    "#     merged_combined_dict = {key : [merged_freq_dict[key], (merged_freq_dict[key] * 1.0 / total_sum)] for key, value in merged_freq_dict.items()}\n",
    "     \n",
    "    return sorted_merged_freq_dict\n"
   ]
  },
  {
   "cell_type": "code",
   "execution_count": null,
   "metadata": {},
   "outputs": [],
   "source": []
  },
  {
   "cell_type": "code",
   "execution_count": 430,
   "metadata": {},
   "outputs": [],
   "source": [
    "mcl_data = pd.read_csv(\"/Users/shreya/Desktop/Theta_plus/MCL_ncf_abstract_top10_csv/ncf_20_top10_2_title_abstract.csv\")\n",
    "\n",
    "\n"
   ]
  },
  {
   "cell_type": "code",
   "execution_count": 431,
   "metadata": {},
   "outputs": [
    {
     "data": {
      "text/html": [
       "<div>\n",
       "<style scoped>\n",
       "    .dataframe tbody tr th:only-of-type {\n",
       "        vertical-align: middle;\n",
       "    }\n",
       "\n",
       "    .dataframe tbody tr th {\n",
       "        vertical-align: top;\n",
       "    }\n",
       "\n",
       "    .dataframe thead th {\n",
       "        text-align: right;\n",
       "    }\n",
       "</style>\n",
       "<table border=\"1\" class=\"dataframe\">\n",
       "  <thead>\n",
       "    <tr style=\"text-align: right;\">\n",
       "      <th></th>\n",
       "      <th>scp</th>\n",
       "      <th>title</th>\n",
       "      <th>abstract_text</th>\n",
       "    </tr>\n",
       "  </thead>\n",
       "  <tbody>\n",
       "    <tr>\n",
       "      <th>0</th>\n",
       "      <td>14094190</td>\n",
       "      <td>THE HIPPOCAMPUS AND BEHAVIOR</td>\n",
       "      <td>THE LITERATURE ON THE BEHAVIORAL EFFECTS OF HI...</td>\n",
       "    </tr>\n",
       "    <tr>\n",
       "      <th>1</th>\n",
       "      <td>15027475</td>\n",
       "      <td>Limbic-diencephalic mechanisms of voluntary mo...</td>\n",
       "      <td>Data from a series of brain-behavior experimen...</td>\n",
       "    </tr>\n",
       "    <tr>\n",
       "      <th>2</th>\n",
       "      <td>16308045</td>\n",
       "      <td>Recognition impaired and association intact in...</td>\n",
       "      <td>Three rhesus monkeys with transection of the f...</td>\n",
       "    </tr>\n",
       "    <tr>\n",
       "      <th>3</th>\n",
       "      <td>15699567</td>\n",
       "      <td>The hippocampus and behavioral maturation</td>\n",
       "      <td>The morphology and connections of the hippocam...</td>\n",
       "    </tr>\n",
       "    <tr>\n",
       "      <th>4</th>\n",
       "      <td>16770743</td>\n",
       "      <td>Latent inhibition and stimulus generalization ...</td>\n",
       "      <td>30 male and female New Zealand albino rabbits ...</td>\n",
       "    </tr>\n",
       "  </tbody>\n",
       "</table>\n",
       "</div>"
      ],
      "text/plain": [
       "        scp                                              title  \\\n",
       "0  14094190                       THE HIPPOCAMPUS AND BEHAVIOR   \n",
       "1  15027475  Limbic-diencephalic mechanisms of voluntary mo...   \n",
       "2  16308045  Recognition impaired and association intact in...   \n",
       "3  15699567          The hippocampus and behavioral maturation   \n",
       "4  16770743  Latent inhibition and stimulus generalization ...   \n",
       "\n",
       "                                       abstract_text  \n",
       "0  THE LITERATURE ON THE BEHAVIORAL EFFECTS OF HI...  \n",
       "1  Data from a series of brain-behavior experimen...  \n",
       "2  Three rhesus monkeys with transection of the f...  \n",
       "3  The morphology and connections of the hippocam...  \n",
       "4  30 male and female New Zealand albino rabbits ...  "
      ]
     },
     "execution_count": 431,
     "metadata": {},
     "output_type": "execute_result"
    }
   ],
   "source": [
    "mcl_data.head()"
   ]
  },
  {
   "cell_type": "code",
   "execution_count": 432,
   "metadata": {},
   "outputs": [
    {
     "name": "stderr",
     "output_type": "stream",
     "text": [
      "/Users/shreya/opt/anaconda3/lib/python3.7/site-packages/tqdm/std.py:658: FutureWarning: The Panel class is removed from pandas. Accessing it from the top-level namespace will also be removed in the next version\n",
      "  from pandas import Panel\n"
     ]
    },
    {
     "data": {
      "application/vnd.jupyter.widget-view+json": {
       "model_id": "9d3f35b1e5f34f01a86d9f9ac357c98c",
       "version_major": 2,
       "version_minor": 0
      },
      "text/plain": [
       "HBox(children=(FloatProgress(value=0.0, description='Pandas Apply', max=171.0, style=ProgressStyle(description…"
      ]
     },
     "metadata": {},
     "output_type": "display_data"
    },
    {
     "name": "stdout",
     "output_type": "stream",
     "text": [
      "\n"
     ]
    },
    {
     "data": {
      "application/vnd.jupyter.widget-view+json": {
       "model_id": "cc1e1a2bf4fd4d14889ff4942abb5c41",
       "version_major": 2,
       "version_minor": 0
      },
      "text/plain": [
       "HBox(children=(FloatProgress(value=0.0, description='Pandas Apply', max=171.0, style=ProgressStyle(description…"
      ]
     },
     "metadata": {},
     "output_type": "display_data"
    },
    {
     "name": "stdout",
     "output_type": "stream",
     "text": [
      "\n"
     ]
    }
   ],
   "source": [
    "data_text = mcl_data.copy()\n",
    "data_text['scp'] = data_text.astype('str')\n",
    "data_text['processed_title'] = data_text['title'].swifter.apply(preprocess_text)\n",
    "data_text['processed_abstract'] = data_text['abstract_text'].swifter.apply(preprocess_text)\n",
    "\n",
    "data_text['processed_all_text'] = data_text['processed_title'] + data_text['processed_abstract']"
   ]
  },
  {
   "cell_type": "code",
   "execution_count": null,
   "metadata": {},
   "outputs": [],
   "source": []
  },
  {
   "cell_type": "code",
   "execution_count": 433,
   "metadata": {},
   "outputs": [
    {
     "data": {
      "application/vnd.jupyter.widget-view+json": {
       "model_id": "7eb6dd9ac0dc440eb54f58668e82e753",
       "version_major": 2,
       "version_minor": 0
      },
      "text/plain": [
       "HBox(children=(FloatProgress(value=0.0, description='Pandas Apply', max=171.0, style=ProgressStyle(description…"
      ]
     },
     "metadata": {},
     "output_type": "display_data"
    },
    {
     "name": "stdout",
     "output_type": "stream",
     "text": [
      "\n"
     ]
    }
   ],
   "source": [
    "data_text['processed_all_text_frequencies'] = data_text['processed_all_text'].swifter.apply(get_frequency)"
   ]
  },
  {
   "cell_type": "code",
   "execution_count": 434,
   "metadata": {},
   "outputs": [
    {
     "data": {
      "text/html": [
       "<div>\n",
       "<style scoped>\n",
       "    .dataframe tbody tr th:only-of-type {\n",
       "        vertical-align: middle;\n",
       "    }\n",
       "\n",
       "    .dataframe tbody tr th {\n",
       "        vertical-align: top;\n",
       "    }\n",
       "\n",
       "    .dataframe thead th {\n",
       "        text-align: right;\n",
       "    }\n",
       "</style>\n",
       "<table border=\"1\" class=\"dataframe\">\n",
       "  <thead>\n",
       "    <tr style=\"text-align: right;\">\n",
       "      <th></th>\n",
       "      <th>scp</th>\n",
       "      <th>title</th>\n",
       "      <th>abstract_text</th>\n",
       "      <th>processed_title</th>\n",
       "      <th>processed_abstract</th>\n",
       "      <th>processed_all_text</th>\n",
       "      <th>processed_all_text_frequencies</th>\n",
       "    </tr>\n",
       "  </thead>\n",
       "  <tbody>\n",
       "    <tr>\n",
       "      <th>0</th>\n",
       "      <td>14094190</td>\n",
       "      <td>THE HIPPOCAMPUS AND BEHAVIOR</td>\n",
       "      <td>THE LITERATURE ON THE BEHAVIORAL EFFECTS OF HI...</td>\n",
       "      <td>[hippocampus_behavior]</td>\n",
       "      <td>[literature_behavioral, behavioral_hippocampal...</td>\n",
       "      <td>[hippocampus_behavior, literature_behavioral, ...</td>\n",
       "      <td>{'hippocampus_behavior': 1, 'literature_behavi...</td>\n",
       "    </tr>\n",
       "    <tr>\n",
       "      <th>1</th>\n",
       "      <td>15027475</td>\n",
       "      <td>Limbic-diencephalic mechanisms of voluntary mo...</td>\n",
       "      <td>Data from a series of brain-behavior experimen...</td>\n",
       "      <td>[limbic-diencephalic_mechanism, mechanism_volu...</td>\n",
       "      <td>[series_brain-behavior, brain-behavior_experim...</td>\n",
       "      <td>[limbic-diencephalic_mechanism, mechanism_volu...</td>\n",
       "      <td>{'limbic-diencephalic_mechanism': 1, 'mechanis...</td>\n",
       "    </tr>\n",
       "    <tr>\n",
       "      <th>2</th>\n",
       "      <td>16308045</td>\n",
       "      <td>Recognition impaired and association intact in...</td>\n",
       "      <td>Three rhesus monkeys with transection of the f...</td>\n",
       "      <td>[recognition_impair, impair_association, assoc...</td>\n",
       "      <td>[rhesus_transection, transection_fornix, forni...</td>\n",
       "      <td>[recognition_impair, impair_association, assoc...</td>\n",
       "      <td>{'recognition_impair': 1, 'impair_association'...</td>\n",
       "    </tr>\n",
       "    <tr>\n",
       "      <th>3</th>\n",
       "      <td>15699567</td>\n",
       "      <td>The hippocampus and behavioral maturation</td>\n",
       "      <td>The morphology and connections of the hippocam...</td>\n",
       "      <td>[hippocampus_behavioral, behavioral_maturation]</td>\n",
       "      <td>[morphology_connection, connection_hippocampus...</td>\n",
       "      <td>[hippocampus_behavioral, behavioral_maturation...</td>\n",
       "      <td>{'hippocampus_behavioral': 1, 'behavioral_matu...</td>\n",
       "    </tr>\n",
       "    <tr>\n",
       "      <th>4</th>\n",
       "      <td>16770743</td>\n",
       "      <td>Latent inhibition and stimulus generalization ...</td>\n",
       "      <td>30 male and female New Zealand albino rabbits ...</td>\n",
       "      <td>[latent_inhibition, inhibition_stimulus, stimu...</td>\n",
       "      <td>[male_female, female_zealand, zealand_albino, ...</td>\n",
       "      <td>[latent_inhibition, inhibition_stimulus, stimu...</td>\n",
       "      <td>{'latent_inhibition': 2, 'inhibition_stimulus'...</td>\n",
       "    </tr>\n",
       "  </tbody>\n",
       "</table>\n",
       "</div>"
      ],
      "text/plain": [
       "        scp                                              title  \\\n",
       "0  14094190                       THE HIPPOCAMPUS AND BEHAVIOR   \n",
       "1  15027475  Limbic-diencephalic mechanisms of voluntary mo...   \n",
       "2  16308045  Recognition impaired and association intact in...   \n",
       "3  15699567          The hippocampus and behavioral maturation   \n",
       "4  16770743  Latent inhibition and stimulus generalization ...   \n",
       "\n",
       "                                       abstract_text  \\\n",
       "0  THE LITERATURE ON THE BEHAVIORAL EFFECTS OF HI...   \n",
       "1  Data from a series of brain-behavior experimen...   \n",
       "2  Three rhesus monkeys with transection of the f...   \n",
       "3  The morphology and connections of the hippocam...   \n",
       "4  30 male and female New Zealand albino rabbits ...   \n",
       "\n",
       "                                     processed_title  \\\n",
       "0                             [hippocampus_behavior]   \n",
       "1  [limbic-diencephalic_mechanism, mechanism_volu...   \n",
       "2  [recognition_impair, impair_association, assoc...   \n",
       "3    [hippocampus_behavioral, behavioral_maturation]   \n",
       "4  [latent_inhibition, inhibition_stimulus, stimu...   \n",
       "\n",
       "                                  processed_abstract  \\\n",
       "0  [literature_behavioral, behavioral_hippocampal...   \n",
       "1  [series_brain-behavior, brain-behavior_experim...   \n",
       "2  [rhesus_transection, transection_fornix, forni...   \n",
       "3  [morphology_connection, connection_hippocampus...   \n",
       "4  [male_female, female_zealand, zealand_albino, ...   \n",
       "\n",
       "                                  processed_all_text  \\\n",
       "0  [hippocampus_behavior, literature_behavioral, ...   \n",
       "1  [limbic-diencephalic_mechanism, mechanism_volu...   \n",
       "2  [recognition_impair, impair_association, assoc...   \n",
       "3  [hippocampus_behavioral, behavioral_maturation...   \n",
       "4  [latent_inhibition, inhibition_stimulus, stimu...   \n",
       "\n",
       "                      processed_all_text_frequencies  \n",
       "0  {'hippocampus_behavior': 1, 'literature_behavi...  \n",
       "1  {'limbic-diencephalic_mechanism': 1, 'mechanis...  \n",
       "2  {'recognition_impair': 1, 'impair_association'...  \n",
       "3  {'hippocampus_behavioral': 1, 'behavioral_matu...  \n",
       "4  {'latent_inhibition': 2, 'inhibition_stimulus'...  "
      ]
     },
     "execution_count": 434,
     "metadata": {},
     "output_type": "execute_result"
    }
   ],
   "source": [
    "data_text.head()"
   ]
  },
  {
   "cell_type": "code",
   "execution_count": 435,
   "metadata": {},
   "outputs": [],
   "source": [
    "data_all_text_frequency = merge_vocab_dictionary(data_text['processed_all_text_frequencies'])"
   ]
  },
  {
   "cell_type": "code",
   "execution_count": 436,
   "metadata": {},
   "outputs": [],
   "source": [
    "# title_all_text_frequency[:50]"
   ]
  },
  {
   "cell_type": "code",
   "execution_count": null,
   "metadata": {},
   "outputs": [],
   "source": []
  },
  {
   "cell_type": "code",
   "execution_count": 437,
   "metadata": {},
   "outputs": [
    {
     "name": "stdout",
     "output_type": "stream",
     "text": [
      "Total number of articles:  171\n"
     ]
    },
    {
     "data": {
      "image/png": "[encoded data removed]",
      "text/plain": [
       "<Figure size 1080x504 with 1 Axes>"
      ]
     },
     "metadata": {
      "needs_background": "light"
     },
     "output_type": "display_data"
    }
   ],
   "source": [
    "print('Total number of articles: ',len(data_text))\n",
    "\n",
    "max_freq_tokens = [i[0] for i in data_all_text_frequency[:50]]\n",
    "max_freq_token_counts = [i[1] for i in title_all_text_frequency[:50]]\n",
    "fig = plt.figure(figsize=(15, 7))\n",
    "ax = fig.add_axes([0,0,1,1])\n",
    "ax.bar(max_freq_tokens,max_freq_token_counts)\n",
    "plt.title('Top 50 Most Frequent Tokens in ncf_20_1_title')\n",
    "plt.ylabel('Frequncy')\n",
    "plt.xticks(rotation=90)\n",
    "plt.show()"
   ]
  },
  {
   "cell_type": "code",
   "execution_count": null,
   "metadata": {},
   "outputs": [],
   "source": []
  },
  {
   "cell_type": "code",
   "execution_count": 438,
   "metadata": {},
   "outputs": [],
   "source": [
    "# def make_bow(doc):\n",
    "    \n",
    "#     bow_corpus = id2word_n_1.doc2bow(doc)\n",
    "    \n",
    "#     return bow_corpus\n",
    "        "
   ]
  },
  {
   "cell_type": "code",
   "execution_count": 439,
   "metadata": {},
   "outputs": [],
   "source": [
    "# Create Dictionary\n",
    "mcl_dictionary = gensim.corpora.Dictionary(data_text.processed_all_text.tolist())\n",
    "\n",
    "# Create Corpus\n",
    "mcl_all_text = data_text.processed_all_text.tolist()\n",
    "\n",
    "mcl_corpus = [' '.join(text) for text in mcl_all_text]\n",
    "\n",
    "# Term Document Frequency\n",
    "mcl_bow_corpus = [mcl_dictionary.doc2bow(text) for text in mcl_all_text]\n",
    "\n"
   ]
  },
  {
   "cell_type": "code",
   "execution_count": 414,
   "metadata": {},
   "outputs": [],
   "source": [
    "num_topics = 1\n",
    "\n",
    "# Build LDA model\n",
    "mcl_lda = gensim.models.ldamodel.LdaModel(corpus = mcl_bow_corpus,\n",
    "                                           id2word = mcl_dictionary,\n",
    "                                           num_topics = num_topics, \n",
    "                                           random_state = 100,\n",
    "                                           update_every = 1,\n",
    "                                           chunksize = 100,\n",
    "                                           passes = 10 ,\n",
    "                                           alpha = 'auto',\n",
    "                                           per_word_topics = True)"
   ]
  },
  {
   "cell_type": "code",
   "execution_count": 415,
   "metadata": {},
   "outputs": [
    {
     "name": "stdout",
     "output_type": "stream",
     "text": [
      "[(0, '0.002*\"hippocampal_lesion\" + 0.001*\"hippocampal_formation\" + 0.001*\"work_memory\" + 0.001*\"spatial_learning\" + 0.001*\"amnesic_patient\" + 0.001*\"spatial_memory\" + 0.001*\"temporal_lobe\" + 0.001*\"pyramidal_cell\" + 0.001*\"place_cell\" + 0.001*\"granule_cell\" + 0.001*\"short-term_memory\" + 0.001*\"water_maze\" + 0.001*\"medial_temporal\" + 0.001*\"perforant_path\" + 0.001*\"lesion_produce\" + 0.001*\"correct_response\" + 0.001*\"hippocampal_place\" + 0.001*\"memory_function\" + 0.001*\"nictitate_membrane\" + 0.001*\"membrane_response\" + 0.000*\"memory_impairment\" + 0.000*\"hippocampal_function\" + 0.000*\"classical_conditioning\" + 0.000*\"spatial_information\" + 0.000*\"dorsal_hippocampus\" + 0.000*\"prefrontal_cortex\" + 0.000*\"discrimination_learning\" + 0.000*\"entorhinal_cortex\" + 0.000*\"damage_hippocampus\" + 0.000*\"memory_deficit\" + 0.000*\"learning_memory\" + 0.000*\"temporal_lobectomy\" + 0.000*\"mec_cell\" + 0.000*\"long-term_memory\" + 0.000*\"discuss_term\" + 0.000*\"fimbria-fornix_lesion\" + 0.000*\"bilateral_hippocampal\" + 0.000*\"cognitive_map\" + 0.000*\"conditioning_nictitate\" + 0.000*\"recognition_memory\" + 0.000*\"firing_pattern\" + 0.000*\"place_cue\" + 0.000*\"visual_discrimination\" + 0.000*\"place_field\" + 0.000*\"action_potential\" + 0.000*\"amnesic_subject\" + 0.000*\"high-frequency_stimulation\" + 0.000*\"morris_water\" + 0.000*\"dorsal_ventral\" + 0.000*\"age-related_impairment\"')]\n"
     ]
    }
   ],
   "source": [
    "print(mcl_lda.print_topics(num_words=50))"
   ]
  },
  {
   "cell_type": "code",
   "execution_count": null,
   "metadata": {},
   "outputs": [],
   "source": []
  },
  {
   "cell_type": "code",
   "execution_count": 416,
   "metadata": {},
   "outputs": [],
   "source": [
    "# # Visualize the topics\n",
    "# pyLDAvis.enable_notebook()\n",
    "# vis = pyLDAvis.gensim.prepare(mcl_lda, mcl_bow_corpus, mcl_dictionary)\n",
    "# vis"
   ]
  },
  {
   "cell_type": "code",
   "execution_count": null,
   "metadata": {},
   "outputs": [],
   "source": []
  },
  {
   "cell_type": "code",
   "execution_count": null,
   "metadata": {},
   "outputs": [],
   "source": []
  },
  {
   "cell_type": "code",
   "execution_count": null,
   "metadata": {},
   "outputs": [],
   "source": []
  },
  {
   "cell_type": "code",
   "execution_count": 417,
   "metadata": {},
   "outputs": [],
   "source": [
    "def get_lda_tokens(lda_model = mcl_lda, num_tokens = 30):  \n",
    "\n",
    "    \"\"\"\n",
    "    In current state, only works for num_topics = 1\n",
    "    \"\"\"\n",
    "    \n",
    "    x = lda_model.show_topics(num_words = num_tokens, formatted = False)\n",
    "\n",
    "    topic_tokens =[]\n",
    "    for topics in x:\n",
    "        for word, prob in topics[1]:\n",
    "            topic_tokens.append(word)\n",
    "                \n",
    "    return topic_tokens\n"
   ]
  },
  {
   "cell_type": "code",
   "execution_count": 418,
   "metadata": {},
   "outputs": [],
   "source": [
    "# Cosine Similarities\n",
    "def token_to_doc_similarity(doc, compare = 'lda', num_tokens = 30):\n",
    "    \n",
    "    \n",
    "    if compare == 'lda':\n",
    "        compare_tokens = get_lda_tokens(mcl_lda, num_tokens)\n",
    "    elif compare == 'frequency':\n",
    "        compare_tokens = [i[0] for i in data_all_text_frequency[:num_tokens]]\n",
    "    \n",
    "    \n",
    "    vectorizer = CountVectorizer()\n",
    "    \n",
    "    count_vec_compare = vectorizer.fit_transform([' '.join(compare_tokens)])\n",
    "    count_vec_doc = vectorizer.transform([' '.join(doc)])\n",
    "    \n",
    "    cos_sim = cosine_similarity(count_vec_compare, count_vec_doc)\n",
    "    \n",
    "    return cos_sim[0][0]\n",
    "    "
   ]
  },
  {
   "cell_type": "code",
   "execution_count": null,
   "metadata": {},
   "outputs": [],
   "source": []
  },
  {
   "cell_type": "code",
   "execution_count": null,
   "metadata": {},
   "outputs": [],
   "source": []
  },
  {
   "cell_type": "code",
   "execution_count": 422,
   "metadata": {},
   "outputs": [
    {
     "data": {
      "application/vnd.jupyter.widget-view+json": {
       "model_id": "4574a594437f4e34b6ad20a78df1ed34",
       "version_major": 2,
       "version_minor": 0
      },
      "text/plain": [
       "HBox(children=(FloatProgress(value=0.0, description='Pandas Apply', max=171.0, style=ProgressStyle(description…"
      ]
     },
     "metadata": {},
     "output_type": "display_data"
    },
    {
     "name": "stdout",
     "output_type": "stream",
     "text": [
      "\n"
     ]
    },
    {
     "data": {
      "application/vnd.jupyter.widget-view+json": {
       "model_id": "de37636dfe734b399ab21bbb4c0555a5",
       "version_major": 2,
       "version_minor": 0
      },
      "text/plain": [
       "HBox(children=(FloatProgress(value=0.0, description='Pandas Apply', max=171.0, style=ProgressStyle(description…"
      ]
     },
     "metadata": {},
     "output_type": "display_data"
    },
    {
     "name": "stdout",
     "output_type": "stream",
     "text": [
      "\n"
     ]
    }
   ],
   "source": [
    "data_text['lda_similarity'] = data_text['processed_all_text'].swifter.apply(token_to_doc_similarity, args=('lda', 30))\n",
    "data_text['max_frequency_similarity'] = data_text['processed_all_text'].swifter.apply(token_to_doc_similarity, args=('frequency', 30))\n",
    "\n"
   ]
  },
  {
   "cell_type": "code",
   "execution_count": 423,
   "metadata": {
    "scrolled": false
   },
   "outputs": [
    {
     "name": "stdout",
     "output_type": "stream",
     "text": [
      "The total number of articles is:  171\n"
     ]
    },
    {
     "data": {
      "image/png": "[encoded data removed]",
      "text/plain": [
       "<Figure size 720x360 with 1 Axes>"
      ]
     },
     "metadata": {
      "needs_background": "light"
     },
     "output_type": "display_data"
    },
    {
     "name": "stdout",
     "output_type": "stream",
     "text": [
      "Number of articles with cos_sim > 0.3:  31\n"
     ]
    }
   ],
   "source": [
    "print('The total number of articles is: ', len(data_text))\n",
    "plt.figure(figsize=(10, 5))\n",
    "plt.hist(data_text['lda_similarity'])\n",
    "plt.suptitle('Distribution of Cosine Similarity Values')\n",
    "plt.title('Between Articles and Top 30 LDA Tokens')\n",
    "plt.xlabel('Cosine Similarity')\n",
    "plt.ylabel('Frequency')\n",
    "plt.show()\n",
    "\n",
    "print('Number of articles with cos_sim > 0.3: ', len(data_text[data_text['lda_similarity']>0.3]))"
   ]
  },
  {
   "cell_type": "code",
   "execution_count": 424,
   "metadata": {},
   "outputs": [
    {
     "name": "stdout",
     "output_type": "stream",
     "text": [
      "The total number of articles is:  171\n"
     ]
    },
    {
     "data": {
      "image/png": "[encoded data removed]",
      "text/plain": [
       "<Figure size 720x360 with 1 Axes>"
      ]
     },
     "metadata": {
      "needs_background": "light"
     },
     "output_type": "display_data"
    },
    {
     "name": "stdout",
     "output_type": "stream",
     "text": [
      "Number of articles with cos_sim > 0.3:  102\n"
     ]
    }
   ],
   "source": [
    "print('The total number of articles is: ', len(data_text))\n",
    "plt.figure(figsize=(10, 5))\n",
    "plt.hist(data_text['max_frequency_similarity'])\n",
    "plt.suptitle('Distribution of Cosine Similarity Values')\n",
    "plt.title('Between Articles and Top 30 Most Frequent Tokens')\n",
    "plt.xlabel('Cosine Similarity')\n",
    "plt.ylabel('Frequency')\n",
    "plt.show()\n",
    "\n",
    "print('Number of articles with cos_sim > 0.3: ', len(data_text[data_text['max_frequency_similarity']>0.2]))"
   ]
  },
  {
   "cell_type": "code",
   "execution_count": 425,
   "metadata": {},
   "outputs": [],
   "source": [
    "# LDA gives us:\n",
    "\n",
    "# - A distribution over topics for each document \n",
    "# - A distribution over words for each topics"
   ]
  },
  {
   "cell_type": "code",
   "execution_count": 426,
   "metadata": {},
   "outputs": [],
   "source": [
    "# data_text['article_bow'] = data_text['processed_all_text'].swifter.apply(make_bow)"
   ]
  },
  {
   "cell_type": "code",
   "execution_count": 380,
   "metadata": {},
   "outputs": [],
   "source": [
    "# for row_index, row in data_text_n_1[10:20].iterrows():\n",
    "#     row = row.copy()\n",
    "#     new_doc = [mcl_dictionary.doc2bow(row['processed_all_text'])]\n",
    "# #     print(new_doc)\n",
    "#     lda_result = gensim.models.ldamodel.LdaModel(corpus = new_doc,\n",
    "#                                            id2word = mcl_dictionary,\n",
    "#                                            num_topics = num_topics, \n",
    "#                                            random_state = 100,\n",
    "#                                            update_every = 1,\n",
    "#                                            chunksize = 100,\n",
    "#                                            passes = 10 ,\n",
    "#                                            alpha = 'auto',\n",
    "#                                            per_word_topics = True)\n",
    "    \n",
    "    \n",
    "# #     x = lda_result.show_topics(num_words=30,formatted=False)\n",
    "\n",
    "# #     doc_topics =[]\n",
    "# #     for topics in x:\n",
    "# #         for word, prob in topics[1]:\n",
    "# #              doc_topics.append(word)\n",
    "                \n"
   ]
  },
  {
   "cell_type": "code",
   "execution_count": null,
   "metadata": {},
   "outputs": [],
   "source": []
  },
  {
   "cell_type": "code",
   "execution_count": 381,
   "metadata": {},
   "outputs": [],
   "source": [
    "mcl_total_cluster_corpus = [' '.join(mcl_corpus)]"
   ]
  },
  {
   "cell_type": "code",
   "execution_count": 382,
   "metadata": {},
   "outputs": [],
   "source": [
    "count_vectorizer = CountVectorizer()\n",
    "mcl_total_cluster_count_mat = count_vectorizer.fit_transform(mcl_total_cluster_corpus)\n",
    "mcl_doc_term_count_mat = count_vectorizer.transform(mcl_corpus)\n",
    "\n",
    "prob_transformer = TfidfTransformer(norm = 'l1', use_idf=False, smooth_idf=False)\n",
    "\n",
    "mcl_total_cluster_prob_mat = prob_transformer.fit_transform(mcl_total_cluster_count_mat)\n",
    "mcl_doc_term_prob_mat = prob_transformer.fit_transform(mcl_doc_term_count_mat)"
   ]
  },
  {
   "cell_type": "code",
   "execution_count": 383,
   "metadata": {},
   "outputs": [
    {
     "data": {
      "text/plain": [
       "<1x5779 sparse matrix of type '<class 'numpy.int64'>'\n",
       "\twith 5779 stored elements in Compressed Sparse Row format>"
      ]
     },
     "execution_count": 383,
     "metadata": {},
     "output_type": "execute_result"
    }
   ],
   "source": [
    "mcl_total_cluster_count_mat"
   ]
  },
  {
   "cell_type": "code",
   "execution_count": 384,
   "metadata": {},
   "outputs": [
    {
     "data": {
      "text/plain": [
       "<78x5779 sparse matrix of type '<class 'numpy.int64'>'\n",
       "\twith 5990 stored elements in Compressed Sparse Row format>"
      ]
     },
     "execution_count": 384,
     "metadata": {},
     "output_type": "execute_result"
    }
   ],
   "source": [
    "mcl_doc_term_count_mat"
   ]
  },
  {
   "cell_type": "code",
   "execution_count": 385,
   "metadata": {},
   "outputs": [
    {
     "data": {
      "text/plain": [
       "<1x5779 sparse matrix of type '<class 'numpy.float64'>'\n",
       "\twith 5779 stored elements in Compressed Sparse Row format>"
      ]
     },
     "execution_count": 385,
     "metadata": {},
     "output_type": "execute_result"
    }
   ],
   "source": [
    "mcl_total_cluster_prob_mat"
   ]
  },
  {
   "cell_type": "code",
   "execution_count": 386,
   "metadata": {},
   "outputs": [
    {
     "data": {
      "text/plain": [
       "<78x5779 sparse matrix of type '<class 'numpy.float64'>'\n",
       "\twith 5990 stored elements in Compressed Sparse Row format>"
      ]
     },
     "execution_count": 386,
     "metadata": {},
     "output_type": "execute_result"
    }
   ],
   "source": [
    "mcl_doc_term_prob_mat"
   ]
  },
  {
   "cell_type": "code",
   "execution_count": 387,
   "metadata": {},
   "outputs": [],
   "source": [
    "data_text['doc_term_prob'] = mcl_doc_term_prob_mat.toarray().tolist()"
   ]
  },
  {
   "cell_type": "code",
   "execution_count": 388,
   "metadata": {},
   "outputs": [],
   "source": [
    "# distance.jensenshannon([1.0, 0.0, 0.0], [0.0, 1.0, 0.0])"
   ]
  },
  {
   "cell_type": "code",
   "execution_count": 389,
   "metadata": {},
   "outputs": [],
   "source": [
    "mcl_total_cluster_prob_vec = mcl_total_cluster_prob_mat.toarray().tolist()[0]\n",
    "\n",
    "def calculate_jsd(prob_array, cluster_prob_vec = mcl_total_cluster_prob_vec):\n",
    "    \n",
    "    jsd = distance.jensenshannon(prob_array, cluster_prob_vec)\n",
    "    \n",
    "    return jsd"
   ]
  },
  {
   "cell_type": "code",
   "execution_count": 390,
   "metadata": {},
   "outputs": [
    {
     "data": {
      "application/vnd.jupyter.widget-view+json": {
       "model_id": "d746d9c78e7f4bb5bdb52c8fcd971d24",
       "version_major": 2,
       "version_minor": 0
      },
      "text/plain": [
       "HBox(children=(FloatProgress(value=0.0, description='Pandas Apply', max=78.0, style=ProgressStyle(description_…"
      ]
     },
     "metadata": {},
     "output_type": "display_data"
    },
    {
     "name": "stdout",
     "output_type": "stream",
     "text": [
      "\n"
     ]
    }
   ],
   "source": [
    "data_text['JSD'] = data_text['doc_term_prob'].swifter.apply(calculate_jsd)"
   ]
  },
  {
   "cell_type": "code",
   "execution_count": 394,
   "metadata": {},
   "outputs": [
    {
     "data": {
      "text/html": [
       "<div>\n",
       "<style scoped>\n",
       "    .dataframe tbody tr th:only-of-type {\n",
       "        vertical-align: middle;\n",
       "    }\n",
       "\n",
       "    .dataframe tbody tr th {\n",
       "        vertical-align: top;\n",
       "    }\n",
       "\n",
       "    .dataframe thead th {\n",
       "        text-align: right;\n",
       "    }\n",
       "</style>\n",
       "<table border=\"1\" class=\"dataframe\">\n",
       "  <thead>\n",
       "    <tr style=\"text-align: right;\">\n",
       "      <th></th>\n",
       "      <th>scp</th>\n",
       "      <th>title</th>\n",
       "      <th>abstract_text</th>\n",
       "      <th>processed_title</th>\n",
       "      <th>processed_abstract</th>\n",
       "      <th>processed_all_text</th>\n",
       "      <th>processed_all_text_frequencies</th>\n",
       "      <th>lda_similarity</th>\n",
       "      <th>max_frequency_similarity</th>\n",
       "      <th>doc_term_prob</th>\n",
       "      <th>JSD</th>\n",
       "    </tr>\n",
       "  </thead>\n",
       "  <tbody>\n",
       "    <tr>\n",
       "      <th>0</th>\n",
       "      <td>14949207</td>\n",
       "      <td>Cleavage of structural proteins during the ass...</td>\n",
       "      <td>Using an improved method of gel electrophoresi...</td>\n",
       "      <td>[cleavage_structural, structural_protein, prot...</td>\n",
       "      <td>[gel_electrophoresis, electrophoresis_protein,...</td>\n",
       "      <td>[cleavage_structural, structural_protein, prot...</td>\n",
       "      <td>{'cleavage_structural': 1, 'structural_protein...</td>\n",
       "      <td>0.000000</td>\n",
       "      <td>0.306186</td>\n",
       "      <td>[0.0, 0.0, 0.0, 0.0, 0.0, 0.0, 0.0, 0.0, 0.0, ...</td>\n",
       "      <td>0.824418</td>\n",
       "    </tr>\n",
       "    <tr>\n",
       "      <th>1</th>\n",
       "      <td>84981840703</td>\n",
       "      <td>An Eight‐day Method for Screening Compounds ag...</td>\n",
       "      <td>SYNOPSIS. Intracardial inoculation of 1–10 mil...</td>\n",
       "      <td>[eight‐day_screen, screen_compound, compound_l...</td>\n",
       "      <td>[synopsis_intracardial, intracardial_inoculati...</td>\n",
       "      <td>[eight‐day_screen, screen_compound, compound_l...</td>\n",
       "      <td>{'eight‐day_screen': 1, 'screen_compound': 1, ...</td>\n",
       "      <td>0.000000</td>\n",
       "      <td>0.176777</td>\n",
       "      <td>[0.0, 0.0, 0.0, 0.0, 0.0, 0.0, 0.0, 0.0, 0.0, ...</td>\n",
       "      <td>0.812538</td>\n",
       "    </tr>\n",
       "    <tr>\n",
       "      <th>2</th>\n",
       "      <td>17184389</td>\n",
       "      <td>A rapid and sensitive method for the quantitat...</td>\n",
       "      <td>A protein determination method which involves ...</td>\n",
       "      <td>[rapid_sensitive, sensitive_quantitation, quan...</td>\n",
       "      <td>[protein_determination, determination_involve,...</td>\n",
       "      <td>[rapid_sensitive, sensitive_quantitation, quan...</td>\n",
       "      <td>{'rapid_sensitive': 1, 'sensitive_quantitation...</td>\n",
       "      <td>0.169031</td>\n",
       "      <td>0.684653</td>\n",
       "      <td>[0.0, 0.0, 0.0, 0.0, 0.0, 0.0, 0.0, 0.0, 0.0, ...</td>\n",
       "      <td>0.808642</td>\n",
       "    </tr>\n",
       "    <tr>\n",
       "      <th>3</th>\n",
       "      <td>23922515</td>\n",
       "      <td>Identification of the avian homologues of mamm...</td>\n",
       "      <td>Two mAb were produced against chicken T cells....</td>\n",
       "      <td>[identification_avian, avian_homologues, homol...</td>\n",
       "      <td>[mab_produce, produce_chicken, chicken_cell, c...</td>\n",
       "      <td>[identification_avian, avian_homologues, homol...</td>\n",
       "      <td>{'identification_avian': 1, 'avian_homologues'...</td>\n",
       "      <td>0.000000</td>\n",
       "      <td>0.176777</td>\n",
       "      <td>[0.0, 0.01775147928994083, 0.0, 0.005917159763...</td>\n",
       "      <td>0.792736</td>\n",
       "    </tr>\n",
       "    <tr>\n",
       "      <th>4</th>\n",
       "      <td>33751553722</td>\n",
       "      <td>Nitrogen to Protein Conversion Factor for Ten ...</td>\n",
       "      <td>The main two kinds of usual nitrogen to protei...</td>\n",
       "      <td>[nitrogen_protein, protein_conversion, convers...</td>\n",
       "      <td>[main_kind, kind_usual, usual_nitrogen, nitrog...</td>\n",
       "      <td>[nitrogen_protein, protein_conversion, convers...</td>\n",
       "      <td>{'nitrogen_protein': 2, 'protein_conversion': ...</td>\n",
       "      <td>0.265197</td>\n",
       "      <td>0.176777</td>\n",
       "      <td>[0.0, 0.0, 0.0, 0.0, 0.0, 0.0, 0.0, 0.0, 0.0, ...</td>\n",
       "      <td>0.806456</td>\n",
       "    </tr>\n",
       "  </tbody>\n",
       "</table>\n",
       "</div>"
      ],
      "text/plain": [
       "           scp                                              title  \\\n",
       "0     14949207  Cleavage of structural proteins during the ass...   \n",
       "1  84981840703  An Eight‐day Method for Screening Compounds ag...   \n",
       "2     17184389  A rapid and sensitive method for the quantitat...   \n",
       "3     23922515  Identification of the avian homologues of mamm...   \n",
       "4  33751553722  Nitrogen to Protein Conversion Factor for Ten ...   \n",
       "\n",
       "                                       abstract_text  \\\n",
       "0  Using an improved method of gel electrophoresi...   \n",
       "1  SYNOPSIS. Intracardial inoculation of 1–10 mil...   \n",
       "2  A protein determination method which involves ...   \n",
       "3  Two mAb were produced against chicken T cells....   \n",
       "4  The main two kinds of usual nitrogen to protei...   \n",
       "\n",
       "                                     processed_title  \\\n",
       "0  [cleavage_structural, structural_protein, prot...   \n",
       "1  [eight‐day_screen, screen_compound, compound_l...   \n",
       "2  [rapid_sensitive, sensitive_quantitation, quan...   \n",
       "3  [identification_avian, avian_homologues, homol...   \n",
       "4  [nitrogen_protein, protein_conversion, convers...   \n",
       "\n",
       "                                  processed_abstract  \\\n",
       "0  [gel_electrophoresis, electrophoresis_protein,...   \n",
       "1  [synopsis_intracardial, intracardial_inoculati...   \n",
       "2  [protein_determination, determination_involve,...   \n",
       "3  [mab_produce, produce_chicken, chicken_cell, c...   \n",
       "4  [main_kind, kind_usual, usual_nitrogen, nitrog...   \n",
       "\n",
       "                                  processed_all_text  \\\n",
       "0  [cleavage_structural, structural_protein, prot...   \n",
       "1  [eight‐day_screen, screen_compound, compound_l...   \n",
       "2  [rapid_sensitive, sensitive_quantitation, quan...   \n",
       "3  [identification_avian, avian_homologues, homol...   \n",
       "4  [nitrogen_protein, protein_conversion, convers...   \n",
       "\n",
       "                      processed_all_text_frequencies  lda_similarity  \\\n",
       "0  {'cleavage_structural': 1, 'structural_protein...        0.000000   \n",
       "1  {'eight‐day_screen': 1, 'screen_compound': 1, ...        0.000000   \n",
       "2  {'rapid_sensitive': 1, 'sensitive_quantitation...        0.169031   \n",
       "3  {'identification_avian': 1, 'avian_homologues'...        0.000000   \n",
       "4  {'nitrogen_protein': 2, 'protein_conversion': ...        0.265197   \n",
       "\n",
       "   max_frequency_similarity  \\\n",
       "0                  0.306186   \n",
       "1                  0.176777   \n",
       "2                  0.684653   \n",
       "3                  0.176777   \n",
       "4                  0.176777   \n",
       "\n",
       "                                       doc_term_prob       JSD  \n",
       "0  [0.0, 0.0, 0.0, 0.0, 0.0, 0.0, 0.0, 0.0, 0.0, ...  0.824418  \n",
       "1  [0.0, 0.0, 0.0, 0.0, 0.0, 0.0, 0.0, 0.0, 0.0, ...  0.812538  \n",
       "2  [0.0, 0.0, 0.0, 0.0, 0.0, 0.0, 0.0, 0.0, 0.0, ...  0.808642  \n",
       "3  [0.0, 0.01775147928994083, 0.0, 0.005917159763...  0.792736  \n",
       "4  [0.0, 0.0, 0.0, 0.0, 0.0, 0.0, 0.0, 0.0, 0.0, ...  0.806456  "
      ]
     },
     "execution_count": 394,
     "metadata": {},
     "output_type": "execute_result"
    }
   ],
   "source": [
    "data_text.head()"
   ]
  },
  {
   "cell_type": "code",
   "execution_count": 392,
   "metadata": {},
   "outputs": [
    {
     "data": {
      "text/html": [
       "<div>\n",
       "<style scoped>\n",
       "    .dataframe tbody tr th:only-of-type {\n",
       "        vertical-align: middle;\n",
       "    }\n",
       "\n",
       "    .dataframe tbody tr th {\n",
       "        vertical-align: top;\n",
       "    }\n",
       "\n",
       "    .dataframe thead th {\n",
       "        text-align: right;\n",
       "    }\n",
       "</style>\n",
       "<table border=\"1\" class=\"dataframe\">\n",
       "  <thead>\n",
       "    <tr style=\"text-align: right;\">\n",
       "      <th></th>\n",
       "      <th>lda_similarity</th>\n",
       "      <th>max_frequency_similarity</th>\n",
       "      <th>JSD</th>\n",
       "    </tr>\n",
       "  </thead>\n",
       "  <tbody>\n",
       "    <tr>\n",
       "      <th>count</th>\n",
       "      <td>78.000000</td>\n",
       "      <td>78.000000</td>\n",
       "      <td>78.000000</td>\n",
       "    </tr>\n",
       "    <tr>\n",
       "      <th>mean</th>\n",
       "      <td>0.103359</td>\n",
       "      <td>0.123801</td>\n",
       "      <td>0.810338</td>\n",
       "    </tr>\n",
       "    <tr>\n",
       "      <th>std</th>\n",
       "      <td>0.111847</td>\n",
       "      <td>0.142711</td>\n",
       "      <td>0.011236</td>\n",
       "    </tr>\n",
       "    <tr>\n",
       "      <th>min</th>\n",
       "      <td>0.000000</td>\n",
       "      <td>0.000000</td>\n",
       "      <td>0.772200</td>\n",
       "    </tr>\n",
       "    <tr>\n",
       "      <th>25%</th>\n",
       "      <td>0.000000</td>\n",
       "      <td>0.000000</td>\n",
       "      <td>0.804287</td>\n",
       "    </tr>\n",
       "    <tr>\n",
       "      <th>50%</th>\n",
       "      <td>0.084515</td>\n",
       "      <td>0.176777</td>\n",
       "      <td>0.811993</td>\n",
       "    </tr>\n",
       "    <tr>\n",
       "      <th>75%</th>\n",
       "      <td>0.169031</td>\n",
       "      <td>0.176777</td>\n",
       "      <td>0.818654</td>\n",
       "    </tr>\n",
       "    <tr>\n",
       "      <th>max</th>\n",
       "      <td>0.354640</td>\n",
       "      <td>0.684653</td>\n",
       "      <td>0.830070</td>\n",
       "    </tr>\n",
       "  </tbody>\n",
       "</table>\n",
       "</div>"
      ],
      "text/plain": [
       "       lda_similarity  max_frequency_similarity        JSD\n",
       "count       78.000000                 78.000000  78.000000\n",
       "mean         0.103359                  0.123801   0.810338\n",
       "std          0.111847                  0.142711   0.011236\n",
       "min          0.000000                  0.000000   0.772200\n",
       "25%          0.000000                  0.000000   0.804287\n",
       "50%          0.084515                  0.176777   0.811993\n",
       "75%          0.169031                  0.176777   0.818654\n",
       "max          0.354640                  0.684653   0.830070"
      ]
     },
     "execution_count": 392,
     "metadata": {},
     "output_type": "execute_result"
    }
   ],
   "source": [
    "data_text.describe()"
   ]
  },
  {
   "cell_type": "code",
   "execution_count": 393,
   "metadata": {},
   "outputs": [
    {
     "name": "stdout",
     "output_type": "stream",
     "text": [
      "The total number of articles is:  78\n"
     ]
    },
    {
     "data": {
      "image/png": "[encoded data removed]",
      "text/plain": [
       "<Figure size 720x360 with 1 Axes>"
      ]
     },
     "metadata": {
      "needs_background": "light"
     },
     "output_type": "display_data"
    }
   ],
   "source": [
    "print('The total number of articles is: ', len(data_text))\n",
    "plt.figure(figsize=(10, 5))\n",
    "plt.hist(data_text['JSD'])\n",
    "plt.suptitle('Distribution of JSD Values')\n",
    "# plt.title('Between Articles and Top 30 Most Frequent Tokens')\n",
    "plt.xlabel('JSD')\n",
    "plt.ylabel('Frequency')\n",
    "plt.show()\n",
    "\n",
    "# print('Number of articles with cos_sim > 0.3: ', len(data_text[data_text['max_frequency_similarity']>0.2]))"
   ]
  },
  {
   "cell_type": "code",
   "execution_count": null,
   "metadata": {},
   "outputs": [],
   "source": []
  },
  {
   "cell_type": "code",
   "execution_count": null,
   "metadata": {},
   "outputs": [],
   "source": []
  }
 ],
 "metadata": {
  "kernelspec": {
   "display_name": "Python 3",
   "language": "python",
   "name": "python3"
  },
  "language_info": {
   "codemirror_mode": {
    "name": "ipython",
    "version": 3
   },
   "file_extension": ".py",
   "mimetype": "text/x-python",
   "name": "python",
   "nbconvert_exporter": "python",
   "pygments_lexer": "ipython3",
   "version": "3.7.6"
  }
 },
 "nbformat": 4,
 "nbformat_minor": 4
}
