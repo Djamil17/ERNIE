{
 "cells": [
  {
   "cell_type": "code",
   "execution_count": 2,
   "metadata": {},
   "outputs": [],
   "source": [
    "import pandas as pd\n",
    "import numpy as np"
   ]
  },
  {
   "cell_type": "code",
   "execution_count": 316,
   "metadata": {},
   "outputs": [],
   "source": [
    "import psycopg2\n",
    "conn=psycopg2.connect(database=\"ernie\",user=\"wenxi\",host=\"localhost\",password=\"temp_ERNIE_1234\")\n",
    "conn.set_client_encoding('UTF8')\n",
    "conn.autocommit=True\n",
    "curs=conn.cursor()"
   ]
  },
  {
   "cell_type": "code",
   "execution_count": 317,
   "metadata": {},
   "outputs": [],
   "source": [
    "curs.execute(\"SET SEARCH_PATH TO wenxi;\")"
   ]
  },
  {
   "cell_type": "markdown",
   "metadata": {},
   "source": [
    "### Import Individual Kinetics Data"
   ]
  },
  {
   "cell_type": "code",
   "execution_count": 5,
   "metadata": {},
   "outputs": [],
   "source": [
    "individual = pd.read_sql('SELECT * FROM sleep_beauty_1380_individual_kinetics_update', conn)\n",
    "individual = individual.sort_values(['cited_1','pub_year']).reset_index().drop(columns='index')"
   ]
  },
  {
   "cell_type": "code",
   "execution_count": 6,
   "metadata": {},
   "outputs": [
    {
     "data": {
      "text/html": [
       "<div>\n",
       "<style scoped>\n",
       "    .dataframe tbody tr th:only-of-type {\n",
       "        vertical-align: middle;\n",
       "    }\n",
       "\n",
       "    .dataframe tbody tr th {\n",
       "        vertical-align: top;\n",
       "    }\n",
       "\n",
       "    .dataframe thead th {\n",
       "        text-align: right;\n",
       "    }\n",
       "</style>\n",
       "<table border=\"1\" class=\"dataframe\">\n",
       "  <thead>\n",
       "    <tr style=\"text-align: right;\">\n",
       "      <th></th>\n",
       "      <th>cited_1</th>\n",
       "      <th>pub_year</th>\n",
       "      <th>count</th>\n",
       "      <th>cited_1_pub_year</th>\n",
       "    </tr>\n",
       "  </thead>\n",
       "  <tbody>\n",
       "    <tr>\n",
       "      <td>0</td>\n",
       "      <td>10019696</td>\n",
       "      <td>1979</td>\n",
       "      <td>2</td>\n",
       "      <td>1979</td>\n",
       "    </tr>\n",
       "    <tr>\n",
       "      <td>1</td>\n",
       "      <td>10019696</td>\n",
       "      <td>1980</td>\n",
       "      <td>16</td>\n",
       "      <td>1979</td>\n",
       "    </tr>\n",
       "    <tr>\n",
       "      <td>2</td>\n",
       "      <td>10019696</td>\n",
       "      <td>1981</td>\n",
       "      <td>11</td>\n",
       "      <td>1979</td>\n",
       "    </tr>\n",
       "    <tr>\n",
       "      <td>3</td>\n",
       "      <td>10019696</td>\n",
       "      <td>1982</td>\n",
       "      <td>18</td>\n",
       "      <td>1979</td>\n",
       "    </tr>\n",
       "    <tr>\n",
       "      <td>4</td>\n",
       "      <td>10019696</td>\n",
       "      <td>1983</td>\n",
       "      <td>15</td>\n",
       "      <td>1979</td>\n",
       "    </tr>\n",
       "    <tr>\n",
       "      <td>...</td>\n",
       "      <td>...</td>\n",
       "      <td>...</td>\n",
       "      <td>...</td>\n",
       "      <td>...</td>\n",
       "    </tr>\n",
       "    <tr>\n",
       "      <td>50522</td>\n",
       "      <td>9847976</td>\n",
       "      <td>2015</td>\n",
       "      <td>28</td>\n",
       "      <td>1980</td>\n",
       "    </tr>\n",
       "    <tr>\n",
       "      <td>50523</td>\n",
       "      <td>9847976</td>\n",
       "      <td>2016</td>\n",
       "      <td>46</td>\n",
       "      <td>1980</td>\n",
       "    </tr>\n",
       "    <tr>\n",
       "      <td>50524</td>\n",
       "      <td>9847976</td>\n",
       "      <td>2017</td>\n",
       "      <td>32</td>\n",
       "      <td>1980</td>\n",
       "    </tr>\n",
       "    <tr>\n",
       "      <td>50525</td>\n",
       "      <td>9847976</td>\n",
       "      <td>2018</td>\n",
       "      <td>35</td>\n",
       "      <td>1980</td>\n",
       "    </tr>\n",
       "    <tr>\n",
       "      <td>50526</td>\n",
       "      <td>9847976</td>\n",
       "      <td>2019</td>\n",
       "      <td>29</td>\n",
       "      <td>1980</td>\n",
       "    </tr>\n",
       "  </tbody>\n",
       "</table>\n",
       "<p>50527 rows × 4 columns</p>\n",
       "</div>"
      ],
      "text/plain": [
       "        cited_1  pub_year  count  cited_1_pub_year\n",
       "0      10019696      1979      2              1979\n",
       "1      10019696      1980     16              1979\n",
       "2      10019696      1981     11              1979\n",
       "3      10019696      1982     18              1979\n",
       "4      10019696      1983     15              1979\n",
       "...         ...       ...    ...               ...\n",
       "50522   9847976      2015     28              1980\n",
       "50523   9847976      2016     46              1980\n",
       "50524   9847976      2017     32              1980\n",
       "50525   9847976      2018     35              1980\n",
       "50526   9847976      2019     29              1980\n",
       "\n",
       "[50527 rows x 4 columns]"
      ]
     },
     "execution_count": 6,
     "metadata": {},
     "output_type": "execute_result"
    }
   ],
   "source": [
    "individual"
   ]
  },
  {
   "cell_type": "markdown",
   "metadata": {},
   "source": [
    "### Fill missing years between first cited year and last cited year (2019) "
   ]
  },
  {
   "cell_type": "code",
   "execution_count": 7,
   "metadata": {},
   "outputs": [],
   "source": [
    "individual['pub_year'] = individual['pub_year'].astype(int)"
   ]
  },
  {
   "cell_type": "code",
   "execution_count": 8,
   "metadata": {},
   "outputs": [],
   "source": [
    "k = list([individual['cited_1'], individual['pub_year']])"
   ]
  },
  {
   "cell_type": "code",
   "execution_count": 9,
   "metadata": {},
   "outputs": [],
   "source": [
    "k_new = [[],[]]\n",
    "\n",
    "for i in range(len(k[0])-1):    \n",
    "    if k[1][i+1] - k[1][i] > 1:\n",
    "        k_new[0].append(k[0][i])\n",
    "        k_new[1].append(k[1][i])\n",
    "        for j in range(1, (k[1][i+1] - k[1][i])):\n",
    "            k_new[0].append(k[0][i])\n",
    "            k_new[1].append(k[1][i]+j)\n",
    "\n",
    "    else:\n",
    "        k_new[0].append(k[0][i])\n",
    "        k_new[1].append(k[1][i])\n",
    "        \n",
    "    if i == (len(k[0])-1):\n",
    "        k_new[0].append(k[0][i+1])\n",
    "        k_new[1].append(k[1][i+1])\n"
   ]
  },
  {
   "cell_type": "code",
   "execution_count": 10,
   "metadata": {},
   "outputs": [],
   "source": [
    "k2 = pd.DataFrame({'cited_paper':k_new[0], 'year':k_new[1]})"
   ]
  },
  {
   "cell_type": "code",
   "execution_count": 11,
   "metadata": {},
   "outputs": [],
   "source": [
    "k2 = k2.merge(individual, how='left', left_on=['cited_paper','year'], right_on=['cited_1','pub_year'])"
   ]
  },
  {
   "cell_type": "code",
   "execution_count": 12,
   "metadata": {},
   "outputs": [],
   "source": [
    "k2 = k2[['cited_paper','year','count','cited_1_pub_year']]"
   ]
  },
  {
   "cell_type": "code",
   "execution_count": 13,
   "metadata": {},
   "outputs": [
    {
     "name": "stderr",
     "output_type": "stream",
     "text": [
      "/opt/anaconda3/lib/python3.7/site-packages/ipykernel_launcher.py:5: SettingWithCopyWarning: \n",
      "A value is trying to be set on a copy of a slice from a DataFrame\n",
      "\n",
      "See the caveats in the documentation: http://pandas.pydata.org/pandas-docs/stable/user_guide/indexing.html#returning-a-view-versus-a-copy\n",
      "  \"\"\"\n",
      "/opt/anaconda3/lib/python3.7/site-packages/ipykernel_launcher.py:7: SettingWithCopyWarning: \n",
      "A value is trying to be set on a copy of a slice from a DataFrame\n",
      "\n",
      "See the caveats in the documentation: http://pandas.pydata.org/pandas-docs/stable/user_guide/indexing.html#returning-a-view-versus-a-copy\n",
      "  import sys\n"
     ]
    }
   ],
   "source": [
    "import math\n",
    "\n",
    "for i in range(len(k2)):\n",
    "    if math.isnan(k2['count'][i]):\n",
    "        k2['count'][i] = 0\n",
    "    if math.isnan(k2['cited_1_pub_year'][i]):\n",
    "        k2['cited_1_pub_year'][i] = k2['cited_1_pub_year'][i-1]"
   ]
  },
  {
   "cell_type": "code",
   "execution_count": 14,
   "metadata": {},
   "outputs": [
    {
     "data": {
      "text/plain": [
       "1398"
      ]
     },
     "execution_count": 14,
     "metadata": {},
     "output_type": "execute_result"
    }
   ],
   "source": [
    "b = list(set(k_new[0]))\n",
    "len(b)"
   ]
  },
  {
   "cell_type": "markdown",
   "metadata": {},
   "source": [
    "### Fill missing years between publication year and first cited year"
   ]
  },
  {
   "cell_type": "code",
   "execution_count": 15,
   "metadata": {},
   "outputs": [],
   "source": [
    "y0 = pd.DataFrame(k2.groupby(['cited_paper'])['year'].min()).reset_index()"
   ]
  },
  {
   "cell_type": "code",
   "execution_count": 16,
   "metadata": {},
   "outputs": [
    {
     "data": {
      "text/html": [
       "<div>\n",
       "<style scoped>\n",
       "    .dataframe tbody tr th:only-of-type {\n",
       "        vertical-align: middle;\n",
       "    }\n",
       "\n",
       "    .dataframe tbody tr th {\n",
       "        vertical-align: top;\n",
       "    }\n",
       "\n",
       "    .dataframe thead th {\n",
       "        text-align: right;\n",
       "    }\n",
       "</style>\n",
       "<table border=\"1\" class=\"dataframe\">\n",
       "  <thead>\n",
       "    <tr style=\"text-align: right;\">\n",
       "      <th></th>\n",
       "      <th>cited_paper</th>\n",
       "      <th>year</th>\n",
       "      <th>count</th>\n",
       "      <th>cited_paper_pub_year</th>\n",
       "      <th>min_year</th>\n",
       "    </tr>\n",
       "  </thead>\n",
       "  <tbody>\n",
       "    <tr>\n",
       "      <td>0</td>\n",
       "      <td>10019696</td>\n",
       "      <td>1979</td>\n",
       "      <td>2.0</td>\n",
       "      <td>1979.0</td>\n",
       "      <td>1979</td>\n",
       "    </tr>\n",
       "    <tr>\n",
       "      <td>1</td>\n",
       "      <td>10019696</td>\n",
       "      <td>1980</td>\n",
       "      <td>16.0</td>\n",
       "      <td>1979.0</td>\n",
       "      <td>1979</td>\n",
       "    </tr>\n",
       "    <tr>\n",
       "      <td>2</td>\n",
       "      <td>10019696</td>\n",
       "      <td>1981</td>\n",
       "      <td>11.0</td>\n",
       "      <td>1979.0</td>\n",
       "      <td>1979</td>\n",
       "    </tr>\n",
       "    <tr>\n",
       "      <td>3</td>\n",
       "      <td>10019696</td>\n",
       "      <td>1982</td>\n",
       "      <td>18.0</td>\n",
       "      <td>1979.0</td>\n",
       "      <td>1979</td>\n",
       "    </tr>\n",
       "    <tr>\n",
       "      <td>4</td>\n",
       "      <td>10019696</td>\n",
       "      <td>1983</td>\n",
       "      <td>15.0</td>\n",
       "      <td>1979.0</td>\n",
       "      <td>1979</td>\n",
       "    </tr>\n",
       "    <tr>\n",
       "      <td>...</td>\n",
       "      <td>...</td>\n",
       "      <td>...</td>\n",
       "      <td>...</td>\n",
       "      <td>...</td>\n",
       "      <td>...</td>\n",
       "    </tr>\n",
       "    <tr>\n",
       "      <td>52595</td>\n",
       "      <td>9847976</td>\n",
       "      <td>2014</td>\n",
       "      <td>35.0</td>\n",
       "      <td>1980.0</td>\n",
       "      <td>1980</td>\n",
       "    </tr>\n",
       "    <tr>\n",
       "      <td>52596</td>\n",
       "      <td>9847976</td>\n",
       "      <td>2015</td>\n",
       "      <td>28.0</td>\n",
       "      <td>1980.0</td>\n",
       "      <td>1980</td>\n",
       "    </tr>\n",
       "    <tr>\n",
       "      <td>52597</td>\n",
       "      <td>9847976</td>\n",
       "      <td>2016</td>\n",
       "      <td>46.0</td>\n",
       "      <td>1980.0</td>\n",
       "      <td>1980</td>\n",
       "    </tr>\n",
       "    <tr>\n",
       "      <td>52598</td>\n",
       "      <td>9847976</td>\n",
       "      <td>2017</td>\n",
       "      <td>32.0</td>\n",
       "      <td>1980.0</td>\n",
       "      <td>1980</td>\n",
       "    </tr>\n",
       "    <tr>\n",
       "      <td>52599</td>\n",
       "      <td>9847976</td>\n",
       "      <td>2018</td>\n",
       "      <td>35.0</td>\n",
       "      <td>1980.0</td>\n",
       "      <td>1980</td>\n",
       "    </tr>\n",
       "  </tbody>\n",
       "</table>\n",
       "<p>52600 rows × 5 columns</p>\n",
       "</div>"
      ],
      "text/plain": [
       "      cited_paper  year  count  cited_paper_pub_year  min_year\n",
       "0        10019696  1979    2.0                1979.0      1979\n",
       "1        10019696  1980   16.0                1979.0      1979\n",
       "2        10019696  1981   11.0                1979.0      1979\n",
       "3        10019696  1982   18.0                1979.0      1979\n",
       "4        10019696  1983   15.0                1979.0      1979\n",
       "...           ...   ...    ...                   ...       ...\n",
       "52595     9847976  2014   35.0                1980.0      1980\n",
       "52596     9847976  2015   28.0                1980.0      1980\n",
       "52597     9847976  2016   46.0                1980.0      1980\n",
       "52598     9847976  2017   32.0                1980.0      1980\n",
       "52599     9847976  2018   35.0                1980.0      1980\n",
       "\n",
       "[52600 rows x 5 columns]"
      ]
     },
     "execution_count": 16,
     "metadata": {},
     "output_type": "execute_result"
    }
   ],
   "source": [
    "k3 = k2.merge(y0, how='left', on='cited_paper')\n",
    "k3.columns = ['cited_paper','year','count','cited_paper_pub_year','min_year']\n",
    "k3"
   ]
  },
  {
   "cell_type": "code",
   "execution_count": 17,
   "metadata": {},
   "outputs": [],
   "source": [
    "x1 = pd.DataFrame(columns=k3.columns, index=[0])\n",
    "\n",
    "\n",
    "for i in range(len(b)):\n",
    "    g = k3[(k3['cited_paper'] == b[i])]\n",
    "    g = g.reset_index().drop(columns='index')\n",
    "    \n",
    "    if g['min_year'][0] != g['cited_paper_pub_year'][0]:\n",
    "        \n",
    "        a0 = int(g['min_year'][0] - g['cited_paper_pub_year'][0])\n",
    "        x2 = pd.DataFrame(columns=k3.columns, index=[x for x in range(a0)])\n",
    "        \n",
    "        \n",
    "        for j in range(0, int(g['min_year'][0] - g['cited_paper_pub_year'][0])):\n",
    "            x2['cited_paper'][j] = g['cited_paper'][j]\n",
    "            x2['year'][j] = g['min_year'][0]-j-1\n",
    "            x2['count'][j] = 0\n",
    "            x2['cited_paper_pub_year'][j] = g['cited_paper_pub_year'][j]\n",
    "            x2['min_year'][j] = g['min_year'][j]\n",
    " \n",
    "        x1 = pd.concat([x1,g], ignore_index = True)\n",
    "        x1 = pd.concat([x1,x2], ignore_index = True)\n",
    "    \n",
    "    else:\n",
    "        x1 = pd.concat([x1,g], ignore_index = True)"
   ]
  },
  {
   "cell_type": "code",
   "execution_count": 18,
   "metadata": {},
   "outputs": [],
   "source": [
    "x1 = x1.dropna().sort_values(['cited_paper', 'year']).drop(columns='min_year')"
   ]
  },
  {
   "cell_type": "code",
   "execution_count": 19,
   "metadata": {},
   "outputs": [
    {
     "data": {
      "text/html": [
       "<div>\n",
       "<style scoped>\n",
       "    .dataframe tbody tr th:only-of-type {\n",
       "        vertical-align: middle;\n",
       "    }\n",
       "\n",
       "    .dataframe tbody tr th {\n",
       "        vertical-align: top;\n",
       "    }\n",
       "\n",
       "    .dataframe thead th {\n",
       "        text-align: right;\n",
       "    }\n",
       "</style>\n",
       "<table border=\"1\" class=\"dataframe\">\n",
       "  <thead>\n",
       "    <tr style=\"text-align: right;\">\n",
       "      <th></th>\n",
       "      <th>cited_paper</th>\n",
       "      <th>year</th>\n",
       "      <th>count</th>\n",
       "      <th>cited_paper_pub_year</th>\n",
       "    </tr>\n",
       "  </thead>\n",
       "  <tbody>\n",
       "    <tr>\n",
       "      <td>44740</td>\n",
       "      <td>10019696</td>\n",
       "      <td>1979</td>\n",
       "      <td>2</td>\n",
       "      <td>1979</td>\n",
       "    </tr>\n",
       "    <tr>\n",
       "      <td>44741</td>\n",
       "      <td>10019696</td>\n",
       "      <td>1980</td>\n",
       "      <td>16</td>\n",
       "      <td>1979</td>\n",
       "    </tr>\n",
       "    <tr>\n",
       "      <td>44742</td>\n",
       "      <td>10019696</td>\n",
       "      <td>1981</td>\n",
       "      <td>11</td>\n",
       "      <td>1979</td>\n",
       "    </tr>\n",
       "    <tr>\n",
       "      <td>44743</td>\n",
       "      <td>10019696</td>\n",
       "      <td>1982</td>\n",
       "      <td>18</td>\n",
       "      <td>1979</td>\n",
       "    </tr>\n",
       "    <tr>\n",
       "      <td>44744</td>\n",
       "      <td>10019696</td>\n",
       "      <td>1983</td>\n",
       "      <td>15</td>\n",
       "      <td>1979</td>\n",
       "    </tr>\n",
       "  </tbody>\n",
       "</table>\n",
       "</div>"
      ],
      "text/plain": [
       "      cited_paper  year count cited_paper_pub_year\n",
       "44740    10019696  1979     2                 1979\n",
       "44741    10019696  1980    16                 1979\n",
       "44742    10019696  1981    11                 1979\n",
       "44743    10019696  1982    18                 1979\n",
       "44744    10019696  1983    15                 1979"
      ]
     },
     "execution_count": 19,
     "metadata": {},
     "output_type": "execute_result"
    }
   ],
   "source": [
    "x1.head()"
   ]
  },
  {
   "cell_type": "markdown",
   "metadata": {},
   "source": [
    "### Apply van Raan's method to define individual publications as sleep beauty\n",
    "\n",
    "1. Sleep Duration s: at least 10 years after publication\n",
    "\n",
    "2. Citation Rate during Sleeping cs: between 0 and 1 \n",
    "\n",
    "3. Awakening Intensity cw: for the following 5 years after sleeping the intensity is larger than 5"
   ]
  },
  {
   "cell_type": "code",
   "execution_count": 21,
   "metadata": {},
   "outputs": [
    {
     "data": {
      "text/html": [
       "<div>\n",
       "<style scoped>\n",
       "    .dataframe tbody tr th:only-of-type {\n",
       "        vertical-align: middle;\n",
       "    }\n",
       "\n",
       "    .dataframe tbody tr th {\n",
       "        vertical-align: top;\n",
       "    }\n",
       "\n",
       "    .dataframe thead th {\n",
       "        text-align: right;\n",
       "    }\n",
       "</style>\n",
       "<table border=\"1\" class=\"dataframe\">\n",
       "  <thead>\n",
       "    <tr style=\"text-align: right;\">\n",
       "      <th></th>\n",
       "      <th>cited_paper</th>\n",
       "      <th>year</th>\n",
       "      <th>count</th>\n",
       "      <th>cited_paper_pub_year</th>\n",
       "    </tr>\n",
       "  </thead>\n",
       "  <tbody>\n",
       "    <tr>\n",
       "      <td>44740</td>\n",
       "      <td>10019696</td>\n",
       "      <td>1979</td>\n",
       "      <td>2</td>\n",
       "      <td>1979</td>\n",
       "    </tr>\n",
       "    <tr>\n",
       "      <td>44741</td>\n",
       "      <td>10019696</td>\n",
       "      <td>1980</td>\n",
       "      <td>16</td>\n",
       "      <td>1979</td>\n",
       "    </tr>\n",
       "    <tr>\n",
       "      <td>44742</td>\n",
       "      <td>10019696</td>\n",
       "      <td>1981</td>\n",
       "      <td>11</td>\n",
       "      <td>1979</td>\n",
       "    </tr>\n",
       "    <tr>\n",
       "      <td>44743</td>\n",
       "      <td>10019696</td>\n",
       "      <td>1982</td>\n",
       "      <td>18</td>\n",
       "      <td>1979</td>\n",
       "    </tr>\n",
       "    <tr>\n",
       "      <td>44744</td>\n",
       "      <td>10019696</td>\n",
       "      <td>1983</td>\n",
       "      <td>15</td>\n",
       "      <td>1979</td>\n",
       "    </tr>\n",
       "    <tr>\n",
       "      <td>...</td>\n",
       "      <td>...</td>\n",
       "      <td>...</td>\n",
       "      <td>...</td>\n",
       "      <td>...</td>\n",
       "    </tr>\n",
       "    <tr>\n",
       "      <td>24493</td>\n",
       "      <td>9847976</td>\n",
       "      <td>2014</td>\n",
       "      <td>35</td>\n",
       "      <td>1980</td>\n",
       "    </tr>\n",
       "    <tr>\n",
       "      <td>24494</td>\n",
       "      <td>9847976</td>\n",
       "      <td>2015</td>\n",
       "      <td>28</td>\n",
       "      <td>1980</td>\n",
       "    </tr>\n",
       "    <tr>\n",
       "      <td>24495</td>\n",
       "      <td>9847976</td>\n",
       "      <td>2016</td>\n",
       "      <td>46</td>\n",
       "      <td>1980</td>\n",
       "    </tr>\n",
       "    <tr>\n",
       "      <td>24496</td>\n",
       "      <td>9847976</td>\n",
       "      <td>2017</td>\n",
       "      <td>32</td>\n",
       "      <td>1980</td>\n",
       "    </tr>\n",
       "    <tr>\n",
       "      <td>24497</td>\n",
       "      <td>9847976</td>\n",
       "      <td>2018</td>\n",
       "      <td>35</td>\n",
       "      <td>1980</td>\n",
       "    </tr>\n",
       "  </tbody>\n",
       "</table>\n",
       "<p>54060 rows × 4 columns</p>\n",
       "</div>"
      ],
      "text/plain": [
       "      cited_paper  year count cited_paper_pub_year\n",
       "44740    10019696  1979     2                 1979\n",
       "44741    10019696  1980    16                 1979\n",
       "44742    10019696  1981    11                 1979\n",
       "44743    10019696  1982    18                 1979\n",
       "44744    10019696  1983    15                 1979\n",
       "...           ...   ...   ...                  ...\n",
       "24493     9847976  2014    35                 1980\n",
       "24494     9847976  2015    28                 1980\n",
       "24495     9847976  2016    46                 1980\n",
       "24496     9847976  2017    32                 1980\n",
       "24497     9847976  2018    35                 1980\n",
       "\n",
       "[54060 rows x 4 columns]"
      ]
     },
     "execution_count": 21,
     "metadata": {},
     "output_type": "execute_result"
    }
   ],
   "source": [
    "x1"
   ]
  },
  {
   "cell_type": "code",
   "execution_count": 37,
   "metadata": {},
   "outputs": [],
   "source": [
    "x = pd.DataFrame(columns=x1.columns)\n",
    "\n",
    "for i in range(len(b)):\n",
    "    g = x1[(x1['cited_paper'] == b[i])]\n",
    "    g = g.reset_index().drop(columns='index')\n",
    "    \n",
    "    j_max = 0\n",
    "    for j in range(10, len(g)):\n",
    "        if (g['count'][0:j].mean() <= 1) & (g['count'][0:j].mean() >= 0) & (g['count'][j+1:j+6].mean() >= 5):\n",
    "            j_max = j\n",
    "        \n",
    "    if j_max != 0:\n",
    "        x = pd.concat([x,g], ignore_index=True)"
   ]
  },
  {
   "cell_type": "code",
   "execution_count": 68,
   "metadata": {},
   "outputs": [],
   "source": [
    "x['cited_paper'] = x['cited_paper'].astype(int)"
   ]
  },
  {
   "cell_type": "code",
   "execution_count": 69,
   "metadata": {},
   "outputs": [
    {
     "data": {
      "text/plain": [
       "123"
      ]
     },
     "execution_count": 69,
     "metadata": {},
     "output_type": "execute_result"
    }
   ],
   "source": [
    "len(x.cited_paper.unique())"
   ]
  },
  {
   "cell_type": "code",
   "execution_count": 70,
   "metadata": {},
   "outputs": [
    {
     "data": {
      "text/plain": [
       "array([   24098349,    16094253,    20060819,     1581047,    21681627,\n",
       "          19608784,     2518210,     2420331, 34250256884,      771451,\n",
       "       84978092325, 33645921615,    18004847, 84948588467,    15200912,\n",
       "          15039994,     1316531,    15127532,    17024036,    17424014,\n",
       "          16521728,    20828868,    18456173, 84971791384,      619409,\n",
       "       84941155240,    19854870, 23544447930, 34848895767, 52449140068,\n",
       "          22715928, 51249187945, 84972893020,    25531716,    15989446,\n",
       "       34250285541,    20814501,    18175277,    17996501,    16810564,\n",
       "       49549151853,      605667,    15387804,    20969228,     2460135,\n",
       "          22823251, 84916547635,    19547652,    18104527,    18057468,\n",
       "       58149417330,      691940,    21758020, 35448975107,    19178773,\n",
       "       77956890234,    15980602,    15033920,    21162985, 84966221118,\n",
       "          20166653,    17919858,      846533,    21892216,     1652148,\n",
       "          23581045,     9094601, 36149045284,     1335714,      157861,\n",
       "       38249022894,    16925857,     1407946,    15844590,  2942611661,\n",
       "          22137907, 34250421484,    20752342,    19775751, 60349116832,\n",
       "          21919942,     1613187,    18024873,    18844027,  6244299654,\n",
       "          16626908, 84883572746,    11691848,    14811477, 85016554012,\n",
       "          22380522,    19148101, 33750445111,     1275037,    17973511,\n",
       "          19928260,    15330403,    19572642,    21841455,    17009905,\n",
       "           6407327, 38249004171, 36849099978,    21122597,    15754154,\n",
       "       77957064934, 33646099212,    17758250,  8744304034,    18041874,\n",
       "       33749522333, 12444261339,    16918810,    19037990,    19707513,\n",
       "       84921006141,    24870392, 36149048221,    24180859,    15209415,\n",
       "       33847674376, 58149208557,      930143])"
      ]
     },
     "execution_count": 70,
     "metadata": {},
     "output_type": "execute_result"
    }
   ],
   "source": [
    "x.cited_paper.unique()"
   ]
  },
  {
   "attachments": {
    "image.png": {
     "image/png": "[encoded data removed]"
    }
   },
   "cell_type": "markdown",
   "metadata": {},
   "source": [
    "### Apply Ke's method to define individual publications as sleep beauty\n",
    "\n",
    "![image.png](attachment:image.png)"
   ]
  },
  {
   "attachments": {
    "image.png": {
     "image/png": "[encoded data removed]"
    }
   },
   "cell_type": "markdown",
   "metadata": {},
   "source": [
    "![image.png](attachment:image.png)"
   ]
  },
  {
   "cell_type": "code",
   "execution_count": 158,
   "metadata": {},
   "outputs": [],
   "source": [
    "y = pd.DataFrame(x1.groupby(['cited_paper'])['count'].max().reset_index())"
   ]
  },
  {
   "cell_type": "code",
   "execution_count": 159,
   "metadata": {},
   "outputs": [],
   "source": [
    "x2 = x1.merge(y, how='left', on=['cited_paper'])\n",
    "x2.columns = ['cited_paper','year','count','cited_paper_pub_year','peak_count']"
   ]
  },
  {
   "cell_type": "code",
   "execution_count": 160,
   "metadata": {},
   "outputs": [],
   "source": [
    "y1 = x2[['cited_paper','year']][x2['count'] == x2['peak_count']].drop_duplicates(subset=['cited_paper'], keep = 'first')"
   ]
  },
  {
   "cell_type": "code",
   "execution_count": 161,
   "metadata": {},
   "outputs": [],
   "source": [
    "x3 = x2.merge(y1, how='right', on=['cited_paper'])\n",
    "x3.columns = ['cited_paper','year','count', 'cited_paper_pub_year','peak_count','peak_year']"
   ]
  },
  {
   "cell_type": "code",
   "execution_count": 162,
   "metadata": {},
   "outputs": [],
   "source": [
    "x3 = x3.reset_index().drop(columns='index')"
   ]
  },
  {
   "cell_type": "code",
   "execution_count": 163,
   "metadata": {},
   "outputs": [],
   "source": [
    "y2 = x3[['cited_paper','count']][x3['year'] == x3['cited_paper_pub_year']]"
   ]
  },
  {
   "cell_type": "code",
   "execution_count": 164,
   "metadata": {},
   "outputs": [],
   "source": [
    "x4 = x3.merge(y2, how='left', on=['cited_paper'])\n",
    "x4.columns = ['cited_paper','year','count', 'cited_paper_pub_year','peak_count','peak_year', 'pub_year_count']"
   ]
  },
  {
   "cell_type": "code",
   "execution_count": 165,
   "metadata": {},
   "outputs": [],
   "source": [
    "x4['max_1'] = 1\n",
    "x4['max_1_ct'] = x4[['count', 'max_1']].max(axis=1)"
   ]
  },
  {
   "cell_type": "code",
   "execution_count": 166,
   "metadata": {},
   "outputs": [],
   "source": [
    "x4['l_t'] = ((x4['peak_count'] - x4['pub_year_count'])/(x4['peak_year'] - x4['cited_paper_pub_year'])) * (x4['year'] - x4['cited_paper_pub_year']) + x4['pub_year_count']"
   ]
  },
  {
   "cell_type": "code",
   "execution_count": 167,
   "metadata": {},
   "outputs": [],
   "source": [
    "x4['sb'] = (x4['l_t'] - x4['count'])/x4['max_1_ct']"
   ]
  },
  {
   "cell_type": "code",
   "execution_count": 168,
   "metadata": {},
   "outputs": [],
   "source": [
    "x5 = x4[x4['peak_year'] >= x4['year']]"
   ]
  },
  {
   "cell_type": "code",
   "execution_count": 169,
   "metadata": {},
   "outputs": [],
   "source": [
    "sb = pd.DataFrame(x5.groupby(['cited_paper'])['sb'].sum())\n",
    "sb = sb.sort_values('sb', ascending=False).reset_index()"
   ]
  },
  {
   "cell_type": "code",
   "execution_count": 170,
   "metadata": {},
   "outputs": [],
   "source": [
    "sb['cited_paper'] = sb['cited_paper'].astype(int)"
   ]
  },
  {
   "cell_type": "code",
   "execution_count": 171,
   "metadata": {},
   "outputs": [
    {
     "data": {
      "text/plain": [
       "count    1398.000000\n",
       "mean      162.239037\n",
       "std       316.352916\n",
       "min        -6.868166\n",
       "25%        37.370422\n",
       "50%        82.113643\n",
       "75%       177.790976\n",
       "max      7623.566516\n",
       "Name: sb, dtype: float64"
      ]
     },
     "execution_count": 171,
     "metadata": {},
     "output_type": "execute_result"
    }
   ],
   "source": [
    "sb['sb'].describe()"
   ]
  },
  {
   "cell_type": "code",
   "execution_count": 232,
   "metadata": {},
   "outputs": [
    {
     "data": {
      "text/plain": [
       "1361"
      ]
     },
     "execution_count": 232,
     "metadata": {},
     "output_type": "execute_result"
    }
   ],
   "source": [
    "len(sb[sb['sb'] >= 0].cited_paper.unique())"
   ]
  },
  {
   "cell_type": "markdown",
   "metadata": {},
   "source": [
    "### Sleeping Beauty Identified by Ke and van Raan"
   ]
  },
  {
   "cell_type": "code",
   "execution_count": 303,
   "metadata": {},
   "outputs": [],
   "source": [
    "s = []\n",
    "\n",
    "for i in range(len(x.cited_paper.unique())):\n",
    "    if x.cited_paper.unique()[i] in (sb[sb['sb'] > sb['sb'].quantile(0.9)].cited_paper.unique()):\n",
    "        s.append(int(x.cited_paper.unique()[i]))"
   ]
  },
  {
   "cell_type": "code",
   "execution_count": 304,
   "metadata": {},
   "outputs": [
    {
     "data": {
      "text/plain": [
       "42"
      ]
     },
     "execution_count": 304,
     "metadata": {},
     "output_type": "execute_result"
    }
   ],
   "source": [
    "len(s)"
   ]
  },
  {
   "cell_type": "code",
   "execution_count": 305,
   "metadata": {},
   "outputs": [
    {
     "data": {
      "text/plain": [
       "[21681627,\n",
       " 2420331,\n",
       " 771451,\n",
       " 15039994,\n",
       " 1316531,\n",
       " 15127532,\n",
       " 17024036,\n",
       " 84941155240,\n",
       " 34848895767,\n",
       " 22715928,\n",
       " 84972893020,\n",
       " 18175277,\n",
       " 17996501,\n",
       " 16810564,\n",
       " 19547652,\n",
       " 58149417330,\n",
       " 35448975107,\n",
       " 77956890234,\n",
       " 15980602,\n",
       " 84966221118,\n",
       " 17919858,\n",
       " 36149045284,\n",
       " 16925857,\n",
       " 15844590,\n",
       " 2942611661,\n",
       " 34250421484,\n",
       " 20752342,\n",
       " 6244299654,\n",
       " 16626908,\n",
       " 11691848,\n",
       " 14811477,\n",
       " 19148101,\n",
       " 33750445111,\n",
       " 17973511,\n",
       " 36849099978,\n",
       " 33646099212,\n",
       " 18041874,\n",
       " 33749522333,\n",
       " 16918810,\n",
       " 36149048221,\n",
       " 15209415,\n",
       " 930143]"
      ]
     },
     "execution_count": 305,
     "metadata": {},
     "output_type": "execute_result"
    }
   ],
   "source": [
    "s"
   ]
  },
  {
   "cell_type": "markdown",
   "metadata": {},
   "source": [
    "### Check Pairs that Contains SB Individual Publications"
   ]
  },
  {
   "cell_type": "code",
   "execution_count": 318,
   "metadata": {},
   "outputs": [],
   "source": [
    "p = pd.read_sql('SELECT * FROM sleep_beauty_pairs_table_complete', conn)\n",
    "p = p.sort_values(['cited_1','cited_2','co_cited_year']).reset_index().drop(columns='index')"
   ]
  },
  {
   "cell_type": "code",
   "execution_count": 319,
   "metadata": {},
   "outputs": [],
   "source": [
    "l = list([p['cited_1'], p['cited_2'], p['co_cited_year']])"
   ]
  },
  {
   "cell_type": "code",
   "execution_count": 320,
   "metadata": {},
   "outputs": [],
   "source": [
    "l_new = [[],[],[]]\n",
    "\n",
    "for i in range(len(l[0])-1):\n",
    "    if (l[0][i] == l[0][i+1]) & (l[1][i] == l[1][i+1]):\n",
    "        if l[2][i+1] - l[2][i] > 1:\n",
    "            l_new[0].append(l[0][i])\n",
    "            l_new[1].append(l[1][i])\n",
    "            l_new[2].append(l[2][i])\n",
    "            for j in range(1, (l[2][i+1] - l[2][i])):\n",
    "                l_new[0].append(l[0][i])\n",
    "                l_new[1].append(l[1][i])\n",
    "                l_new[2].append(l[2][i]+j)\n",
    "\n",
    "        else:\n",
    "            l_new[0].append(l[0][i])\n",
    "            l_new[1].append(l[1][i])\n",
    "            l_new[2].append(l[2][i])\n",
    "        \n",
    "    else:\n",
    "        l_new[0].append(l[0][i])\n",
    "        l_new[1].append(l[1][i])\n",
    "        l_new[2].append(l[2][i])\n",
    "        \n",
    "    if i == (len(l[0])-1):\n",
    "        l_new[0].append(l[0][i+1])\n",
    "        l_new[1].append(l[1][i+1])\n",
    "        l_new[2].append(l[2][i+1])\n"
   ]
  },
  {
   "cell_type": "code",
   "execution_count": 321,
   "metadata": {},
   "outputs": [],
   "source": [
    "d = pd.DataFrame({'cited_1':l_new[0], 'cited_2':l_new[1], 'co_cited_year':l_new[2]})"
   ]
  },
  {
   "cell_type": "code",
   "execution_count": 322,
   "metadata": {},
   "outputs": [],
   "source": [
    "d1 = d.merge(p, how='left', on=['cited_1', 'cited_2', 'co_cited_year'])"
   ]
  },
  {
   "cell_type": "code",
   "execution_count": 323,
   "metadata": {},
   "outputs": [
    {
     "name": "stderr",
     "output_type": "stream",
     "text": [
      "/opt/anaconda3/lib/python3.7/site-packages/ipykernel_launcher.py:3: SettingWithCopyWarning: \n",
      "A value is trying to be set on a copy of a slice from a DataFrame\n",
      "\n",
      "See the caveats in the documentation: http://pandas.pydata.org/pandas-docs/stable/user_guide/indexing.html#returning-a-view-versus-a-copy\n",
      "  This is separate from the ipykernel package so we can avoid doing imports until\n",
      "/opt/anaconda3/lib/python3.7/site-packages/ipykernel_launcher.py:5: SettingWithCopyWarning: \n",
      "A value is trying to be set on a copy of a slice from a DataFrame\n",
      "\n",
      "See the caveats in the documentation: http://pandas.pydata.org/pandas-docs/stable/user_guide/indexing.html#returning-a-view-versus-a-copy\n",
      "  \"\"\"\n",
      "/opt/anaconda3/lib/python3.7/site-packages/ipykernel_launcher.py:7: SettingWithCopyWarning: \n",
      "A value is trying to be set on a copy of a slice from a DataFrame\n",
      "\n",
      "See the caveats in the documentation: http://pandas.pydata.org/pandas-docs/stable/user_guide/indexing.html#returning-a-view-versus-a-copy\n",
      "  import sys\n"
     ]
    }
   ],
   "source": [
    "for i in range(len(d1)):\n",
    "    if math.isnan(d1['co_citations'][i]):\n",
    "        d1['co_citations'][i] = 0\n",
    "    if math.isnan(d1['cited_1_pub_year'][i]):\n",
    "        d1['cited_1_pub_year'][i] = d1['cited_1_pub_year'][i-1]\n",
    "    if math.isnan(d1['cited_2_pub_year'][i]):\n",
    "        d1['cited_2_pub_year'][i] = d1['cited_2_pub_year'][i-1]"
   ]
  },
  {
   "cell_type": "code",
   "execution_count": 324,
   "metadata": {},
   "outputs": [
    {
     "name": "stderr",
     "output_type": "stream",
     "text": [
      "/opt/anaconda3/lib/python3.7/site-packages/ipykernel_launcher.py:5: SettingWithCopyWarning: \n",
      "A value is trying to be set on a copy of a slice from a DataFrame\n",
      "\n",
      "See the caveats in the documentation: http://pandas.pydata.org/pandas-docs/stable/user_guide/indexing.html#returning-a-view-versus-a-copy\n",
      "  \"\"\"\n",
      "/opt/anaconda3/lib/python3.7/site-packages/ipykernel_launcher.py:7: SettingWithCopyWarning: \n",
      "A value is trying to be set on a copy of a slice from a DataFrame\n",
      "\n",
      "See the caveats in the documentation: http://pandas.pydata.org/pandas-docs/stable/user_guide/indexing.html#returning-a-view-versus-a-copy\n",
      "  import sys\n"
     ]
    }
   ],
   "source": [
    "d1['first_possible_year'] = ''\n",
    "\n",
    "for i in range(len(d1)):\n",
    "    if d1['cited_1_pub_year'][i] >= d1['cited_2_pub_year'][i]:\n",
    "        d1['first_possible_year'][i] = d1['cited_1_pub_year'][i]\n",
    "    elif d1['cited_1_pub_year'][i] < d1['cited_2_pub_year'][i]:\n",
    "        d1['first_possible_year'][i] = d1['cited_2_pub_year'][i]"
   ]
  },
  {
   "cell_type": "code",
   "execution_count": 325,
   "metadata": {},
   "outputs": [],
   "source": [
    "d1['cited_1'] = d1['cited_1'].astype(int)\n",
    "d1['cited_2'] = d1['cited_2'].astype(int)"
   ]
  },
  {
   "cell_type": "code",
   "execution_count": 326,
   "metadata": {},
   "outputs": [
    {
     "data": {
      "text/html": [
       "<div>\n",
       "<style scoped>\n",
       "    .dataframe tbody tr th:only-of-type {\n",
       "        vertical-align: middle;\n",
       "    }\n",
       "\n",
       "    .dataframe tbody tr th {\n",
       "        vertical-align: top;\n",
       "    }\n",
       "\n",
       "    .dataframe thead th {\n",
       "        text-align: right;\n",
       "    }\n",
       "</style>\n",
       "<table border=\"1\" class=\"dataframe\">\n",
       "  <thead>\n",
       "    <tr style=\"text-align: right;\">\n",
       "      <th></th>\n",
       "      <th>cited_1</th>\n",
       "      <th>cited_2</th>\n",
       "      <th>co_cited_year</th>\n",
       "      <th>co_citations</th>\n",
       "      <th>cited_1_pub_year</th>\n",
       "      <th>cited_2_pub_year</th>\n",
       "      <th>first_possible_year</th>\n",
       "    </tr>\n",
       "  </thead>\n",
       "  <tbody>\n",
       "    <tr>\n",
       "      <td>0</td>\n",
       "      <td>10019696</td>\n",
       "      <td>35348875044</td>\n",
       "      <td>1979</td>\n",
       "      <td>1.0</td>\n",
       "      <td>1979.0</td>\n",
       "      <td>1972.0</td>\n",
       "      <td>1979</td>\n",
       "    </tr>\n",
       "    <tr>\n",
       "      <td>1</td>\n",
       "      <td>10019696</td>\n",
       "      <td>35348875044</td>\n",
       "      <td>1980</td>\n",
       "      <td>4.0</td>\n",
       "      <td>1979.0</td>\n",
       "      <td>1972.0</td>\n",
       "      <td>1979</td>\n",
       "    </tr>\n",
       "    <tr>\n",
       "      <td>2</td>\n",
       "      <td>10019696</td>\n",
       "      <td>35348875044</td>\n",
       "      <td>1981</td>\n",
       "      <td>4.0</td>\n",
       "      <td>1979.0</td>\n",
       "      <td>1972.0</td>\n",
       "      <td>1979</td>\n",
       "    </tr>\n",
       "    <tr>\n",
       "      <td>3</td>\n",
       "      <td>10019696</td>\n",
       "      <td>35348875044</td>\n",
       "      <td>1982</td>\n",
       "      <td>5.0</td>\n",
       "      <td>1979.0</td>\n",
       "      <td>1972.0</td>\n",
       "      <td>1979</td>\n",
       "    </tr>\n",
       "    <tr>\n",
       "      <td>4</td>\n",
       "      <td>10019696</td>\n",
       "      <td>35348875044</td>\n",
       "      <td>1983</td>\n",
       "      <td>1.0</td>\n",
       "      <td>1979.0</td>\n",
       "      <td>1972.0</td>\n",
       "      <td>1979</td>\n",
       "    </tr>\n",
       "  </tbody>\n",
       "</table>\n",
       "</div>"
      ],
      "text/plain": [
       "    cited_1      cited_2  co_cited_year  co_citations  cited_1_pub_year  \\\n",
       "0  10019696  35348875044           1979           1.0            1979.0   \n",
       "1  10019696  35348875044           1980           4.0            1979.0   \n",
       "2  10019696  35348875044           1981           4.0            1979.0   \n",
       "3  10019696  35348875044           1982           5.0            1979.0   \n",
       "4  10019696  35348875044           1983           1.0            1979.0   \n",
       "\n",
       "   cited_2_pub_year first_possible_year  \n",
       "0            1972.0                1979  \n",
       "1            1972.0                1979  \n",
       "2            1972.0                1979  \n",
       "3            1972.0                1979  \n",
       "4            1972.0                1979  "
      ]
     },
     "execution_count": 326,
     "metadata": {},
     "output_type": "execute_result"
    }
   ],
   "source": [
    "d1.head()"
   ]
  },
  {
   "cell_type": "code",
   "execution_count": 327,
   "metadata": {},
   "outputs": [],
   "source": [
    "data = pd.DataFrame(d1.groupby(['cited_1','cited_2']).size()).reset_index().drop(columns=0)"
   ]
  },
  {
   "cell_type": "code",
   "execution_count": 328,
   "metadata": {},
   "outputs": [],
   "source": [
    "x1 = pd.DataFrame(columns=d1.columns, index=[0])\n",
    "\n",
    "\n",
    "for i in range(len(data)):\n",
    "    g = d1[(d1['cited_1'] == data['cited_1'][i]) & (d1['cited_2'] == data['cited_2'][i])]\n",
    "    g = g.reset_index().drop(columns='index')\n",
    "    \n",
    "    if g['first_possible_year'][0] != g['co_cited_year'][0]:\n",
    "        \n",
    "        a1 = int(g['first_possible_year'][0] - g['co_cited_year'][0])\n",
    "        x2 = pd.DataFrame(columns=d1.columns, index=[x for x in range(a1)])\n",
    "        \n",
    "        \n",
    "        for j in range(0, int(g['first_possible_year'][0] - g['co_cited_year'][0])):\n",
    "            x2['cited_1'][j] = g['cited_1'][j]\n",
    "            x2['cited_2'][j] = g['cited_2'][j]\n",
    "            x2['co_cited_year'][j] = g['first_possible_year'][0]-j-1\n",
    "            x2['co_citations'][j] = 0\n",
    "            x2['cited_1_pub_year'][j] = g['cited_1_pub_year'][j]\n",
    "            x2['cited_2_pub_year'][j] = g['cited_2_pub_year'][j]\n",
    "            x2['first_possible_year'][j] = g['first_possible_year'][j]\n",
    " \n",
    "        x1 = pd.concat([x1,g], ignore_index = True)\n",
    "        x1 = pd.concat([x1,x2], ignore_index = True)\n",
    "    \n",
    "    else:\n",
    "        x1 = pd.concat([x1,g], ignore_index = True)"
   ]
  },
  {
   "cell_type": "code",
   "execution_count": 329,
   "metadata": {},
   "outputs": [],
   "source": [
    "x1 = x1.dropna()\n",
    "x1 = x1.reset_index().drop(columns='index')"
   ]
  },
  {
   "cell_type": "code",
   "execution_count": 330,
   "metadata": {},
   "outputs": [
    {
     "data": {
      "text/html": [
       "<div>\n",
       "<style scoped>\n",
       "    .dataframe tbody tr th:only-of-type {\n",
       "        vertical-align: middle;\n",
       "    }\n",
       "\n",
       "    .dataframe tbody tr th {\n",
       "        vertical-align: top;\n",
       "    }\n",
       "\n",
       "    .dataframe thead th {\n",
       "        text-align: right;\n",
       "    }\n",
       "</style>\n",
       "<table border=\"1\" class=\"dataframe\">\n",
       "  <thead>\n",
       "    <tr style=\"text-align: right;\">\n",
       "      <th></th>\n",
       "      <th>cited_1</th>\n",
       "      <th>cited_2</th>\n",
       "      <th>co_cited_year</th>\n",
       "      <th>co_citations</th>\n",
       "      <th>cited_1_pub_year</th>\n",
       "      <th>cited_2_pub_year</th>\n",
       "      <th>first_possible_year</th>\n",
       "    </tr>\n",
       "  </thead>\n",
       "  <tbody>\n",
       "    <tr>\n",
       "      <td>0</td>\n",
       "      <td>6297</td>\n",
       "      <td>84976779342</td>\n",
       "      <td>1994</td>\n",
       "      <td>2</td>\n",
       "      <td>1978</td>\n",
       "      <td>1980</td>\n",
       "      <td>1980</td>\n",
       "    </tr>\n",
       "    <tr>\n",
       "      <td>1</td>\n",
       "      <td>6297</td>\n",
       "      <td>84976779342</td>\n",
       "      <td>1995</td>\n",
       "      <td>2</td>\n",
       "      <td>1978</td>\n",
       "      <td>1980</td>\n",
       "      <td>1980</td>\n",
       "    </tr>\n",
       "    <tr>\n",
       "      <td>2</td>\n",
       "      <td>6297</td>\n",
       "      <td>84976779342</td>\n",
       "      <td>1996</td>\n",
       "      <td>1</td>\n",
       "      <td>1978</td>\n",
       "      <td>1980</td>\n",
       "      <td>1980</td>\n",
       "    </tr>\n",
       "    <tr>\n",
       "      <td>3</td>\n",
       "      <td>6297</td>\n",
       "      <td>84976779342</td>\n",
       "      <td>1997</td>\n",
       "      <td>2</td>\n",
       "      <td>1978</td>\n",
       "      <td>1980</td>\n",
       "      <td>1980</td>\n",
       "    </tr>\n",
       "    <tr>\n",
       "      <td>4</td>\n",
       "      <td>6297</td>\n",
       "      <td>84976779342</td>\n",
       "      <td>1998</td>\n",
       "      <td>1</td>\n",
       "      <td>1978</td>\n",
       "      <td>1980</td>\n",
       "      <td>1980</td>\n",
       "    </tr>\n",
       "  </tbody>\n",
       "</table>\n",
       "</div>"
      ],
      "text/plain": [
       "  cited_1      cited_2 co_cited_year co_citations cited_1_pub_year  \\\n",
       "0    6297  84976779342          1994            2             1978   \n",
       "1    6297  84976779342          1995            2             1978   \n",
       "2    6297  84976779342          1996            1             1978   \n",
       "3    6297  84976779342          1997            2             1978   \n",
       "4    6297  84976779342          1998            1             1978   \n",
       "\n",
       "  cited_2_pub_year first_possible_year  \n",
       "0             1980                1980  \n",
       "1             1980                1980  \n",
       "2             1980                1980  \n",
       "3             1980                1980  \n",
       "4             1980                1980  "
      ]
     },
     "execution_count": 330,
     "metadata": {},
     "output_type": "execute_result"
    }
   ],
   "source": [
    "x1.head()"
   ]
  },
  {
   "cell_type": "code",
   "execution_count": 331,
   "metadata": {},
   "outputs": [
    {
     "name": "stderr",
     "output_type": "stream",
     "text": [
      "/opt/anaconda3/lib/python3.7/site-packages/ipykernel_launcher.py:11: SettingWithCopyWarning: \n",
      "A value is trying to be set on a copy of a slice from a DataFrame\n",
      "\n",
      "See the caveats in the documentation: http://pandas.pydata.org/pandas-docs/stable/user_guide/indexing.html#returning-a-view-versus-a-copy\n",
      "  # This is added back by InteractiveShellApp.init_path()\n",
      "/opt/anaconda3/lib/python3.7/site-packages/ipykernel_launcher.py:7: SettingWithCopyWarning: \n",
      "A value is trying to be set on a copy of a slice from a DataFrame\n",
      "\n",
      "See the caveats in the documentation: http://pandas.pydata.org/pandas-docs/stable/user_guide/indexing.html#returning-a-view-versus-a-copy\n",
      "  import sys\n",
      "/opt/anaconda3/lib/python3.7/site-packages/ipykernel_launcher.py:5: SettingWithCopyWarning: \n",
      "A value is trying to be set on a copy of a slice from a DataFrame\n",
      "\n",
      "See the caveats in the documentation: http://pandas.pydata.org/pandas-docs/stable/user_guide/indexing.html#returning-a-view-versus-a-copy\n",
      "  \"\"\"\n",
      "/opt/anaconda3/lib/python3.7/site-packages/ipykernel_launcher.py:9: SettingWithCopyWarning: \n",
      "A value is trying to be set on a copy of a slice from a DataFrame\n",
      "\n",
      "See the caveats in the documentation: http://pandas.pydata.org/pandas-docs/stable/user_guide/indexing.html#returning-a-view-versus-a-copy\n",
      "  if __name__ == '__main__':\n"
     ]
    }
   ],
   "source": [
    "data['number_of_sb'] = ''\n",
    "\n",
    "for i in range(len(data)):\n",
    "    if data['cited_1'][i] in s and data['cited_2'][i] not in s:\n",
    "        data['number_of_sb'][i] = 1\n",
    "    elif data['cited_1'][i] not in s and data['cited_2'][i] in s:\n",
    "        data['number_of_sb'][i] = 1 \n",
    "    elif data['cited_1'][i] in s and data['cited_2'][i] in s:\n",
    "        data['number_of_sb'][i] = 2\n",
    "    elif data['cited_1'][i] not in s and data['cited_2'][i] not in s:\n",
    "        data['number_of_sb'][i] = 0"
   ]
  },
  {
   "cell_type": "code",
   "execution_count": 332,
   "metadata": {},
   "outputs": [
    {
     "data": {
      "text/html": [
       "<div>\n",
       "<style scoped>\n",
       "    .dataframe tbody tr th:only-of-type {\n",
       "        vertical-align: middle;\n",
       "    }\n",
       "\n",
       "    .dataframe tbody tr th {\n",
       "        vertical-align: top;\n",
       "    }\n",
       "\n",
       "    .dataframe thead th {\n",
       "        text-align: right;\n",
       "    }\n",
       "</style>\n",
       "<table border=\"1\" class=\"dataframe\">\n",
       "  <thead>\n",
       "    <tr style=\"text-align: right;\">\n",
       "      <th></th>\n",
       "      <th>cited_1</th>\n",
       "      <th>cited_2</th>\n",
       "    </tr>\n",
       "    <tr>\n",
       "      <th>number_of_sb</th>\n",
       "      <th></th>\n",
       "      <th></th>\n",
       "    </tr>\n",
       "  </thead>\n",
       "  <tbody>\n",
       "    <tr>\n",
       "      <td>0</td>\n",
       "      <td>1308</td>\n",
       "      <td>1308</td>\n",
       "    </tr>\n",
       "    <tr>\n",
       "      <td>1</td>\n",
       "      <td>65</td>\n",
       "      <td>65</td>\n",
       "    </tr>\n",
       "    <tr>\n",
       "      <td>2</td>\n",
       "      <td>7</td>\n",
       "      <td>7</td>\n",
       "    </tr>\n",
       "  </tbody>\n",
       "</table>\n",
       "</div>"
      ],
      "text/plain": [
       "              cited_1  cited_2\n",
       "number_of_sb                  \n",
       "0                1308     1308\n",
       "1                  65       65\n",
       "2                   7        7"
      ]
     },
     "execution_count": 332,
     "metadata": {},
     "output_type": "execute_result"
    }
   ],
   "source": [
    "data.groupby(['number_of_sb']).count()"
   ]
  },
  {
   "cell_type": "code",
   "execution_count": null,
   "metadata": {},
   "outputs": [],
   "source": []
  },
  {
   "cell_type": "code",
   "execution_count": null,
   "metadata": {},
   "outputs": [],
   "source": []
  }
 ],
 "metadata": {
  "kernelspec": {
   "display_name": "Python 3",
   "language": "python",
   "name": "python3"
  },
  "language_info": {
   "codemirror_mode": {
    "name": "ipython",
    "version": 3
   },
   "file_extension": ".py",
   "mimetype": "text/x-python",
   "name": "python",
   "nbconvert_exporter": "python",
   "pygments_lexer": "ipython3",
   "version": "3.7.4"
  }
 },
 "nbformat": 4,
 "nbformat_minor": 2
}
