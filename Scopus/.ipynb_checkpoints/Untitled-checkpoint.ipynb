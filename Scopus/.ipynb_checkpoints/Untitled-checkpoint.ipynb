{
 "cells": [
  {
   "cell_type": "code",
   "execution_count": 9,
   "metadata": {},
   "outputs": [
    {
     "ename": "NameError",
     "evalue": "name 'FW_Scopus_Data_available_for_downloading' is not defined",
     "output_type": "error",
     "traceback": [
      "\u001b[0;31m---------------------------------------------------------------------------\u001b[0m",
      "\u001b[0;31mNameError\u001b[0m                                 Traceback (most recent call last)",
      "\u001b[0;32m<ipython-input-9-68d6181f173d>\u001b[0m in \u001b[0;36m<module>\u001b[0;34m\u001b[0m\n\u001b[1;32m      3\u001b[0m \u001b[0;32mimport\u001b[0m \u001b[0memail\u001b[0m\u001b[0;34m\u001b[0m\u001b[0;34m\u001b[0m\u001b[0m\n\u001b[1;32m      4\u001b[0m \u001b[0;34m\u001b[0m\u001b[0m\n\u001b[0;32m----> 5\u001b[0;31m \u001b[0;32mwith\u001b[0m \u001b[0mopen\u001b[0m\u001b[0;34m(\u001b[0m\u001b[0mFW_Scopus_Data_available_for_downloading\u001b[0m\u001b[0;34m.\u001b[0m\u001b[0meml\u001b[0m\u001b[0;34m,\u001b[0m \u001b[0;34m'r'\u001b[0m\u001b[0;34m)\u001b[0m \u001b[0;32mas\u001b[0m \u001b[0memail_msg\u001b[0m\u001b[0;34m:\u001b[0m\u001b[0;34m\u001b[0m\u001b[0;34m\u001b[0m\u001b[0m\n\u001b[0m\u001b[1;32m      6\u001b[0m     \u001b[0memail_msg\u001b[0m \u001b[0;34m=\u001b[0m \u001b[0memail\u001b[0m\u001b[0;34m.\u001b[0m\u001b[0mparse\u001b[0m\u001b[0;34m(\u001b[0m\u001b[0memail_msg\u001b[0m\u001b[0;34m,\u001b[0m \u001b[0mpolicy\u001b[0m\u001b[0;34m=\u001b[0m\u001b[0mdefault\u001b[0m\u001b[0;34m)\u001b[0m\u001b[0;34m\u001b[0m\u001b[0;34m\u001b[0m\u001b[0m\n\u001b[1;32m      7\u001b[0m \u001b[0;34m\u001b[0m\u001b[0m\n",
      "\u001b[0;31mNameError\u001b[0m: name 'FW_Scopus_Data_available_for_downloading' is not defined"
     ]
    }
   ],
   "source": [
    "## store email \n",
    "\n",
    "import email \n",
    "\n",
    "with open(FW_Scopus_Data_available_for_downloading.eml, 'r') as email_msg:\n",
    "    email_msg = email.parse(email_msg, policy=default)\n",
    "\n",
    "\n",
    "direct= \"/Users/djamillakhdar-hamina/Desktop\""
   ]
  },
  {
   "cell_type": "code",
   "execution_count": null,
   "metadata": {},
   "outputs": [],
   "source": [
    "def email_parser():\n",
    "    \"\"\"\n",
    "    Assumptions:\n",
    "\n",
    "    Given an email, read the email, then scan it for url.\n",
    "    If url is found, download, rename, and then save to specified directory.\n",
    "\n",
    "    Arguments: email_message and default directory= /Scopus\n",
    "\n",
    "    Input: email_message with forwarded emails called pmt_content because that is the property name given by Jenkins when you call as variable to be executed in process\n",
    "    Output: A group of zip files, renamed, and stored in specified directory called /Scopus\n",
    "\n",
    "    :return:\n",
    "    \"\"\"\n",
    "\n",
    "    parser = ArgumentParser\n",
    "    parser.add_argument('-p', '--pmt_content', required=True,\n",
    "                        help=\"\"\"email message that will get parsed for url-link and zip-file\"\"\")\n",
    "    parser.add_argument('-d','--directory', required=True, help=\"\"\"specified directory for zip-file\"\"\")#\n",
    "    args = parser.parse_args()\n",
    "\n",
    "    ## Open email, fortunately the parse function will treat attachments, essentially, as part of (an instance) of the MIME or email data-structure.\n",
    "    ## with open(args.pmt_content, 'r') as email_msg:\n",
    "    ##    msg = email.parse(email_msg, policy=default)\n",
    "\n",
    "    ## Scan emails for url and store the url(s) in a list\n",
    "    msg= re.findall('https://\\S*', msg)\n",
    "    for url_link in msg.walk():\n",
    "        if url_link != re.search('nete.*CITEDBY.zip', url_link):\n",
    "    ## Go through list of links, rename\n",
    "            request = urllib.urlrequest(url)\n",
    "            scopus_update_zip_file = zipfile.ZipFile(request)\n",
    "            scopus_update_zip_file.filename = temp[0].split('/')[2] = re.search('nete.*ANI.*zip',links)\n",
    "    ## Now store them in specified directory\n",
    "            os.path.join(args.directory, scopus_update_zip_file)\n"
   ]
  },
  {
   "cell_type": "code",
   "execution_count": 11,
   "metadata": {},
   "outputs": [
    {
     "ename": "IndentationError",
     "evalue": "unindent does not match any outer indentation level (<tokenize>, line 7)",
     "output_type": "error",
     "traceback": [
      "\u001b[0;36m  File \u001b[0;32m\"<tokenize>\"\u001b[0;36m, line \u001b[0;32m7\u001b[0m\n\u001b[0;31m    msg= re.findall('https://\\S*', msg)\u001b[0m\n\u001b[0m    ^\u001b[0m\n\u001b[0;31mIndentationError\u001b[0m\u001b[0;31m:\u001b[0m unindent does not match any outer indentation level\n"
     ]
    }
   ],
   "source": [
    "def email_parser(pmt_content, directory):\n",
    "\n",
    "    ##with open(pmt_content, 'r') as email_msg:\n",
    "    ##   msg = email.parse(email_msg, policy=default)\n",
    "\n",
    "    ## Scan emails for url and store the url(s) in a list\n",
    "    msg= re.findall('https://\\S*', msg)\n",
    "    for url_link in msg.walk():\n",
    "        if url_link != re.search('nete.*CITEDBY.zip', url_link):\n",
    "    ## Go through list of links, rename\n",
    "            request = urllib.urlrequest(url)\n",
    "            scopus_update_zip_file = zipfile.ZipFile(request)\n",
    "            scopus_update_zip_file.filename = temp[0].split('/')[2] = re.search('nete.*ANI.*zip',links)\n",
    "    ## Now store them in specified directory\n",
    "            os.path.join(directory, scopus_update_zip_file)"
   ]
  },
  {
   "cell_type": "markdown",
   "metadata": {},
   "source": []
  }
 ],
 "metadata": {
  "kernelspec": {
   "display_name": "Python 3",
   "language": "python",
   "name": "python3"
  },
  "language_info": {
   "codemirror_mode": {
    "name": "ipython",
    "version": 3
   },
   "file_extension": ".py",
   "mimetype": "text/x-python",
   "name": "python",
   "nbconvert_exporter": "python",
   "pygments_lexer": "ipython3",
   "version": "3.7.3"
  }
 },
 "nbformat": 4,
 "nbformat_minor": 2
}
